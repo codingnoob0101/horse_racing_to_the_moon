{
 "cells": [
  {
   "cell_type": "code",
   "execution_count": 1,
   "id": "d7364d2c",
   "metadata": {},
   "outputs": [],
   "source": [
    "import pandas as pd\n",
    "import numpy as np\n",
    "from catboost import CatBoostRanker, Pool\n",
    "from sklearn.model_selection import train_test_split\n",
    "from sklearn.impute import SimpleImputer\n",
    "from sklearn.metrics import ndcg_score"
   ]
  },
  {
   "cell_type": "code",
   "execution_count": 2,
   "id": "5bc4c3dc",
   "metadata": {},
   "outputs": [],
   "source": [
    "df = pd.read_csv('../data/cleaned_data_new.csv')"
   ]
  },
  {
   "cell_type": "code",
   "execution_count": 3,
   "id": "9eef3890",
   "metadata": {},
   "outputs": [],
   "source": [
    "df['Date'] = pd.to_datetime(df['Date'], errors = 'coerce')"
   ]
  },
  {
   "cell_type": "code",
   "execution_count": 4,
   "id": "a5b20ae5",
   "metadata": {},
   "outputs": [],
   "source": [
    "def temporal_cv_split(df, n_splits=5):\n",
    "    df_sorted = df.sort_values('Date')\n",
    "    unique_races = df_sorted['race_index'].unique()\n",
    "    \n",
    "    fold_size = len(unique_races) // (n_splits + 1)\n",
    "    \n",
    "    for i in range(n_splits):\n",
    "        train_end = (i + 1) * fold_size\n",
    "        val_start = train_end\n",
    "        val_end = train_end + fold_size\n",
    "        \n",
    "        train_races = unique_races[:train_end]\n",
    "        val_races = unique_races[val_start:val_end]\n",
    "        \n",
    "        yield train_races, val_races"
   ]
  },
  {
   "cell_type": "markdown",
   "id": "b94213b3",
   "metadata": {},
   "source": [
    "# spliting train, val, test"
   ]
  },
  {
   "cell_type": "code",
   "execution_count": 5,
   "id": "45f4a7f2",
   "metadata": {},
   "outputs": [
    {
     "name": "stdout",
     "output_type": "stream",
     "text": [
      "2020-09-06 00:00:00\n",
      "2025-07-16 00:00:00\n"
     ]
    }
   ],
   "source": [
    "print(df['Date'].min())\n",
    "print(df['Date'].max())"
   ]
  },
  {
   "cell_type": "code",
   "execution_count": 6,
   "id": "4754c7d8",
   "metadata": {},
   "outputs": [],
   "source": [
    "# train test split\n",
    "min_date = pd.to_datetime(df['Date'].min())\n",
    "max_date = pd.to_datetime(df['Date'].max())\n",
    "\n",
    "total_days = (max_date - min_date).days\n",
    "cutoff_days = int(total_days * 0.8)\n",
    "cutoff_date = min_date + pd.Timedelta(days=cutoff_days)\n",
    "\n",
    "train_df = df[df['Date'] <= cutoff_date]\n",
    "test_df = df[df['Date'] > cutoff_date]\n"
   ]
  },
  {
   "cell_type": "code",
   "execution_count": 7,
   "id": "9d14c163",
   "metadata": {},
   "outputs": [
    {
     "name": "stdout",
     "output_type": "stream",
     "text": [
      "2020-09-06 00:00:00\n",
      "2024-07-14 00:00:00\n"
     ]
    }
   ],
   "source": [
    "print(train_df['Date'].min())\n",
    "print(train_df['Date'].max())"
   ]
  },
  {
   "cell_type": "code",
   "execution_count": 8,
   "id": "b00a0d66",
   "metadata": {},
   "outputs": [],
   "source": [
    "# train validation split\n",
    "min_date = pd.to_datetime(train_df['Date'].min())\n",
    "max_date = pd.to_datetime(train_df['Date'].max())\n",
    "\n",
    "total_days = (max_date - min_date).days\n",
    "cutoff_days = int(total_days * 0.8)\n",
    "cutoff_date = min_date + pd.Timedelta(days = cutoff_days)\n",
    "\n",
    "val_df = train_df[train_df['Date'] > cutoff_date]\n",
    "train_df = train_df[train_df['Date'] <= cutoff_date]"
   ]
  },
  {
   "cell_type": "code",
   "execution_count": 9,
   "id": "6742285a",
   "metadata": {},
   "outputs": [
    {
     "data": {
      "text/plain": [
       "Index(['Date', 'race_index', 'RaceClass', 'rc', 'track', 'course', 'Dist.',\n",
       "       'track_condition', 'Horse_id', 'Declar.Horse Wt.', 'Act.Wt.',\n",
       "       'gate_position', 'Rtg.', 'age', 'colour', 'sex', 'origin',\n",
       "       'Import type', 'Trainer', 'Jockey', 'Sire', 'Dam', 'Dam sire',\n",
       "       'Finish Time', 'Gear', 'target', 'recent_3_win_rate_horse',\n",
       "       'recent_3_win_rate_jockey', 'recent_5_avg_finish_pos',\n",
       "       'recent_3_consistency', 'jockey_trainer_combo_rate',\n",
       "       'horse_track_distance_rate'],\n",
       "      dtype='object')"
      ]
     },
     "execution_count": 9,
     "metadata": {},
     "output_type": "execute_result"
    }
   ],
   "source": [
    "df.columns"
   ]
  },
  {
   "cell_type": "markdown",
   "id": "672ee36d",
   "metadata": {},
   "source": [
    "# define features"
   ]
  },
  {
   "cell_type": "code",
   "execution_count": 20,
   "id": "95261d23",
   "metadata": {},
   "outputs": [],
   "source": [
    "# Define features \n",
    "categorical_cols = [\n",
    "    'Dist.', 'track_condition', 'RaceClass', 'Trainer', 'Jockey', 'Dam sire', 'rc', 'track', 'course', \n",
    "    'Import type', 'Sire', 'Dam', 'origin', 'age', 'colour', 'sex'\n",
    "]\n",
    "\n",
    "numerical_cols = [\n",
    "    'Rtg.', 'Act.Wt.', 'Declar.Horse Wt.','recent_3_win_rate_horse',\n",
    "       'recent_3_win_rate_jockey', 'recent_5_avg_finish_pos',\n",
    "       'recent_3_consistency', 'jockey_trainer_combo_rate',\n",
    "       'horse_track_distance_rate'\n",
    "]"
   ]
  },
  {
   "cell_type": "code",
   "execution_count": 11,
   "id": "211aea76",
   "metadata": {},
   "outputs": [],
   "source": [
    "categorical_cols = [\n",
    "    'Jockey', 'track_condition', 'Trainer'\n",
    "]\n",
    "\n",
    "numerical_cols = [\n",
    " 'jockey_trainer_combo_rate', 'recent_5_avg_finish_pos', 'horse_track_distance_rate'\n",
    "]"
   ]
  },
  {
   "cell_type": "code",
   "execution_count": 12,
   "id": "56d76a27",
   "metadata": {},
   "outputs": [],
   "source": [
    "categorical_cols = [\n",
    "    'Jockey'\n",
    "]\n",
    "\n",
    "numerical_cols = [\n",
    "    'recent_5_avg_finish_pos', 'horse_track_distance_rate'\n",
    "]"
   ]
  },
  {
   "cell_type": "code",
   "execution_count": 21,
   "id": "58433407",
   "metadata": {},
   "outputs": [
    {
     "name": "stderr",
     "output_type": "stream",
     "text": [
      "C:\\Users\\TCL0011\\AppData\\Local\\Temp\\ipykernel_28848\\1555292549.py:4: SettingWithCopyWarning: \n",
      "A value is trying to be set on a copy of a slice from a DataFrame.\n",
      "Try using .loc[row_indexer,col_indexer] = value instead\n",
      "\n",
      "See the caveats in the documentation: https://pandas.pydata.org/pandas-docs/stable/user_guide/indexing.html#returning-a-view-versus-a-copy\n",
      "  test_df[numerical_cols] = num_imputer.transform(test_df[numerical_cols])\n",
      "C:\\Users\\TCL0011\\AppData\\Local\\Temp\\ipykernel_28848\\1555292549.py:9: SettingWithCopyWarning: \n",
      "A value is trying to be set on a copy of a slice from a DataFrame.\n",
      "Try using .loc[row_indexer,col_indexer] = value instead\n",
      "\n",
      "See the caveats in the documentation: https://pandas.pydata.org/pandas-docs/stable/user_guide/indexing.html#returning-a-view-versus-a-copy\n",
      "  test_df[col] = test_df[col].astype(str).fillna('unknown')\n",
      "C:\\Users\\TCL0011\\AppData\\Local\\Temp\\ipykernel_28848\\1555292549.py:9: SettingWithCopyWarning: \n",
      "A value is trying to be set on a copy of a slice from a DataFrame.\n",
      "Try using .loc[row_indexer,col_indexer] = value instead\n",
      "\n",
      "See the caveats in the documentation: https://pandas.pydata.org/pandas-docs/stable/user_guide/indexing.html#returning-a-view-versus-a-copy\n",
      "  test_df[col] = test_df[col].astype(str).fillna('unknown')\n",
      "C:\\Users\\TCL0011\\AppData\\Local\\Temp\\ipykernel_28848\\1555292549.py:9: SettingWithCopyWarning: \n",
      "A value is trying to be set on a copy of a slice from a DataFrame.\n",
      "Try using .loc[row_indexer,col_indexer] = value instead\n",
      "\n",
      "See the caveats in the documentation: https://pandas.pydata.org/pandas-docs/stable/user_guide/indexing.html#returning-a-view-versus-a-copy\n",
      "  test_df[col] = test_df[col].astype(str).fillna('unknown')\n",
      "C:\\Users\\TCL0011\\AppData\\Local\\Temp\\ipykernel_28848\\1555292549.py:9: SettingWithCopyWarning: \n",
      "A value is trying to be set on a copy of a slice from a DataFrame.\n",
      "Try using .loc[row_indexer,col_indexer] = value instead\n",
      "\n",
      "See the caveats in the documentation: https://pandas.pydata.org/pandas-docs/stable/user_guide/indexing.html#returning-a-view-versus-a-copy\n",
      "  test_df[col] = test_df[col].astype(str).fillna('unknown')\n",
      "C:\\Users\\TCL0011\\AppData\\Local\\Temp\\ipykernel_28848\\1555292549.py:9: SettingWithCopyWarning: \n",
      "A value is trying to be set on a copy of a slice from a DataFrame.\n",
      "Try using .loc[row_indexer,col_indexer] = value instead\n",
      "\n",
      "See the caveats in the documentation: https://pandas.pydata.org/pandas-docs/stable/user_guide/indexing.html#returning-a-view-versus-a-copy\n",
      "  test_df[col] = test_df[col].astype(str).fillna('unknown')\n",
      "C:\\Users\\TCL0011\\AppData\\Local\\Temp\\ipykernel_28848\\1555292549.py:9: SettingWithCopyWarning: \n",
      "A value is trying to be set on a copy of a slice from a DataFrame.\n",
      "Try using .loc[row_indexer,col_indexer] = value instead\n",
      "\n",
      "See the caveats in the documentation: https://pandas.pydata.org/pandas-docs/stable/user_guide/indexing.html#returning-a-view-versus-a-copy\n",
      "  test_df[col] = test_df[col].astype(str).fillna('unknown')\n",
      "C:\\Users\\TCL0011\\AppData\\Local\\Temp\\ipykernel_28848\\1555292549.py:9: SettingWithCopyWarning: \n",
      "A value is trying to be set on a copy of a slice from a DataFrame.\n",
      "Try using .loc[row_indexer,col_indexer] = value instead\n",
      "\n",
      "See the caveats in the documentation: https://pandas.pydata.org/pandas-docs/stable/user_guide/indexing.html#returning-a-view-versus-a-copy\n",
      "  test_df[col] = test_df[col].astype(str).fillna('unknown')\n",
      "C:\\Users\\TCL0011\\AppData\\Local\\Temp\\ipykernel_28848\\1555292549.py:9: SettingWithCopyWarning: \n",
      "A value is trying to be set on a copy of a slice from a DataFrame.\n",
      "Try using .loc[row_indexer,col_indexer] = value instead\n",
      "\n",
      "See the caveats in the documentation: https://pandas.pydata.org/pandas-docs/stable/user_guide/indexing.html#returning-a-view-versus-a-copy\n",
      "  test_df[col] = test_df[col].astype(str).fillna('unknown')\n",
      "C:\\Users\\TCL0011\\AppData\\Local\\Temp\\ipykernel_28848\\1555292549.py:9: SettingWithCopyWarning: \n",
      "A value is trying to be set on a copy of a slice from a DataFrame.\n",
      "Try using .loc[row_indexer,col_indexer] = value instead\n",
      "\n",
      "See the caveats in the documentation: https://pandas.pydata.org/pandas-docs/stable/user_guide/indexing.html#returning-a-view-versus-a-copy\n",
      "  test_df[col] = test_df[col].astype(str).fillna('unknown')\n",
      "C:\\Users\\TCL0011\\AppData\\Local\\Temp\\ipykernel_28848\\1555292549.py:9: SettingWithCopyWarning: \n",
      "A value is trying to be set on a copy of a slice from a DataFrame.\n",
      "Try using .loc[row_indexer,col_indexer] = value instead\n",
      "\n",
      "See the caveats in the documentation: https://pandas.pydata.org/pandas-docs/stable/user_guide/indexing.html#returning-a-view-versus-a-copy\n",
      "  test_df[col] = test_df[col].astype(str).fillna('unknown')\n",
      "C:\\Users\\TCL0011\\AppData\\Local\\Temp\\ipykernel_28848\\1555292549.py:9: SettingWithCopyWarning: \n",
      "A value is trying to be set on a copy of a slice from a DataFrame.\n",
      "Try using .loc[row_indexer,col_indexer] = value instead\n",
      "\n",
      "See the caveats in the documentation: https://pandas.pydata.org/pandas-docs/stable/user_guide/indexing.html#returning-a-view-versus-a-copy\n",
      "  test_df[col] = test_df[col].astype(str).fillna('unknown')\n",
      "C:\\Users\\TCL0011\\AppData\\Local\\Temp\\ipykernel_28848\\1555292549.py:9: SettingWithCopyWarning: \n",
      "A value is trying to be set on a copy of a slice from a DataFrame.\n",
      "Try using .loc[row_indexer,col_indexer] = value instead\n",
      "\n",
      "See the caveats in the documentation: https://pandas.pydata.org/pandas-docs/stable/user_guide/indexing.html#returning-a-view-versus-a-copy\n",
      "  test_df[col] = test_df[col].astype(str).fillna('unknown')\n",
      "C:\\Users\\TCL0011\\AppData\\Local\\Temp\\ipykernel_28848\\1555292549.py:9: SettingWithCopyWarning: \n",
      "A value is trying to be set on a copy of a slice from a DataFrame.\n",
      "Try using .loc[row_indexer,col_indexer] = value instead\n",
      "\n",
      "See the caveats in the documentation: https://pandas.pydata.org/pandas-docs/stable/user_guide/indexing.html#returning-a-view-versus-a-copy\n",
      "  test_df[col] = test_df[col].astype(str).fillna('unknown')\n",
      "C:\\Users\\TCL0011\\AppData\\Local\\Temp\\ipykernel_28848\\1555292549.py:9: SettingWithCopyWarning: \n",
      "A value is trying to be set on a copy of a slice from a DataFrame.\n",
      "Try using .loc[row_indexer,col_indexer] = value instead\n",
      "\n",
      "See the caveats in the documentation: https://pandas.pydata.org/pandas-docs/stable/user_guide/indexing.html#returning-a-view-versus-a-copy\n",
      "  test_df[col] = test_df[col].astype(str).fillna('unknown')\n",
      "C:\\Users\\TCL0011\\AppData\\Local\\Temp\\ipykernel_28848\\1555292549.py:9: SettingWithCopyWarning: \n",
      "A value is trying to be set on a copy of a slice from a DataFrame.\n",
      "Try using .loc[row_indexer,col_indexer] = value instead\n",
      "\n",
      "See the caveats in the documentation: https://pandas.pydata.org/pandas-docs/stable/user_guide/indexing.html#returning-a-view-versus-a-copy\n",
      "  test_df[col] = test_df[col].astype(str).fillna('unknown')\n",
      "C:\\Users\\TCL0011\\AppData\\Local\\Temp\\ipykernel_28848\\1555292549.py:9: SettingWithCopyWarning: \n",
      "A value is trying to be set on a copy of a slice from a DataFrame.\n",
      "Try using .loc[row_indexer,col_indexer] = value instead\n",
      "\n",
      "See the caveats in the documentation: https://pandas.pydata.org/pandas-docs/stable/user_guide/indexing.html#returning-a-view-versus-a-copy\n",
      "  test_df[col] = test_df[col].astype(str).fillna('unknown')\n"
     ]
    }
   ],
   "source": [
    "num_imputer = SimpleImputer(strategy='median')\n",
    "train_df[numerical_cols] = num_imputer.fit_transform(train_df[numerical_cols])\n",
    "val_df[numerical_cols] = num_imputer.transform(val_df[numerical_cols])\n",
    "test_df[numerical_cols] = num_imputer.transform(test_df[numerical_cols])\n",
    "\n",
    "for col in categorical_cols:\n",
    "    train_df[col] = train_df[col].astype(str).fillna('unknown')\n",
    "    val_df[col] = val_df[col].astype(str).fillna('unknown')\n",
    "    test_df[col] = test_df[col].astype(str).fillna('unknown')"
   ]
  },
  {
   "cell_type": "code",
   "execution_count": 22,
   "id": "ac2f534c",
   "metadata": {},
   "outputs": [],
   "source": [
    "X_train = train_df[categorical_cols + numerical_cols]\n",
    "y_train = train_df['target']\n",
    "groups_train = train_df['race_index']\n",
    "\n",
    "X_val = val_df[categorical_cols + numerical_cols]\n",
    "y_val = val_df['target']\n",
    "groups_val = val_df['race_index']\n",
    "\n",
    "X_test = test_df[categorical_cols + numerical_cols]\n",
    "y_test = test_df['target']\n",
    "groups_test = test_df['race_index']"
   ]
  },
  {
   "cell_type": "code",
   "execution_count": 23,
   "id": "a1ba85a2",
   "metadata": {},
   "outputs": [],
   "source": [
    "# Sort by groups\n",
    "train_sorted_idx = groups_train.argsort()\n",
    "X_train = X_train.iloc[train_sorted_idx]\n",
    "y_train = y_train.iloc[train_sorted_idx]\n",
    "groups_train = groups_train.iloc[train_sorted_idx]\n",
    "\n",
    "val_sorted_idx = groups_val.argsort()\n",
    "X_val = X_val.iloc[val_sorted_idx]\n",
    "y_val = y_val.iloc[val_sorted_idx]\n",
    "groups_val = groups_val.iloc[val_sorted_idx]\n",
    "\n",
    "test_sorted_idx = groups_test.argsort()\n",
    "X_test = X_test.iloc[test_sorted_idx]\n",
    "y_test = y_test.iloc[test_sorted_idx]\n",
    "groups_test = groups_test.iloc[test_sorted_idx]"
   ]
  },
  {
   "cell_type": "code",
   "execution_count": 24,
   "id": "d0b75b3e",
   "metadata": {},
   "outputs": [],
   "source": [
    "# Create CatBoost Pools\n",
    "train_pool = Pool(\n",
    "    data=X_train,\n",
    "    label=y_train,\n",
    "    group_id=groups_train,\n",
    "    cat_features=categorical_cols\n",
    ")\n",
    "\n",
    "val_pool = Pool(\n",
    "    data=X_val,\n",
    "    label=y_val,\n",
    "    group_id=groups_val,\n",
    "    cat_features=categorical_cols\n",
    ")\n",
    "\n",
    "test_pool = Pool(\n",
    "    data=X_test,\n",
    "    label=y_test,\n",
    "    group_id=groups_test,\n",
    "    cat_features=categorical_cols\n",
    ")"
   ]
  },
  {
   "cell_type": "code",
   "execution_count": 28,
   "id": "d653c44f",
   "metadata": {},
   "outputs": [
    {
     "name": "stdout",
     "output_type": "stream",
     "text": [
      "Groupwise loss function. OneHotMaxSize set to 10\n",
      "0:\ttest: 0.3370678\tbest: 0.3370678 (0)\ttotal: 249ms\tremaining: 6m 13s\n",
      "100:\ttest: 0.3066825\tbest: 0.3611238 (3)\ttotal: 23.9s\tremaining: 5m 30s\n",
      "Stopped by overfitting detector  (150 iterations wait)\n",
      "\n",
      "bestTest = 0.3611238065\n",
      "bestIteration = 3\n",
      "\n",
      "Shrink model to first 4 iterations.\n"
     ]
    },
    {
     "data": {
      "text/plain": [
       "<catboost.core.CatBoostRanker at 0x263c62caf90>"
      ]
     },
     "execution_count": 28,
     "metadata": {},
     "output_type": "execute_result"
    }
   ],
   "source": [
    "# Train the model with optimized parameters\n",
    "model = CatBoostRanker(\n",
    "    iterations=1500,\n",
    "    learning_rate=0.05,\n",
    "    depth=8,\n",
    "    loss_function='YetiRank',\n",
    "    eval_metric='NDCG:top=1',\n",
    "    l2_leaf_reg=3,\n",
    "    random_strength=2,\n",
    "    bagging_temperature=1,\n",
    "    has_time=True,\n",
    "    verbose=100,\n",
    "    random_seed=42,\n",
    "    early_stopping_rounds=150\n",
    ")\n",
    "\n",
    "# Train with validation monitoring\n",
    "model.fit(train_pool, eval_set=val_pool)"
   ]
  },
  {
   "cell_type": "code",
   "execution_count": 26,
   "id": "c326cf29",
   "metadata": {},
   "outputs": [],
   "source": [
    "y_pred = model.predict(X_test)"
   ]
  },
  {
   "cell_type": "code",
   "execution_count": null,
   "id": "c3cb075e",
   "metadata": {},
   "outputs": [
    {
     "name": "stdout",
     "output_type": "stream",
     "text": [
      "Average NDCG@4 across all races: 0.4386\n",
      "NDCG calculated on 847 races\n",
      "NDCG std: 0.2438\n"
     ]
    }
   ],
   "source": [
    "def calculate_ndcg_per_group(y_true, y_pred, groups, k=4):\n",
    "    \"\"\"\n",
    "    Calculate NDCG per race group and return average\n",
    "    \"\"\"\n",
    "    ndcg_scores = []\n",
    "    unique_groups = np.unique(groups)\n",
    "    \n",
    "    for group_id in unique_groups:\n",
    "        # Get data for this specific race\n",
    "        group_mask = groups == group_id\n",
    "        group_true = y_true[group_mask]\n",
    "        group_pred = y_pred[group_mask]\n",
    "        \n",
    "        # Skip if not enough horses in race for k=4\n",
    "        if len(group_true) < 2:  # Need at least 2 horses to rank\n",
    "            continue\n",
    "            \n",
    "        # Calculate NDCG for this race\n",
    "        try:\n",
    "            race_ndcg = ndcg_score([group_true], [group_pred], k=min(k, len(group_true)))\n",
    "            ndcg_scores.append(race_ndcg)\n",
    "        except:\n",
    "            # Skip problematic races (e.g., all zeros)\n",
    "            continue\n",
    "    \n",
    "    if len(ndcg_scores) == 0:\n",
    "        return 0.0\n",
    "        \n",
    "    return np.mean(ndcg_scores), ndcg_scores\n",
    "\n",
    "# CORRECT EVALUATION:\n",
    "avg_ndcg, individual_ndcg = calculate_ndcg_per_group(y_test, y_pred, groups_test, k=1)\n",
    "print(f\"Average NDCG@4 across all races: {avg_ndcg:.4f}\")\n",
    "print(f\"NDCG calculated on {len(individual_ndcg)} races\")\n",
    "print(f\"NDCG std: {np.std(individual_ndcg):.4f}\")\n"
   ]
  },
  {
   "cell_type": "code",
   "execution_count": 172,
   "id": "77c493fe",
   "metadata": {},
   "outputs": [
    {
     "name": "stdout",
     "output_type": "stream",
     "text": [
      "NDCG Score: 0.8057825400371074\n"
     ]
    }
   ],
   "source": [
    "# Evaluate NDCG Score\n",
    "ndcg = ndcg_score([y_test], [y_pred], k=4)\n",
    "print(f\"NDCG Score: {ndcg}\")"
   ]
  },
  {
   "cell_type": "code",
   "execution_count": 173,
   "id": "8f6c148b",
   "metadata": {},
   "outputs": [],
   "source": [
    "feature_importance = model.get_feature_importance(data = train_pool)\n",
    "feature_names = model.feature_names_"
   ]
  },
  {
   "cell_type": "code",
   "execution_count": 174,
   "id": "ea6051eb",
   "metadata": {},
   "outputs": [],
   "source": [
    "total_importance = feature_importance.sum()\n",
    "cumulative_importance = 0\n",
    "important_features = []\n",
    "for feat, imp in sorted(zip(feature_names, feature_importance), key=lambda x: x[1], reverse=True):\n",
    "    cumulative_importance += imp\n",
    "    important_features.append(feat)\n",
    "    if cumulative_importance / total_importance >= 0.9:\n",
    "        break\n"
   ]
  },
  {
   "cell_type": "code",
   "execution_count": 175,
   "id": "9cf64bf1",
   "metadata": {},
   "outputs": [
    {
     "data": {
      "text/plain": [
       "['Jockey', 'horse_track_distance_rate', 'recent_5_avg_finish_pos']"
      ]
     },
     "execution_count": 175,
     "metadata": {},
     "output_type": "execute_result"
    }
   ],
   "source": [
    "important_features"
   ]
  },
  {
   "cell_type": "markdown",
   "id": "e1b077dd",
   "metadata": {},
   "source": [
    "# sampling"
   ]
  },
  {
   "cell_type": "code",
   "execution_count": 176,
   "id": "e0a3b073",
   "metadata": {},
   "outputs": [
    {
     "name": "stdout",
     "output_type": "stream",
     "text": [
      "[ 6080924  7080924  8080924  9080924 10080924]\n"
     ]
    }
   ],
   "source": [
    "print(groups_test.unique()[5:10])"
   ]
  },
  {
   "cell_type": "code",
   "execution_count": 177,
   "id": "c9ea9516",
   "metadata": {},
   "outputs": [],
   "source": [
    "specific_race = 8080924\n",
    "\n",
    "race_mask = (groups_test == specific_race)\n",
    "horse_ids = test_df.loc[race_mask, 'Horse_id']\n",
    "\n",
    "# Get the horse info, true placing, predicted scores for the race\n",
    "race_true = y_test[race_mask]\n",
    "race_pred = y_pred[race_mask]\n",
    "race_data = X_test[race_mask]\n",
    "\n",
    "comparison_df = pd.DataFrame({\n",
    "    'Horse_id': horse_ids,\n",
    "    'True_Score': race_true.values,\n",
    "    'Predicted_Score': race_pred\n",
    "})\n",
    "\n",
    "# Sort by predicted score (descending: highest score means better rank)\n",
    "comparison_df_sorted_by_pred = comparison_df.sort_values(by='Predicted_Score', ascending=False)\n",
    "\n",
    "# Sort by true rank (ascending: 1 is best rank)\n",
    "comparison_df_sorted_by_true = comparison_df.sort_values(by='True_Score', ascending= False)"
   ]
  },
  {
   "cell_type": "code",
   "execution_count": 178,
   "id": "78f133b6",
   "metadata": {},
   "outputs": [
    {
     "name": "stdout",
     "output_type": "stream",
     "text": [
      "Sorted by Predicted Ranking Scores:\n",
      "      Horse_id  True_Score  Predicted_Score\n",
      "5805      H357    0.223130         0.459401\n",
      "6810      J079    0.367879         0.387656\n",
      "36941     G307    0.000000         0.382204\n",
      "18268     J157    0.000000         0.300779\n",
      "3552      H326    0.000000         0.182650\n",
      "34224     H047    0.000000         0.150387\n",
      "25204     G078    0.000000        -0.106592\n",
      "8466      J040    0.000000        -0.106783\n",
      "14392     J390    1.000000        -0.204517\n",
      "598       J225    0.000000        -0.318930\n",
      "39650     C531    0.606531        -0.386026\n",
      "15068     D359    0.000000        -0.571422\n",
      "10643     G112    0.000000        -0.694960\n",
      "\n",
      "Sorted by True Ranking:\n",
      "      Horse_id  True_Score  Predicted_Score\n",
      "14392     J390    1.000000        -0.204517\n",
      "39650     C531    0.606531        -0.386026\n",
      "6810      J079    0.367879         0.387656\n",
      "5805      H357    0.223130         0.459401\n",
      "598       J225    0.000000        -0.318930\n",
      "3552      H326    0.000000         0.182650\n",
      "8466      J040    0.000000        -0.106783\n",
      "10643     G112    0.000000        -0.694960\n",
      "15068     D359    0.000000        -0.571422\n",
      "18268     J157    0.000000         0.300779\n",
      "25204     G078    0.000000        -0.106592\n",
      "34224     H047    0.000000         0.150387\n",
      "36941     G307    0.000000         0.382204\n"
     ]
    }
   ],
   "source": [
    "print(\"Sorted by Predicted Ranking Scores:\")\n",
    "print(comparison_df_sorted_by_pred)\n",
    "\n",
    "print(\"\\nSorted by True Ranking:\")\n",
    "print(comparison_df_sorted_by_true)"
   ]
  },
  {
   "cell_type": "code",
   "execution_count": null,
   "id": "12a43368",
   "metadata": {},
   "outputs": [],
   "source": []
  }
 ],
 "metadata": {
  "kernelspec": {
   "display_name": "ml1",
   "language": "python",
   "name": "python3"
  },
  "language_info": {
   "codemirror_mode": {
    "name": "ipython",
    "version": 3
   },
   "file_extension": ".py",
   "mimetype": "text/x-python",
   "name": "python",
   "nbconvert_exporter": "python",
   "pygments_lexer": "ipython3",
   "version": "3.11.11"
  }
 },
 "nbformat": 4,
 "nbformat_minor": 5
}
