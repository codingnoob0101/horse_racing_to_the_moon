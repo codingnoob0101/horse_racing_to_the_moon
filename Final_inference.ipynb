{
 "cells": [
  {
   "cell_type": "code",
   "execution_count": 1,
   "id": "981a6430",
   "metadata": {},
   "outputs": [],
   "source": [
    "from py.race_function import scrape_current_race, scrape_current_race_no_odds\n",
    "from catboost import CatBoostRanker\n",
    "import pandas as pd"
   ]
  },
  {
   "cell_type": "code",
   "execution_count": 2,
   "id": "1894294f",
   "metadata": {},
   "outputs": [],
   "source": [
    "def prediction(race_url, odds_url):\n",
    "    model = CatBoostRanker()\n",
    "    model.load_model('model/catboost_ranking_model.cbm')\n",
    "\n",
    "    df = scrape_current_race(race_url, odds_url)\n",
    "    X = df.iloc[:, :-1]\n",
    "    predictions = model.predict(X)\n",
    "\n",
    "    rated_scores = pd.DataFrame(predictions, columns = ['score'])\n",
    "\n",
    "    name = df.iloc[:, -1]\n",
    "\n",
    "    # Combine horse names and predicted scores into one DataFrame\n",
    "    predicted = pd.concat([name.reset_index(drop=True), rated_scores.reset_index(drop=True)], axis=1)\n",
    "\n",
    "    # Optionally rename columns if name column has no name\n",
    "    predicted.columns = ['Horse_name', 'Predicted_Score']\n",
    "\n",
    "    predicted = predicted.sort_values('Predicted_Score', ascending=False)\n",
    "\n",
    "    return predicted"
   ]
  },
  {
   "cell_type": "code",
   "execution_count": 3,
   "id": "9a8ea9c9",
   "metadata": {},
   "outputs": [],
   "source": [
    "def prediction_no_odds(race_url):\n",
    "    model = CatBoostRanker()\n",
    "    model.load_model('model/catboost_ranker.cbm')\n",
    "\n",
    "    df = scrape_current_race_no_odds(race_url)\n",
    "    X = df.iloc[:, :-1]\n",
    "    predictions = model.predict(X)\n",
    "\n",
    "    rated_scores = pd.DataFrame(predictions, columns = ['score'])\n",
    "\n",
    "    name = df.iloc[:, -1]\n",
    "\n",
    "    # Combine horse names and predicted scores into one DataFrame\n",
    "    predicted = pd.concat([name.reset_index(drop=True), rated_scores.reset_index(drop=True)], axis=1)\n",
    "\n",
    "    # Optionally rename columns if name column has no name\n",
    "    predicted.columns = ['Horse_name', 'Predicted_Score']\n",
    "\n",
    "    predicted = predicted.sort_values('Predicted_Score', ascending=False)\n",
    "\n",
    "    return predicted"
   ]
  },
  {
   "cell_type": "code",
   "execution_count": 10,
   "id": "71eac74b",
   "metadata": {},
   "outputs": [],
   "source": [
    "def prediction_no_odds_new(race_url):\n",
    "    model = CatBoostRanker()\n",
    "    model.load_model('model/catboost_ranker_1.cbm')\n",
    "\n",
    "    df = scrape_current_race_no_odds(race_url)\n",
    "    X = df.iloc[:, :-1]\n",
    "    predictions = model.predict(X)\n",
    "\n",
    "    rated_scores = pd.DataFrame(predictions, columns = ['score'])\n",
    "\n",
    "    name = df.iloc[:, -1]\n",
    "\n",
    "    # Combine horse names and predicted scores into one DataFrame\n",
    "    predicted = pd.concat([name.reset_index(drop=True), rated_scores.reset_index(drop=True)], axis=1)\n",
    "\n",
    "    # Optionally rename columns if name column has no name\n",
    "    predicted.columns = ['Horse_name', 'Predicted_Score']\n",
    "\n",
    "    predicted = predicted.sort_values('Predicted_Score', ascending=False)\n",
    "\n",
    "    return predicted"
   ]
  },
  {
   "cell_type": "code",
   "execution_count": 17,
   "id": "3db0b68d",
   "metadata": {},
   "outputs": [],
   "source": [
    "race_url = 'https://racing.hkjc.com/racing/information/English/racing/RaceCard.aspx?RaceDate=2025/09/10&Racecourse=HV&RaceNo=8'\n",
    "odds_url = 'https://bet.hkjc.com/en/racing/wp/2025-09-10/HV/8'\n",
    "\n",
    "# df = prediction(race_url, odds_url)\n",
    "df = prediction(race_url, odds_url)\n",
    "df1 = prediction_no_odds(race_url)\n",
    "df2 = prediction_no_odds_new(race_url)"
   ]
  },
  {
   "cell_type": "code",
   "execution_count": 18,
   "id": "c6f28594",
   "metadata": {},
   "outputs": [
    {
     "data": {
      "application/vnd.microsoft.datawrangler.viewer.v0+json": {
       "columns": [
        {
         "name": "index",
         "rawType": "int64",
         "type": "integer"
        },
        {
         "name": "Horse_name",
         "rawType": "object",
         "type": "string"
        },
        {
         "name": "Predicted_Score",
         "rawType": "float64",
         "type": "float"
        }
       ],
       "ref": "d5b96290-8ae0-4eb1-8226-b5f5f56a3507",
       "rows": [
        [
         "5",
         "STORMING DRAGON",
         "1.063785557785934"
        ],
        [
         "2",
         "SOVEREIGN FUND",
         "0.8747242874993617"
        ],
        [
         "9",
         "KING OF FIGHTERS",
         "0.6247472436692192"
        ],
        [
         "0",
         "DRAGON FOUR SEAS",
         "0.12627637507862133"
        ],
        [
         "11",
         "MONARCH COUNTY",
         "-0.09844980212605137"
        ],
        [
         "8",
         "VICTOR THE RAPID",
         "-0.254325496349022"
        ],
        [
         "4",
         "REGAL GEM",
         "-0.2945115952694799"
        ],
        [
         "3",
         "GIANT LEAP",
         "-0.4011677806764986"
        ],
        [
         "10",
         "THRIVING BROTHERS",
         "-0.5711413426235161"
        ],
        [
         "1",
         "POWER KOEPP",
         "-0.5723371952457477"
        ],
        [
         "7",
         "LUCKY PLANET",
         "-1.2718766667562953"
        ],
        [
         "6",
         "KINGDOM OF RICHES",
         "-1.7437950572771364"
        ]
       ],
       "shape": {
        "columns": 2,
        "rows": 12
       }
      },
      "text/html": [
       "<div>\n",
       "<style scoped>\n",
       "    .dataframe tbody tr th:only-of-type {\n",
       "        vertical-align: middle;\n",
       "    }\n",
       "\n",
       "    .dataframe tbody tr th {\n",
       "        vertical-align: top;\n",
       "    }\n",
       "\n",
       "    .dataframe thead th {\n",
       "        text-align: right;\n",
       "    }\n",
       "</style>\n",
       "<table border=\"1\" class=\"dataframe\">\n",
       "  <thead>\n",
       "    <tr style=\"text-align: right;\">\n",
       "      <th></th>\n",
       "      <th>Horse_name</th>\n",
       "      <th>Predicted_Score</th>\n",
       "    </tr>\n",
       "  </thead>\n",
       "  <tbody>\n",
       "    <tr>\n",
       "      <th>5</th>\n",
       "      <td>STORMING DRAGON</td>\n",
       "      <td>1.063786</td>\n",
       "    </tr>\n",
       "    <tr>\n",
       "      <th>2</th>\n",
       "      <td>SOVEREIGN FUND</td>\n",
       "      <td>0.874724</td>\n",
       "    </tr>\n",
       "    <tr>\n",
       "      <th>9</th>\n",
       "      <td>KING OF FIGHTERS</td>\n",
       "      <td>0.624747</td>\n",
       "    </tr>\n",
       "    <tr>\n",
       "      <th>0</th>\n",
       "      <td>DRAGON FOUR SEAS</td>\n",
       "      <td>0.126276</td>\n",
       "    </tr>\n",
       "    <tr>\n",
       "      <th>11</th>\n",
       "      <td>MONARCH COUNTY</td>\n",
       "      <td>-0.098450</td>\n",
       "    </tr>\n",
       "    <tr>\n",
       "      <th>8</th>\n",
       "      <td>VICTOR THE RAPID</td>\n",
       "      <td>-0.254325</td>\n",
       "    </tr>\n",
       "    <tr>\n",
       "      <th>4</th>\n",
       "      <td>REGAL GEM</td>\n",
       "      <td>-0.294512</td>\n",
       "    </tr>\n",
       "    <tr>\n",
       "      <th>3</th>\n",
       "      <td>GIANT LEAP</td>\n",
       "      <td>-0.401168</td>\n",
       "    </tr>\n",
       "    <tr>\n",
       "      <th>10</th>\n",
       "      <td>THRIVING BROTHERS</td>\n",
       "      <td>-0.571141</td>\n",
       "    </tr>\n",
       "    <tr>\n",
       "      <th>1</th>\n",
       "      <td>POWER KOEPP</td>\n",
       "      <td>-0.572337</td>\n",
       "    </tr>\n",
       "    <tr>\n",
       "      <th>7</th>\n",
       "      <td>LUCKY PLANET</td>\n",
       "      <td>-1.271877</td>\n",
       "    </tr>\n",
       "    <tr>\n",
       "      <th>6</th>\n",
       "      <td>KINGDOM OF RICHES</td>\n",
       "      <td>-1.743795</td>\n",
       "    </tr>\n",
       "  </tbody>\n",
       "</table>\n",
       "</div>"
      ],
      "text/plain": [
       "           Horse_name  Predicted_Score\n",
       "5     STORMING DRAGON         1.063786\n",
       "2      SOVEREIGN FUND         0.874724\n",
       "9    KING OF FIGHTERS         0.624747\n",
       "0    DRAGON FOUR SEAS         0.126276\n",
       "11     MONARCH COUNTY        -0.098450\n",
       "8    VICTOR THE RAPID        -0.254325\n",
       "4           REGAL GEM        -0.294512\n",
       "3          GIANT LEAP        -0.401168\n",
       "10  THRIVING BROTHERS        -0.571141\n",
       "1         POWER KOEPP        -0.572337\n",
       "7        LUCKY PLANET        -1.271877\n",
       "6   KINGDOM OF RICHES        -1.743795"
      ]
     },
     "execution_count": 18,
     "metadata": {},
     "output_type": "execute_result"
    }
   ],
   "source": [
    "df"
   ]
  },
  {
   "cell_type": "code",
   "execution_count": 19,
   "id": "d7771d66",
   "metadata": {},
   "outputs": [
    {
     "data": {
      "application/vnd.microsoft.datawrangler.viewer.v0+json": {
       "columns": [
        {
         "name": "index",
         "rawType": "int64",
         "type": "integer"
        },
        {
         "name": "Horse_name",
         "rawType": "object",
         "type": "string"
        },
        {
         "name": "Predicted_Score",
         "rawType": "float64",
         "type": "float"
        }
       ],
       "ref": "bf1ab98b-6949-4060-8cbb-ea2790b0bd3e",
       "rows": [
        [
         "5",
         "STORMING DRAGON",
         "0.5795598046460502"
        ],
        [
         "11",
         "MONARCH COUNTY",
         "0.5733780337854573"
        ],
        [
         "3",
         "GIANT LEAP",
         "0.13533015321924077"
        ],
        [
         "2",
         "SOVEREIGN FUND",
         "0.04997859424623849"
        ],
        [
         "1",
         "POWER KOEPP",
         "-0.06720295063685702"
        ],
        [
         "0",
         "DRAGON FOUR SEAS",
         "-0.08946328673626416"
        ],
        [
         "9",
         "KING OF FIGHTERS",
         "-0.11506049069223215"
        ],
        [
         "10",
         "THRIVING BROTHERS",
         "-0.5494152244542814"
        ],
        [
         "7",
         "LUCKY PLANET",
         "-0.7611889180453939"
        ],
        [
         "8",
         "VICTOR THE RAPID",
         "-1.0005907654629194"
        ],
        [
         "4",
         "REGAL GEM",
         "-1.0009853336274854"
        ],
        [
         "6",
         "KINGDOM OF RICHES",
         "-1.0669201369940875"
        ]
       ],
       "shape": {
        "columns": 2,
        "rows": 12
       }
      },
      "text/html": [
       "<div>\n",
       "<style scoped>\n",
       "    .dataframe tbody tr th:only-of-type {\n",
       "        vertical-align: middle;\n",
       "    }\n",
       "\n",
       "    .dataframe tbody tr th {\n",
       "        vertical-align: top;\n",
       "    }\n",
       "\n",
       "    .dataframe thead th {\n",
       "        text-align: right;\n",
       "    }\n",
       "</style>\n",
       "<table border=\"1\" class=\"dataframe\">\n",
       "  <thead>\n",
       "    <tr style=\"text-align: right;\">\n",
       "      <th></th>\n",
       "      <th>Horse_name</th>\n",
       "      <th>Predicted_Score</th>\n",
       "    </tr>\n",
       "  </thead>\n",
       "  <tbody>\n",
       "    <tr>\n",
       "      <th>5</th>\n",
       "      <td>STORMING DRAGON</td>\n",
       "      <td>0.579560</td>\n",
       "    </tr>\n",
       "    <tr>\n",
       "      <th>11</th>\n",
       "      <td>MONARCH COUNTY</td>\n",
       "      <td>0.573378</td>\n",
       "    </tr>\n",
       "    <tr>\n",
       "      <th>3</th>\n",
       "      <td>GIANT LEAP</td>\n",
       "      <td>0.135330</td>\n",
       "    </tr>\n",
       "    <tr>\n",
       "      <th>2</th>\n",
       "      <td>SOVEREIGN FUND</td>\n",
       "      <td>0.049979</td>\n",
       "    </tr>\n",
       "    <tr>\n",
       "      <th>1</th>\n",
       "      <td>POWER KOEPP</td>\n",
       "      <td>-0.067203</td>\n",
       "    </tr>\n",
       "    <tr>\n",
       "      <th>0</th>\n",
       "      <td>DRAGON FOUR SEAS</td>\n",
       "      <td>-0.089463</td>\n",
       "    </tr>\n",
       "    <tr>\n",
       "      <th>9</th>\n",
       "      <td>KING OF FIGHTERS</td>\n",
       "      <td>-0.115060</td>\n",
       "    </tr>\n",
       "    <tr>\n",
       "      <th>10</th>\n",
       "      <td>THRIVING BROTHERS</td>\n",
       "      <td>-0.549415</td>\n",
       "    </tr>\n",
       "    <tr>\n",
       "      <th>7</th>\n",
       "      <td>LUCKY PLANET</td>\n",
       "      <td>-0.761189</td>\n",
       "    </tr>\n",
       "    <tr>\n",
       "      <th>8</th>\n",
       "      <td>VICTOR THE RAPID</td>\n",
       "      <td>-1.000591</td>\n",
       "    </tr>\n",
       "    <tr>\n",
       "      <th>4</th>\n",
       "      <td>REGAL GEM</td>\n",
       "      <td>-1.000985</td>\n",
       "    </tr>\n",
       "    <tr>\n",
       "      <th>6</th>\n",
       "      <td>KINGDOM OF RICHES</td>\n",
       "      <td>-1.066920</td>\n",
       "    </tr>\n",
       "  </tbody>\n",
       "</table>\n",
       "</div>"
      ],
      "text/plain": [
       "           Horse_name  Predicted_Score\n",
       "5     STORMING DRAGON         0.579560\n",
       "11     MONARCH COUNTY         0.573378\n",
       "3          GIANT LEAP         0.135330\n",
       "2      SOVEREIGN FUND         0.049979\n",
       "1         POWER KOEPP        -0.067203\n",
       "0    DRAGON FOUR SEAS        -0.089463\n",
       "9    KING OF FIGHTERS        -0.115060\n",
       "10  THRIVING BROTHERS        -0.549415\n",
       "7        LUCKY PLANET        -0.761189\n",
       "8    VICTOR THE RAPID        -1.000591\n",
       "4           REGAL GEM        -1.000985\n",
       "6   KINGDOM OF RICHES        -1.066920"
      ]
     },
     "execution_count": 19,
     "metadata": {},
     "output_type": "execute_result"
    }
   ],
   "source": [
    "df1"
   ]
  },
  {
   "cell_type": "code",
   "execution_count": 20,
   "id": "41be172e",
   "metadata": {},
   "outputs": [
    {
     "data": {
      "application/vnd.microsoft.datawrangler.viewer.v0+json": {
       "columns": [
        {
         "name": "index",
         "rawType": "int64",
         "type": "integer"
        },
        {
         "name": "Horse_name",
         "rawType": "object",
         "type": "string"
        },
        {
         "name": "Predicted_Score",
         "rawType": "float64",
         "type": "float"
        }
       ],
       "ref": "2cba75a1-8085-440e-8cd9-b8fad09d8873",
       "rows": [
        [
         "5",
         "STORMING DRAGON",
         "0.7412155419086648"
        ],
        [
         "11",
         "MONARCH COUNTY",
         "0.5219998129225221"
        ],
        [
         "2",
         "SOVEREIGN FUND",
         "0.18491777288332817"
        ],
        [
         "3",
         "GIANT LEAP",
         "0.1664722725689997"
        ],
        [
         "0",
         "DRAGON FOUR SEAS",
         "-0.010210413293175749"
        ],
        [
         "1",
         "POWER KOEPP",
         "-0.012245222787089532"
        ],
        [
         "9",
         "KING OF FIGHTERS",
         "-0.0893319392129002"
        ],
        [
         "10",
         "THRIVING BROTHERS",
         "-0.5194419405746544"
        ],
        [
         "7",
         "LUCKY PLANET",
         "-0.748512794481152"
        ],
        [
         "8",
         "VICTOR THE RAPID",
         "-0.8824463002190274"
        ],
        [
         "6",
         "KINGDOM OF RICHES",
         "-1.01150963380895"
        ],
        [
         "4",
         "REGAL GEM",
         "-1.0487355422380804"
        ]
       ],
       "shape": {
        "columns": 2,
        "rows": 12
       }
      },
      "text/html": [
       "<div>\n",
       "<style scoped>\n",
       "    .dataframe tbody tr th:only-of-type {\n",
       "        vertical-align: middle;\n",
       "    }\n",
       "\n",
       "    .dataframe tbody tr th {\n",
       "        vertical-align: top;\n",
       "    }\n",
       "\n",
       "    .dataframe thead th {\n",
       "        text-align: right;\n",
       "    }\n",
       "</style>\n",
       "<table border=\"1\" class=\"dataframe\">\n",
       "  <thead>\n",
       "    <tr style=\"text-align: right;\">\n",
       "      <th></th>\n",
       "      <th>Horse_name</th>\n",
       "      <th>Predicted_Score</th>\n",
       "    </tr>\n",
       "  </thead>\n",
       "  <tbody>\n",
       "    <tr>\n",
       "      <th>5</th>\n",
       "      <td>STORMING DRAGON</td>\n",
       "      <td>0.741216</td>\n",
       "    </tr>\n",
       "    <tr>\n",
       "      <th>11</th>\n",
       "      <td>MONARCH COUNTY</td>\n",
       "      <td>0.522000</td>\n",
       "    </tr>\n",
       "    <tr>\n",
       "      <th>2</th>\n",
       "      <td>SOVEREIGN FUND</td>\n",
       "      <td>0.184918</td>\n",
       "    </tr>\n",
       "    <tr>\n",
       "      <th>3</th>\n",
       "      <td>GIANT LEAP</td>\n",
       "      <td>0.166472</td>\n",
       "    </tr>\n",
       "    <tr>\n",
       "      <th>0</th>\n",
       "      <td>DRAGON FOUR SEAS</td>\n",
       "      <td>-0.010210</td>\n",
       "    </tr>\n",
       "    <tr>\n",
       "      <th>1</th>\n",
       "      <td>POWER KOEPP</td>\n",
       "      <td>-0.012245</td>\n",
       "    </tr>\n",
       "    <tr>\n",
       "      <th>9</th>\n",
       "      <td>KING OF FIGHTERS</td>\n",
       "      <td>-0.089332</td>\n",
       "    </tr>\n",
       "    <tr>\n",
       "      <th>10</th>\n",
       "      <td>THRIVING BROTHERS</td>\n",
       "      <td>-0.519442</td>\n",
       "    </tr>\n",
       "    <tr>\n",
       "      <th>7</th>\n",
       "      <td>LUCKY PLANET</td>\n",
       "      <td>-0.748513</td>\n",
       "    </tr>\n",
       "    <tr>\n",
       "      <th>8</th>\n",
       "      <td>VICTOR THE RAPID</td>\n",
       "      <td>-0.882446</td>\n",
       "    </tr>\n",
       "    <tr>\n",
       "      <th>6</th>\n",
       "      <td>KINGDOM OF RICHES</td>\n",
       "      <td>-1.011510</td>\n",
       "    </tr>\n",
       "    <tr>\n",
       "      <th>4</th>\n",
       "      <td>REGAL GEM</td>\n",
       "      <td>-1.048736</td>\n",
       "    </tr>\n",
       "  </tbody>\n",
       "</table>\n",
       "</div>"
      ],
      "text/plain": [
       "           Horse_name  Predicted_Score\n",
       "5     STORMING DRAGON         0.741216\n",
       "11     MONARCH COUNTY         0.522000\n",
       "2      SOVEREIGN FUND         0.184918\n",
       "3          GIANT LEAP         0.166472\n",
       "0    DRAGON FOUR SEAS        -0.010210\n",
       "1         POWER KOEPP        -0.012245\n",
       "9    KING OF FIGHTERS        -0.089332\n",
       "10  THRIVING BROTHERS        -0.519442\n",
       "7        LUCKY PLANET        -0.748513\n",
       "8    VICTOR THE RAPID        -0.882446\n",
       "6   KINGDOM OF RICHES        -1.011510\n",
       "4           REGAL GEM        -1.048736"
      ]
     },
     "execution_count": 20,
     "metadata": {},
     "output_type": "execute_result"
    }
   ],
   "source": [
    "df2"
   ]
  },
  {
   "cell_type": "code",
   "execution_count": null,
   "id": "6e63db09",
   "metadata": {},
   "outputs": [],
   "source": []
  }
 ],
 "metadata": {
  "kernelspec": {
   "display_name": "scraping",
   "language": "python",
   "name": "python3"
  },
  "language_info": {
   "codemirror_mode": {
    "name": "ipython",
    "version": 3
   },
   "file_extension": ".py",
   "mimetype": "text/x-python",
   "name": "python",
   "nbconvert_exporter": "python",
   "pygments_lexer": "ipython3",
   "version": "3.13.5"
  }
 },
 "nbformat": 4,
 "nbformat_minor": 5
}
