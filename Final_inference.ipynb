{
 "cells": [
  {
   "cell_type": "code",
   "execution_count": 39,
   "id": "981a6430",
   "metadata": {},
   "outputs": [],
   "source": [
    "from py.race_function import scrape_current_race, scrape_current_race_no_odds\n",
    "from catboost import CatBoostRanker\n",
    "import pandas as pd\n",
    "import numpy as np\n",
    "import joblib"
   ]
  },
  {
   "cell_type": "markdown",
   "id": "9df64248",
   "metadata": {},
   "source": [
    "# inferences functions"
   ]
  },
  {
   "cell_type": "code",
   "execution_count": 2,
   "id": "1894294f",
   "metadata": {},
   "outputs": [],
   "source": [
    "def prediction(race_url, odds_url):\n",
    "    model = CatBoostRanker()\n",
    "    model.load_model('model/catboost_ranking_model.cbm')\n",
    "\n",
    "    df = scrape_current_race(race_url, odds_url)\n",
    "    X = df.iloc[:, :-1]\n",
    "    predictions = model.predict(X)\n",
    "\n",
    "    rated_scores = pd.DataFrame(predictions, columns = ['score'])\n",
    "\n",
    "    name = df.iloc[:, -1]\n",
    "\n",
    "    # Combine horse names and predicted scores into one DataFrame\n",
    "    predicted = pd.concat([name.reset_index(drop=True), rated_scores.reset_index(drop=True)], axis=1)\n",
    "\n",
    "    # Optionally rename columns if name column has no name\n",
    "    predicted.columns = ['Horse_name', 'Predicted_Score']\n",
    "\n",
    "    predicted = predicted.sort_values('Predicted_Score', ascending=False)\n",
    "\n",
    "    return predicted"
   ]
  },
  {
   "cell_type": "code",
   "execution_count": 3,
   "id": "9a8ea9c9",
   "metadata": {},
   "outputs": [],
   "source": [
    "def prediction_no_odds(race_url):\n",
    "    model = CatBoostRanker()\n",
    "    model.load_model('model/catboost_ranker.cbm')\n",
    "\n",
    "    df = scrape_current_race_no_odds(race_url)\n",
    "    X = df.iloc[:, :-1]\n",
    "    predictions = model.predict(X)\n",
    "\n",
    "    rated_scores = pd.DataFrame(predictions, columns = ['score'])\n",
    "\n",
    "    name = df.iloc[:, -1]\n",
    "\n",
    "    # Combine horse names and predicted scores into one DataFrame\n",
    "    predicted = pd.concat([name.reset_index(drop=True), rated_scores.reset_index(drop=True)], axis=1)\n",
    "\n",
    "    # Optionally rename columns if name column has no name\n",
    "    predicted.columns = ['Horse_name', 'Predicted_Score']\n",
    "\n",
    "    predicted = predicted.sort_values('Predicted_Score', ascending=False)\n",
    "\n",
    "    return predicted"
   ]
  },
  {
   "cell_type": "code",
   "execution_count": 10,
   "id": "71eac74b",
   "metadata": {},
   "outputs": [],
   "source": [
    "def prediction_no_odds_new(race_url):\n",
    "    model = CatBoostRanker()\n",
    "    model.load_model('model/catboost_ranker_1.cbm')\n",
    "\n",
    "    df = scrape_current_race_no_odds(race_url)\n",
    "    X = df.iloc[:, :-1]\n",
    "    predictions = model.predict(X)\n",
    "\n",
    "    rated_scores = pd.DataFrame(predictions, columns = ['score'])\n",
    "\n",
    "    name = df.iloc[:, -1]\n",
    "\n",
    "    # Combine horse names and predicted scores into one DataFrame\n",
    "    predicted = pd.concat([name.reset_index(drop=True), rated_scores.reset_index(drop=True)], axis=1)\n",
    "\n",
    "    # Optionally rename columns if name column has no name\n",
    "    predicted.columns = ['Horse_name', 'Predicted_Score']\n",
    "\n",
    "    predicted = predicted.sort_values('Predicted_Score', ascending=False)\n",
    "\n",
    "    return predicted"
   ]
  },
  {
   "cell_type": "code",
   "execution_count": 112,
   "id": "e5d34513",
   "metadata": {},
   "outputs": [],
   "source": [
    "def ver_2_prediction(race_url, date):\n",
    "    model = CatBoostRanker()\n",
    "    model.load_model('model/v2/catboost_ranker_v2.cbm')\n",
    "\n",
    "    num_imputer = joblib.load('model/v2/num_imputer_v2.pkl')\n",
    "\n",
    "    df1 = pd.read_csv('data/cleaned_data_20250930.csv')\n",
    "    df = scrape_current_race_no_odds(race_url)\n",
    "\n",
    "    df['Date'] = pd.to_datetime(date)\n",
    "    new_df = pd.concat([df1, df], ignore_index = True)\n",
    "\n",
    "    new_df['Date'] = pd.to_datetime(new_df['Date'])\n",
    "\n",
    "    new_df = new_df.sort_values(['Horse_id', 'Date'])\n",
    "\n",
    "    new_df['recent_3_win_rate_horse'] = (\n",
    "        new_df.groupby('Horse_id')['target']\n",
    "        .transform(lambda x: x.shift().rolling(window=3, min_periods = 3).mean())\n",
    "    )\n",
    "\n",
    "    new_df = new_df.sort_values(['Jockey', 'Date'])\n",
    "\n",
    "    new_df['recent_3_win_rate_jockey'] = (\n",
    "        new_df.groupby('Jockey')['target']\n",
    "        .transform(lambda x: x.shift().rolling(window=3, min_periods = 3).mean())\n",
    "    )\n",
    "\n",
    "    # Expand your rolling statistics beyond just win rate\n",
    "    new_df['recent_5_avg_finish_pos'] = (\n",
    "        new_df.groupby('Horse_id')['target']\n",
    "        .transform(lambda x: x.shift().rolling(window=5, min_periods=2).mean())\n",
    "    )\n",
    "\n",
    "    new_df['recent_3_consistency'] = (\n",
    "        new_df.groupby('Horse_id')['target']\n",
    "        .transform(lambda x: x.shift().rolling(window=3, min_periods=2).std())\n",
    "    )\n",
    "\n",
    "    # Jockey-Trainer combination performance\n",
    "    new_df['jockey_trainer_combo_rate'] = (\n",
    "        new_df.groupby(['Jockey', 'Trainer'])['target']\n",
    "        .transform(lambda x: x.shift().expanding(min_periods=5).mean())\n",
    "    )\n",
    "\n",
    "    # Horse performance on specific track/distance combinations\n",
    "    new_df['horse_track_distance_rate'] = (\n",
    "        new_df.groupby(['Horse_id', 'track', 'Dist.'])['target']\n",
    "        .transform(lambda x: x.shift().expanding(min_periods=2).mean())\n",
    "    )\n",
    "\n",
    "    overall_mean_win_rate = np.mean(new_df['target'] == 4)\n",
    "    new_df['recent_3_win_rate_horse'] = new_df['recent_3_win_rate_horse'].fillna(overall_mean_win_rate)\n",
    "    new_df['recent_3_win_rate_jockey'] = new_df['recent_3_win_rate_jockey'].fillna(overall_mean_win_rate)\n",
    "    new_df['recent_5_avg_finish_pos'] = new_df['recent_5_avg_finish_pos'].fillna(overall_mean_win_rate)\n",
    "    new_df['recent_3_consistency'] = new_df['recent_3_consistency'].fillna(overall_mean_win_rate)\n",
    "    new_df['jockey_trainer_combo_rate'] = new_df['jockey_trainer_combo_rate'].fillna(overall_mean_win_rate)\n",
    "    new_df['horse_track_distance_rate'] = new_df['horse_track_distance_rate'].fillna(overall_mean_win_rate)\n",
    "\n",
    "    # slice only the current date data\n",
    "    new_df = new_df[new_df['Date'] == pd.to_datetime(date)]\n",
    "\n",
    "    # Define training features\n",
    "    categorical_cols = [\n",
    "        'Dist.', 'track_condition', 'RaceClass', 'Trainer', 'Jockey', 'Dam sire', 'rc', 'track', 'course', \n",
    "        'Import type', 'Sire', 'Dam', 'origin', 'age', 'colour', 'sex'\n",
    "    ]\n",
    "    \n",
    "    numerical_cols = [\n",
    "        'Rtg.', 'Act.Wt.', 'Declar.Horse Wt.', 'recent_3_win_rate_horse',\n",
    "        'recent_3_win_rate_jockey', 'recent_5_avg_finish_pos',\n",
    "        'recent_3_consistency', 'jockey_trainer_combo_rate',\n",
    "        'horse_track_distance_rate'\n",
    "    ]\n",
    "\n",
    "    features = categorical_cols + numerical_cols\n",
    "\n",
    "    new_df[numerical_cols] = num_imputer.transform(new_df[numerical_cols])\n",
    "\n",
    "    X = new_df[features].copy()\n",
    "    predictions = model.predict(X)\n",
    "\n",
    "    rated_scores = pd.DataFrame(predictions, columns = ['score'])\n",
    "\n",
    "    name = new_df['Horse_name']\n",
    "\n",
    "    predicted = pd.concat([name.reset_index(drop=True), rated_scores.reset_index(drop=True)], axis=1)\n",
    "\n",
    "    # Optionally rename columns if name column has no name\n",
    "    predicted.columns = ['Horse_name', 'Predicted_Score']\n",
    "\n",
    "    predicted = predicted.sort_values('Predicted_Score', ascending=False)\n",
    "\n",
    "    return predicted\n",
    "\n"
   ]
  },
  {
   "cell_type": "markdown",
   "id": "c8f16edf",
   "metadata": {},
   "source": [
    "# Inferences"
   ]
  },
  {
   "cell_type": "code",
   "execution_count": 113,
   "id": "3405c3c9",
   "metadata": {},
   "outputs": [],
   "source": [
    "df = ver_2_prediction('https://racing.hkjc.com/racing/information/English/racing/RaceCard.aspx', '2025-09-30')"
   ]
  },
  {
   "cell_type": "code",
   "execution_count": 114,
   "id": "c5b95026",
   "metadata": {},
   "outputs": [
    {
     "data": {
      "application/vnd.microsoft.datawrangler.viewer.v0+json": {
       "columns": [
        {
         "name": "index",
         "rawType": "int64",
         "type": "integer"
        },
        {
         "name": "Horse_name",
         "rawType": "object",
         "type": "string"
        },
        {
         "name": "Predicted_Score",
         "rawType": "float64",
         "type": "float"
        }
       ],
       "ref": "c2fff285-3980-4a22-a0d3-072847d83eeb",
       "rows": [
        [
         "13",
         "WINDICATOR FAMILY",
         "0.07956790157838882"
        ],
        [
         "4",
         "CASHISCASH",
         "0.05715377293975998"
        ],
        [
         "7",
         "YOUNG HORIZON",
         "0.008386266328398695"
        ],
        [
         "10",
         "TSUEN WAN GLORY",
         "9.653696198878153e-06"
        ],
        [
         "11",
         "PANDA LEGEND",
         "-1.4475899568638343e-05"
        ],
        [
         "5",
         "COSMO LIGHT",
         "-0.00031360122153833536"
        ],
        [
         "12",
         "IRON LEGION",
         "-0.0029850277434296186"
        ],
        [
         "2",
         "PHANTOM CYCLONE",
         "-0.0052399491757912356"
        ],
        [
         "1",
         "FAIRY HORSE",
         "-0.023386466552393924"
        ],
        [
         "9",
         "LAPRAS",
         "-0.04971975644693204"
        ],
        [
         "0",
         "TEAM HAPPY",
         "-0.05599525232688758"
        ],
        [
         "8",
         "DRAGON SUNRISE",
         "-0.06360417156703312"
        ],
        [
         "3",
         "THE WAY WE WIN",
         "-0.08032259251588879"
        ],
        [
         "6",
         "COSMO NAVIGATOR",
         "-0.09966714830047256"
        ]
       ],
       "shape": {
        "columns": 2,
        "rows": 14
       }
      },
      "text/html": [
       "<div>\n",
       "<style scoped>\n",
       "    .dataframe tbody tr th:only-of-type {\n",
       "        vertical-align: middle;\n",
       "    }\n",
       "\n",
       "    .dataframe tbody tr th {\n",
       "        vertical-align: top;\n",
       "    }\n",
       "\n",
       "    .dataframe thead th {\n",
       "        text-align: right;\n",
       "    }\n",
       "</style>\n",
       "<table border=\"1\" class=\"dataframe\">\n",
       "  <thead>\n",
       "    <tr style=\"text-align: right;\">\n",
       "      <th></th>\n",
       "      <th>Horse_name</th>\n",
       "      <th>Predicted_Score</th>\n",
       "    </tr>\n",
       "  </thead>\n",
       "  <tbody>\n",
       "    <tr>\n",
       "      <th>13</th>\n",
       "      <td>WINDICATOR FAMILY</td>\n",
       "      <td>0.079568</td>\n",
       "    </tr>\n",
       "    <tr>\n",
       "      <th>4</th>\n",
       "      <td>CASHISCASH</td>\n",
       "      <td>0.057154</td>\n",
       "    </tr>\n",
       "    <tr>\n",
       "      <th>7</th>\n",
       "      <td>YOUNG HORIZON</td>\n",
       "      <td>0.008386</td>\n",
       "    </tr>\n",
       "    <tr>\n",
       "      <th>10</th>\n",
       "      <td>TSUEN WAN GLORY</td>\n",
       "      <td>0.000010</td>\n",
       "    </tr>\n",
       "    <tr>\n",
       "      <th>11</th>\n",
       "      <td>PANDA LEGEND</td>\n",
       "      <td>-0.000014</td>\n",
       "    </tr>\n",
       "    <tr>\n",
       "      <th>5</th>\n",
       "      <td>COSMO LIGHT</td>\n",
       "      <td>-0.000314</td>\n",
       "    </tr>\n",
       "    <tr>\n",
       "      <th>12</th>\n",
       "      <td>IRON LEGION</td>\n",
       "      <td>-0.002985</td>\n",
       "    </tr>\n",
       "    <tr>\n",
       "      <th>2</th>\n",
       "      <td>PHANTOM CYCLONE</td>\n",
       "      <td>-0.005240</td>\n",
       "    </tr>\n",
       "    <tr>\n",
       "      <th>1</th>\n",
       "      <td>FAIRY HORSE</td>\n",
       "      <td>-0.023386</td>\n",
       "    </tr>\n",
       "    <tr>\n",
       "      <th>9</th>\n",
       "      <td>LAPRAS</td>\n",
       "      <td>-0.049720</td>\n",
       "    </tr>\n",
       "    <tr>\n",
       "      <th>0</th>\n",
       "      <td>TEAM HAPPY</td>\n",
       "      <td>-0.055995</td>\n",
       "    </tr>\n",
       "    <tr>\n",
       "      <th>8</th>\n",
       "      <td>DRAGON SUNRISE</td>\n",
       "      <td>-0.063604</td>\n",
       "    </tr>\n",
       "    <tr>\n",
       "      <th>3</th>\n",
       "      <td>THE WAY WE WIN</td>\n",
       "      <td>-0.080323</td>\n",
       "    </tr>\n",
       "    <tr>\n",
       "      <th>6</th>\n",
       "      <td>COSMO NAVIGATOR</td>\n",
       "      <td>-0.099667</td>\n",
       "    </tr>\n",
       "  </tbody>\n",
       "</table>\n",
       "</div>"
      ],
      "text/plain": [
       "           Horse_name  Predicted_Score\n",
       "13  WINDICATOR FAMILY         0.079568\n",
       "4          CASHISCASH         0.057154\n",
       "7       YOUNG HORIZON         0.008386\n",
       "10    TSUEN WAN GLORY         0.000010\n",
       "11       PANDA LEGEND        -0.000014\n",
       "5         COSMO LIGHT        -0.000314\n",
       "12        IRON LEGION        -0.002985\n",
       "2     PHANTOM CYCLONE        -0.005240\n",
       "1         FAIRY HORSE        -0.023386\n",
       "9              LAPRAS        -0.049720\n",
       "0          TEAM HAPPY        -0.055995\n",
       "8      DRAGON SUNRISE        -0.063604\n",
       "3      THE WAY WE WIN        -0.080323\n",
       "6     COSMO NAVIGATOR        -0.099667"
      ]
     },
     "execution_count": 114,
     "metadata": {},
     "output_type": "execute_result"
    }
   ],
   "source": [
    "df"
   ]
  },
  {
   "cell_type": "code",
   "execution_count": 17,
   "id": "3db0b68d",
   "metadata": {},
   "outputs": [],
   "source": [
    "race_url = 'https://racing.hkjc.com/racing/information/English/racing/RaceCard.aspx?RaceDate=2025/09/10&Racecourse=HV&RaceNo=8'\n",
    "odds_url = 'https://bet.hkjc.com/en/racing/wp/2025-09-10/HV/8'\n",
    "\n",
    "# df = prediction(race_url, odds_url)\n",
    "df = prediction(race_url, odds_url)\n",
    "df1 = prediction_no_odds(race_url)\n",
    "df2 = prediction_no_odds_new(race_url)"
   ]
  },
  {
   "cell_type": "code",
   "execution_count": 18,
   "id": "c6f28594",
   "metadata": {},
   "outputs": [
    {
     "data": {
      "application/vnd.microsoft.datawrangler.viewer.v0+json": {
       "columns": [
        {
         "name": "index",
         "rawType": "int64",
         "type": "integer"
        },
        {
         "name": "Horse_name",
         "rawType": "object",
         "type": "string"
        },
        {
         "name": "Predicted_Score",
         "rawType": "float64",
         "type": "float"
        }
       ],
       "ref": "d5b96290-8ae0-4eb1-8226-b5f5f56a3507",
       "rows": [
        [
         "5",
         "STORMING DRAGON",
         "1.063785557785934"
        ],
        [
         "2",
         "SOVEREIGN FUND",
         "0.8747242874993617"
        ],
        [
         "9",
         "KING OF FIGHTERS",
         "0.6247472436692192"
        ],
        [
         "0",
         "DRAGON FOUR SEAS",
         "0.12627637507862133"
        ],
        [
         "11",
         "MONARCH COUNTY",
         "-0.09844980212605137"
        ],
        [
         "8",
         "VICTOR THE RAPID",
         "-0.254325496349022"
        ],
        [
         "4",
         "REGAL GEM",
         "-0.2945115952694799"
        ],
        [
         "3",
         "GIANT LEAP",
         "-0.4011677806764986"
        ],
        [
         "10",
         "THRIVING BROTHERS",
         "-0.5711413426235161"
        ],
        [
         "1",
         "POWER KOEPP",
         "-0.5723371952457477"
        ],
        [
         "7",
         "LUCKY PLANET",
         "-1.2718766667562953"
        ],
        [
         "6",
         "KINGDOM OF RICHES",
         "-1.7437950572771364"
        ]
       ],
       "shape": {
        "columns": 2,
        "rows": 12
       }
      },
      "text/html": [
       "<div>\n",
       "<style scoped>\n",
       "    .dataframe tbody tr th:only-of-type {\n",
       "        vertical-align: middle;\n",
       "    }\n",
       "\n",
       "    .dataframe tbody tr th {\n",
       "        vertical-align: top;\n",
       "    }\n",
       "\n",
       "    .dataframe thead th {\n",
       "        text-align: right;\n",
       "    }\n",
       "</style>\n",
       "<table border=\"1\" class=\"dataframe\">\n",
       "  <thead>\n",
       "    <tr style=\"text-align: right;\">\n",
       "      <th></th>\n",
       "      <th>Horse_name</th>\n",
       "      <th>Predicted_Score</th>\n",
       "    </tr>\n",
       "  </thead>\n",
       "  <tbody>\n",
       "    <tr>\n",
       "      <th>5</th>\n",
       "      <td>STORMING DRAGON</td>\n",
       "      <td>1.063786</td>\n",
       "    </tr>\n",
       "    <tr>\n",
       "      <th>2</th>\n",
       "      <td>SOVEREIGN FUND</td>\n",
       "      <td>0.874724</td>\n",
       "    </tr>\n",
       "    <tr>\n",
       "      <th>9</th>\n",
       "      <td>KING OF FIGHTERS</td>\n",
       "      <td>0.624747</td>\n",
       "    </tr>\n",
       "    <tr>\n",
       "      <th>0</th>\n",
       "      <td>DRAGON FOUR SEAS</td>\n",
       "      <td>0.126276</td>\n",
       "    </tr>\n",
       "    <tr>\n",
       "      <th>11</th>\n",
       "      <td>MONARCH COUNTY</td>\n",
       "      <td>-0.098450</td>\n",
       "    </tr>\n",
       "    <tr>\n",
       "      <th>8</th>\n",
       "      <td>VICTOR THE RAPID</td>\n",
       "      <td>-0.254325</td>\n",
       "    </tr>\n",
       "    <tr>\n",
       "      <th>4</th>\n",
       "      <td>REGAL GEM</td>\n",
       "      <td>-0.294512</td>\n",
       "    </tr>\n",
       "    <tr>\n",
       "      <th>3</th>\n",
       "      <td>GIANT LEAP</td>\n",
       "      <td>-0.401168</td>\n",
       "    </tr>\n",
       "    <tr>\n",
       "      <th>10</th>\n",
       "      <td>THRIVING BROTHERS</td>\n",
       "      <td>-0.571141</td>\n",
       "    </tr>\n",
       "    <tr>\n",
       "      <th>1</th>\n",
       "      <td>POWER KOEPP</td>\n",
       "      <td>-0.572337</td>\n",
       "    </tr>\n",
       "    <tr>\n",
       "      <th>7</th>\n",
       "      <td>LUCKY PLANET</td>\n",
       "      <td>-1.271877</td>\n",
       "    </tr>\n",
       "    <tr>\n",
       "      <th>6</th>\n",
       "      <td>KINGDOM OF RICHES</td>\n",
       "      <td>-1.743795</td>\n",
       "    </tr>\n",
       "  </tbody>\n",
       "</table>\n",
       "</div>"
      ],
      "text/plain": [
       "           Horse_name  Predicted_Score\n",
       "5     STORMING DRAGON         1.063786\n",
       "2      SOVEREIGN FUND         0.874724\n",
       "9    KING OF FIGHTERS         0.624747\n",
       "0    DRAGON FOUR SEAS         0.126276\n",
       "11     MONARCH COUNTY        -0.098450\n",
       "8    VICTOR THE RAPID        -0.254325\n",
       "4           REGAL GEM        -0.294512\n",
       "3          GIANT LEAP        -0.401168\n",
       "10  THRIVING BROTHERS        -0.571141\n",
       "1         POWER KOEPP        -0.572337\n",
       "7        LUCKY PLANET        -1.271877\n",
       "6   KINGDOM OF RICHES        -1.743795"
      ]
     },
     "execution_count": 18,
     "metadata": {},
     "output_type": "execute_result"
    }
   ],
   "source": [
    "df"
   ]
  },
  {
   "cell_type": "code",
   "execution_count": 19,
   "id": "d7771d66",
   "metadata": {},
   "outputs": [
    {
     "data": {
      "application/vnd.microsoft.datawrangler.viewer.v0+json": {
       "columns": [
        {
         "name": "index",
         "rawType": "int64",
         "type": "integer"
        },
        {
         "name": "Horse_name",
         "rawType": "object",
         "type": "string"
        },
        {
         "name": "Predicted_Score",
         "rawType": "float64",
         "type": "float"
        }
       ],
       "ref": "bf1ab98b-6949-4060-8cbb-ea2790b0bd3e",
       "rows": [
        [
         "5",
         "STORMING DRAGON",
         "0.5795598046460502"
        ],
        [
         "11",
         "MONARCH COUNTY",
         "0.5733780337854573"
        ],
        [
         "3",
         "GIANT LEAP",
         "0.13533015321924077"
        ],
        [
         "2",
         "SOVEREIGN FUND",
         "0.04997859424623849"
        ],
        [
         "1",
         "POWER KOEPP",
         "-0.06720295063685702"
        ],
        [
         "0",
         "DRAGON FOUR SEAS",
         "-0.08946328673626416"
        ],
        [
         "9",
         "KING OF FIGHTERS",
         "-0.11506049069223215"
        ],
        [
         "10",
         "THRIVING BROTHERS",
         "-0.5494152244542814"
        ],
        [
         "7",
         "LUCKY PLANET",
         "-0.7611889180453939"
        ],
        [
         "8",
         "VICTOR THE RAPID",
         "-1.0005907654629194"
        ],
        [
         "4",
         "REGAL GEM",
         "-1.0009853336274854"
        ],
        [
         "6",
         "KINGDOM OF RICHES",
         "-1.0669201369940875"
        ]
       ],
       "shape": {
        "columns": 2,
        "rows": 12
       }
      },
      "text/html": [
       "<div>\n",
       "<style scoped>\n",
       "    .dataframe tbody tr th:only-of-type {\n",
       "        vertical-align: middle;\n",
       "    }\n",
       "\n",
       "    .dataframe tbody tr th {\n",
       "        vertical-align: top;\n",
       "    }\n",
       "\n",
       "    .dataframe thead th {\n",
       "        text-align: right;\n",
       "    }\n",
       "</style>\n",
       "<table border=\"1\" class=\"dataframe\">\n",
       "  <thead>\n",
       "    <tr style=\"text-align: right;\">\n",
       "      <th></th>\n",
       "      <th>Horse_name</th>\n",
       "      <th>Predicted_Score</th>\n",
       "    </tr>\n",
       "  </thead>\n",
       "  <tbody>\n",
       "    <tr>\n",
       "      <th>5</th>\n",
       "      <td>STORMING DRAGON</td>\n",
       "      <td>0.579560</td>\n",
       "    </tr>\n",
       "    <tr>\n",
       "      <th>11</th>\n",
       "      <td>MONARCH COUNTY</td>\n",
       "      <td>0.573378</td>\n",
       "    </tr>\n",
       "    <tr>\n",
       "      <th>3</th>\n",
       "      <td>GIANT LEAP</td>\n",
       "      <td>0.135330</td>\n",
       "    </tr>\n",
       "    <tr>\n",
       "      <th>2</th>\n",
       "      <td>SOVEREIGN FUND</td>\n",
       "      <td>0.049979</td>\n",
       "    </tr>\n",
       "    <tr>\n",
       "      <th>1</th>\n",
       "      <td>POWER KOEPP</td>\n",
       "      <td>-0.067203</td>\n",
       "    </tr>\n",
       "    <tr>\n",
       "      <th>0</th>\n",
       "      <td>DRAGON FOUR SEAS</td>\n",
       "      <td>-0.089463</td>\n",
       "    </tr>\n",
       "    <tr>\n",
       "      <th>9</th>\n",
       "      <td>KING OF FIGHTERS</td>\n",
       "      <td>-0.115060</td>\n",
       "    </tr>\n",
       "    <tr>\n",
       "      <th>10</th>\n",
       "      <td>THRIVING BROTHERS</td>\n",
       "      <td>-0.549415</td>\n",
       "    </tr>\n",
       "    <tr>\n",
       "      <th>7</th>\n",
       "      <td>LUCKY PLANET</td>\n",
       "      <td>-0.761189</td>\n",
       "    </tr>\n",
       "    <tr>\n",
       "      <th>8</th>\n",
       "      <td>VICTOR THE RAPID</td>\n",
       "      <td>-1.000591</td>\n",
       "    </tr>\n",
       "    <tr>\n",
       "      <th>4</th>\n",
       "      <td>REGAL GEM</td>\n",
       "      <td>-1.000985</td>\n",
       "    </tr>\n",
       "    <tr>\n",
       "      <th>6</th>\n",
       "      <td>KINGDOM OF RICHES</td>\n",
       "      <td>-1.066920</td>\n",
       "    </tr>\n",
       "  </tbody>\n",
       "</table>\n",
       "</div>"
      ],
      "text/plain": [
       "           Horse_name  Predicted_Score\n",
       "5     STORMING DRAGON         0.579560\n",
       "11     MONARCH COUNTY         0.573378\n",
       "3          GIANT LEAP         0.135330\n",
       "2      SOVEREIGN FUND         0.049979\n",
       "1         POWER KOEPP        -0.067203\n",
       "0    DRAGON FOUR SEAS        -0.089463\n",
       "9    KING OF FIGHTERS        -0.115060\n",
       "10  THRIVING BROTHERS        -0.549415\n",
       "7        LUCKY PLANET        -0.761189\n",
       "8    VICTOR THE RAPID        -1.000591\n",
       "4           REGAL GEM        -1.000985\n",
       "6   KINGDOM OF RICHES        -1.066920"
      ]
     },
     "execution_count": 19,
     "metadata": {},
     "output_type": "execute_result"
    }
   ],
   "source": [
    "df1"
   ]
  },
  {
   "cell_type": "code",
   "execution_count": 20,
   "id": "41be172e",
   "metadata": {},
   "outputs": [
    {
     "data": {
      "application/vnd.microsoft.datawrangler.viewer.v0+json": {
       "columns": [
        {
         "name": "index",
         "rawType": "int64",
         "type": "integer"
        },
        {
         "name": "Horse_name",
         "rawType": "object",
         "type": "string"
        },
        {
         "name": "Predicted_Score",
         "rawType": "float64",
         "type": "float"
        }
       ],
       "ref": "2cba75a1-8085-440e-8cd9-b8fad09d8873",
       "rows": [
        [
         "5",
         "STORMING DRAGON",
         "0.7412155419086648"
        ],
        [
         "11",
         "MONARCH COUNTY",
         "0.5219998129225221"
        ],
        [
         "2",
         "SOVEREIGN FUND",
         "0.18491777288332817"
        ],
        [
         "3",
         "GIANT LEAP",
         "0.1664722725689997"
        ],
        [
         "0",
         "DRAGON FOUR SEAS",
         "-0.010210413293175749"
        ],
        [
         "1",
         "POWER KOEPP",
         "-0.012245222787089532"
        ],
        [
         "9",
         "KING OF FIGHTERS",
         "-0.0893319392129002"
        ],
        [
         "10",
         "THRIVING BROTHERS",
         "-0.5194419405746544"
        ],
        [
         "7",
         "LUCKY PLANET",
         "-0.748512794481152"
        ],
        [
         "8",
         "VICTOR THE RAPID",
         "-0.8824463002190274"
        ],
        [
         "6",
         "KINGDOM OF RICHES",
         "-1.01150963380895"
        ],
        [
         "4",
         "REGAL GEM",
         "-1.0487355422380804"
        ]
       ],
       "shape": {
        "columns": 2,
        "rows": 12
       }
      },
      "text/html": [
       "<div>\n",
       "<style scoped>\n",
       "    .dataframe tbody tr th:only-of-type {\n",
       "        vertical-align: middle;\n",
       "    }\n",
       "\n",
       "    .dataframe tbody tr th {\n",
       "        vertical-align: top;\n",
       "    }\n",
       "\n",
       "    .dataframe thead th {\n",
       "        text-align: right;\n",
       "    }\n",
       "</style>\n",
       "<table border=\"1\" class=\"dataframe\">\n",
       "  <thead>\n",
       "    <tr style=\"text-align: right;\">\n",
       "      <th></th>\n",
       "      <th>Horse_name</th>\n",
       "      <th>Predicted_Score</th>\n",
       "    </tr>\n",
       "  </thead>\n",
       "  <tbody>\n",
       "    <tr>\n",
       "      <th>5</th>\n",
       "      <td>STORMING DRAGON</td>\n",
       "      <td>0.741216</td>\n",
       "    </tr>\n",
       "    <tr>\n",
       "      <th>11</th>\n",
       "      <td>MONARCH COUNTY</td>\n",
       "      <td>0.522000</td>\n",
       "    </tr>\n",
       "    <tr>\n",
       "      <th>2</th>\n",
       "      <td>SOVEREIGN FUND</td>\n",
       "      <td>0.184918</td>\n",
       "    </tr>\n",
       "    <tr>\n",
       "      <th>3</th>\n",
       "      <td>GIANT LEAP</td>\n",
       "      <td>0.166472</td>\n",
       "    </tr>\n",
       "    <tr>\n",
       "      <th>0</th>\n",
       "      <td>DRAGON FOUR SEAS</td>\n",
       "      <td>-0.010210</td>\n",
       "    </tr>\n",
       "    <tr>\n",
       "      <th>1</th>\n",
       "      <td>POWER KOEPP</td>\n",
       "      <td>-0.012245</td>\n",
       "    </tr>\n",
       "    <tr>\n",
       "      <th>9</th>\n",
       "      <td>KING OF FIGHTERS</td>\n",
       "      <td>-0.089332</td>\n",
       "    </tr>\n",
       "    <tr>\n",
       "      <th>10</th>\n",
       "      <td>THRIVING BROTHERS</td>\n",
       "      <td>-0.519442</td>\n",
       "    </tr>\n",
       "    <tr>\n",
       "      <th>7</th>\n",
       "      <td>LUCKY PLANET</td>\n",
       "      <td>-0.748513</td>\n",
       "    </tr>\n",
       "    <tr>\n",
       "      <th>8</th>\n",
       "      <td>VICTOR THE RAPID</td>\n",
       "      <td>-0.882446</td>\n",
       "    </tr>\n",
       "    <tr>\n",
       "      <th>6</th>\n",
       "      <td>KINGDOM OF RICHES</td>\n",
       "      <td>-1.011510</td>\n",
       "    </tr>\n",
       "    <tr>\n",
       "      <th>4</th>\n",
       "      <td>REGAL GEM</td>\n",
       "      <td>-1.048736</td>\n",
       "    </tr>\n",
       "  </tbody>\n",
       "</table>\n",
       "</div>"
      ],
      "text/plain": [
       "           Horse_name  Predicted_Score\n",
       "5     STORMING DRAGON         0.741216\n",
       "11     MONARCH COUNTY         0.522000\n",
       "2      SOVEREIGN FUND         0.184918\n",
       "3          GIANT LEAP         0.166472\n",
       "0    DRAGON FOUR SEAS        -0.010210\n",
       "1         POWER KOEPP        -0.012245\n",
       "9    KING OF FIGHTERS        -0.089332\n",
       "10  THRIVING BROTHERS        -0.519442\n",
       "7        LUCKY PLANET        -0.748513\n",
       "8    VICTOR THE RAPID        -0.882446\n",
       "6   KINGDOM OF RICHES        -1.011510\n",
       "4           REGAL GEM        -1.048736"
      ]
     },
     "execution_count": 20,
     "metadata": {},
     "output_type": "execute_result"
    }
   ],
   "source": [
    "df2"
   ]
  },
  {
   "cell_type": "code",
   "execution_count": null,
   "id": "6e63db09",
   "metadata": {},
   "outputs": [],
   "source": []
  }
 ],
 "metadata": {
  "kernelspec": {
   "display_name": "scraping",
   "language": "python",
   "name": "python3"
  },
  "language_info": {
   "codemirror_mode": {
    "name": "ipython",
    "version": 3
   },
   "file_extension": ".py",
   "mimetype": "text/x-python",
   "name": "python",
   "nbconvert_exporter": "python",
   "pygments_lexer": "ipython3",
   "version": "3.13.5"
  }
 },
 "nbformat": 4,
 "nbformat_minor": 5
}
