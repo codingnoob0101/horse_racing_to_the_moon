{
 "cells": [
  {
   "cell_type": "code",
   "execution_count": 13,
   "id": "981a6430",
   "metadata": {},
   "outputs": [],
   "source": [
    "from py.race_function import scrape_current_race\n",
    "from catboost import CatBoostRanker\n",
    "import pandas as pd"
   ]
  },
  {
   "cell_type": "code",
   "execution_count": 24,
   "id": "1894294f",
   "metadata": {},
   "outputs": [],
   "source": [
    "def prediction(race_url, odds_url):\n",
    "    model = CatBoostRanker()\n",
    "    model.load_model('model/catboost_ranking_model.cbm')\n",
    "\n",
    "    df = scrape_current_race(race_url, odds_url)\n",
    "    X = df.iloc[:, :-1]\n",
    "    predictions = model.predict(X)\n",
    "\n",
    "    rated_scores = pd.DataFrame(predictions, columns = ['score'])\n",
    "\n",
    "    name = df.iloc[:, -1]\n",
    "\n",
    "    # Combine horse names and predicted scores into one DataFrame\n",
    "    predicted = pd.concat([name.reset_index(drop=True), rated_scores.reset_index(drop=True)], axis=1)\n",
    "\n",
    "    # Optionally rename columns if name column has no name\n",
    "    predicted.columns = ['Horse_name', 'Predicted_Score']\n",
    "\n",
    "    predicted = predicted.sort_values('Predicted_Score', ascending=False)\n",
    "\n",
    "    return predicted"
   ]
  },
  {
   "cell_type": "code",
   "execution_count": 25,
   "id": "3db0b68d",
   "metadata": {},
   "outputs": [],
   "source": [
    "race_url = 'https://racing.hkjc.com/racing/information/English/racing/RaceCard.aspx'\n",
    "odds_url = 'https://bet.hkjc.com/en/racing/wp/2025-09-07/ST/1'\n",
    "\n",
    "df = prediction(race_url, odds_url)"
   ]
  },
  {
   "cell_type": "code",
   "execution_count": 26,
   "id": "c6f28594",
   "metadata": {},
   "outputs": [
    {
     "data": {
      "application/vnd.microsoft.datawrangler.viewer.v0+json": {
       "columns": [
        {
         "name": "index",
         "rawType": "int64",
         "type": "integer"
        },
        {
         "name": "Horse_name",
         "rawType": "object",
         "type": "string"
        },
        {
         "name": "Predicted_Score",
         "rawType": "float64",
         "type": "float"
        }
       ],
       "ref": "c020fe41-295b-4e45-9679-f1d6a83a3cfb",
       "rows": [
        [
         "11",
         "YOU'REMYEVERYTHING",
         "0.8475436672826682"
        ],
        [
         "8",
         "SPEEDY SMARTIE",
         "0.8449583930733837"
        ],
        [
         "10",
         "SUPER ELITE",
         "0.6233345926268221"
        ],
        [
         "13",
         "SONIC BOOM",
         "0.5079439228597558"
        ],
        [
         "9",
         "THE CONCENTRATION",
         "0.4687284811411878"
        ],
        [
         "12",
         "FAIRY HORSE",
         "0.36003616821115614"
        ],
        [
         "7",
         "MANYTHANKS FOREVER",
         "0.34940706551988754"
        ],
        [
         "2",
         "NOBLE DELUXE",
         "0.1476247277461944"
        ],
        [
         "3",
         "ORIENTAL SURPRISE",
         "-0.5203258326908262"
        ],
        [
         "4",
         "SUNNY DARLING",
         "-0.673771435476322"
        ],
        [
         "1",
         "COLONEL",
         "-0.883507656674265"
        ],
        [
         "6",
         "BINGO BABE",
         "-1.0129822686074412"
        ],
        [
         "5",
         "BRILLIANT FIRE",
         "-1.1192465338386164"
        ],
        [
         "0",
         "FLYING AKEED",
         "-1.6588322497214385"
        ]
       ],
       "shape": {
        "columns": 2,
        "rows": 14
       }
      },
      "text/html": [
       "<div>\n",
       "<style scoped>\n",
       "    .dataframe tbody tr th:only-of-type {\n",
       "        vertical-align: middle;\n",
       "    }\n",
       "\n",
       "    .dataframe tbody tr th {\n",
       "        vertical-align: top;\n",
       "    }\n",
       "\n",
       "    .dataframe thead th {\n",
       "        text-align: right;\n",
       "    }\n",
       "</style>\n",
       "<table border=\"1\" class=\"dataframe\">\n",
       "  <thead>\n",
       "    <tr style=\"text-align: right;\">\n",
       "      <th></th>\n",
       "      <th>Horse_name</th>\n",
       "      <th>Predicted_Score</th>\n",
       "    </tr>\n",
       "  </thead>\n",
       "  <tbody>\n",
       "    <tr>\n",
       "      <th>11</th>\n",
       "      <td>YOU'REMYEVERYTHING</td>\n",
       "      <td>0.847544</td>\n",
       "    </tr>\n",
       "    <tr>\n",
       "      <th>8</th>\n",
       "      <td>SPEEDY SMARTIE</td>\n",
       "      <td>0.844958</td>\n",
       "    </tr>\n",
       "    <tr>\n",
       "      <th>10</th>\n",
       "      <td>SUPER ELITE</td>\n",
       "      <td>0.623335</td>\n",
       "    </tr>\n",
       "    <tr>\n",
       "      <th>13</th>\n",
       "      <td>SONIC BOOM</td>\n",
       "      <td>0.507944</td>\n",
       "    </tr>\n",
       "    <tr>\n",
       "      <th>9</th>\n",
       "      <td>THE CONCENTRATION</td>\n",
       "      <td>0.468728</td>\n",
       "    </tr>\n",
       "    <tr>\n",
       "      <th>12</th>\n",
       "      <td>FAIRY HORSE</td>\n",
       "      <td>0.360036</td>\n",
       "    </tr>\n",
       "    <tr>\n",
       "      <th>7</th>\n",
       "      <td>MANYTHANKS FOREVER</td>\n",
       "      <td>0.349407</td>\n",
       "    </tr>\n",
       "    <tr>\n",
       "      <th>2</th>\n",
       "      <td>NOBLE DELUXE</td>\n",
       "      <td>0.147625</td>\n",
       "    </tr>\n",
       "    <tr>\n",
       "      <th>3</th>\n",
       "      <td>ORIENTAL SURPRISE</td>\n",
       "      <td>-0.520326</td>\n",
       "    </tr>\n",
       "    <tr>\n",
       "      <th>4</th>\n",
       "      <td>SUNNY DARLING</td>\n",
       "      <td>-0.673771</td>\n",
       "    </tr>\n",
       "    <tr>\n",
       "      <th>1</th>\n",
       "      <td>COLONEL</td>\n",
       "      <td>-0.883508</td>\n",
       "    </tr>\n",
       "    <tr>\n",
       "      <th>6</th>\n",
       "      <td>BINGO BABE</td>\n",
       "      <td>-1.012982</td>\n",
       "    </tr>\n",
       "    <tr>\n",
       "      <th>5</th>\n",
       "      <td>BRILLIANT FIRE</td>\n",
       "      <td>-1.119247</td>\n",
       "    </tr>\n",
       "    <tr>\n",
       "      <th>0</th>\n",
       "      <td>FLYING AKEED</td>\n",
       "      <td>-1.658832</td>\n",
       "    </tr>\n",
       "  </tbody>\n",
       "</table>\n",
       "</div>"
      ],
      "text/plain": [
       "            Horse_name  Predicted_Score\n",
       "11  YOU'REMYEVERYTHING         0.847544\n",
       "8       SPEEDY SMARTIE         0.844958\n",
       "10         SUPER ELITE         0.623335\n",
       "13          SONIC BOOM         0.507944\n",
       "9    THE CONCENTRATION         0.468728\n",
       "12         FAIRY HORSE         0.360036\n",
       "7   MANYTHANKS FOREVER         0.349407\n",
       "2         NOBLE DELUXE         0.147625\n",
       "3    ORIENTAL SURPRISE        -0.520326\n",
       "4        SUNNY DARLING        -0.673771\n",
       "1              COLONEL        -0.883508\n",
       "6           BINGO BABE        -1.012982\n",
       "5       BRILLIANT FIRE        -1.119247\n",
       "0         FLYING AKEED        -1.658832"
      ]
     },
     "execution_count": 26,
     "metadata": {},
     "output_type": "execute_result"
    }
   ],
   "source": [
    "df"
   ]
  },
  {
   "cell_type": "code",
   "execution_count": null,
   "id": "d7771d66",
   "metadata": {},
   "outputs": [],
   "source": []
  }
 ],
 "metadata": {
  "kernelspec": {
   "display_name": "scraping",
   "language": "python",
   "name": "python3"
  },
  "language_info": {
   "codemirror_mode": {
    "name": "ipython",
    "version": 3
   },
   "file_extension": ".py",
   "mimetype": "text/x-python",
   "name": "python",
   "nbconvert_exporter": "python",
   "pygments_lexer": "ipython3",
   "version": "3.13.5"
  }
 },
 "nbformat": 4,
 "nbformat_minor": 5
}
