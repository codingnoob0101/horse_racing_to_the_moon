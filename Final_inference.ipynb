{
 "cells": [
  {
   "cell_type": "code",
   "execution_count": 1,
   "id": "981a6430",
   "metadata": {},
   "outputs": [],
   "source": [
    "from py.race_function import scrape_current_race, scrape_current_race_no_odds\n",
    "from catboost import CatBoostRanker\n",
    "import pandas as pd"
   ]
  },
  {
   "cell_type": "code",
   "execution_count": 2,
   "id": "1894294f",
   "metadata": {},
   "outputs": [],
   "source": [
    "def prediction(race_url, odds_url):\n",
    "    model = CatBoostRanker()\n",
    "    model.load_model('model/catboost_ranking_model.cbm')\n",
    "\n",
    "    df = scrape_current_race(race_url, odds_url)\n",
    "    X = df.iloc[:, :-1]\n",
    "    predictions = model.predict(X)\n",
    "\n",
    "    rated_scores = pd.DataFrame(predictions, columns = ['score'])\n",
    "\n",
    "    name = df.iloc[:, -1]\n",
    "\n",
    "    # Combine horse names and predicted scores into one DataFrame\n",
    "    predicted = pd.concat([name.reset_index(drop=True), rated_scores.reset_index(drop=True)], axis=1)\n",
    "\n",
    "    # Optionally rename columns if name column has no name\n",
    "    predicted.columns = ['Horse_name', 'Predicted_Score']\n",
    "\n",
    "    predicted = predicted.sort_values('Predicted_Score', ascending=False)\n",
    "\n",
    "    return predicted"
   ]
  },
  {
   "cell_type": "code",
   "execution_count": 3,
   "id": "9a8ea9c9",
   "metadata": {},
   "outputs": [],
   "source": [
    "def prediction_no_odds(race_url):\n",
    "    model = CatBoostRanker()\n",
    "    model.load_model('model/catboost_ranker.cbm')\n",
    "\n",
    "    df = scrape_current_race_no_odds(race_url)\n",
    "    X = df.iloc[:, :-1]\n",
    "    predictions = model.predict(X)\n",
    "\n",
    "    rated_scores = pd.DataFrame(predictions, columns = ['score'])\n",
    "\n",
    "    name = df.iloc[:, -1]\n",
    "\n",
    "    # Combine horse names and predicted scores into one DataFrame\n",
    "    predicted = pd.concat([name.reset_index(drop=True), rated_scores.reset_index(drop=True)], axis=1)\n",
    "\n",
    "    # Optionally rename columns if name column has no name\n",
    "    predicted.columns = ['Horse_name', 'Predicted_Score']\n",
    "\n",
    "    predicted = predicted.sort_values('Predicted_Score', ascending=False)\n",
    "\n",
    "    return predicted"
   ]
  },
  {
   "cell_type": "code",
   "execution_count": 7,
   "id": "3db0b68d",
   "metadata": {},
   "outputs": [],
   "source": [
    "race_url = 'https://racing.hkjc.com/racing/information/English/racing/RaceCard.aspx?RaceDate=2025/09/10&Racecourse=HV&RaceNo=2'\n",
    "odds_url = 'https://bet.hkjc.com/en/racing/wp/2025-09-10/HV/2'\n",
    "\n",
    "df = prediction(race_url, odds_url)\n",
    "df1 = prediction_no_odds(race_url)"
   ]
  },
  {
   "cell_type": "code",
   "execution_count": 8,
   "id": "c6f28594",
   "metadata": {},
   "outputs": [
    {
     "data": {
      "application/vnd.microsoft.datawrangler.viewer.v0+json": {
       "columns": [
        {
         "name": "index",
         "rawType": "int64",
         "type": "integer"
        },
        {
         "name": "Horse_name",
         "rawType": "object",
         "type": "string"
        },
        {
         "name": "Predicted_Score",
         "rawType": "float64",
         "type": "float"
        }
       ],
       "ref": "14083236-2719-4617-be87-5156eba709de",
       "rows": [
        [
         "3",
         "FOREMOST TEDDY",
         "1.4703420593408367"
        ],
        [
         "0",
         "WAH MAY WAI WAI",
         "0.9252817603721013"
        ],
        [
         "5",
         "HARRY'S HERO",
         "0.6974067201711769"
        ],
        [
         "8",
         "YEABOI",
         "0.5090916853002518"
        ],
        [
         "6",
         "COOL BLUE",
         "0.47650607865735495"
        ],
        [
         "4",
         "GO GO GO",
         "0.3756404595003069"
        ],
        [
         "1",
         "SUPER SICARIO",
         "0.08582227523253039"
        ],
        [
         "2",
         "EN PERFECTO",
         "-0.5321388710826618"
        ],
        [
         "7",
         "PERFECTO MOMENTS",
         "-0.7356786492603469"
        ]
       ],
       "shape": {
        "columns": 2,
        "rows": 9
       }
      },
      "text/html": [
       "<div>\n",
       "<style scoped>\n",
       "    .dataframe tbody tr th:only-of-type {\n",
       "        vertical-align: middle;\n",
       "    }\n",
       "\n",
       "    .dataframe tbody tr th {\n",
       "        vertical-align: top;\n",
       "    }\n",
       "\n",
       "    .dataframe thead th {\n",
       "        text-align: right;\n",
       "    }\n",
       "</style>\n",
       "<table border=\"1\" class=\"dataframe\">\n",
       "  <thead>\n",
       "    <tr style=\"text-align: right;\">\n",
       "      <th></th>\n",
       "      <th>Horse_name</th>\n",
       "      <th>Predicted_Score</th>\n",
       "    </tr>\n",
       "  </thead>\n",
       "  <tbody>\n",
       "    <tr>\n",
       "      <th>3</th>\n",
       "      <td>FOREMOST TEDDY</td>\n",
       "      <td>1.470342</td>\n",
       "    </tr>\n",
       "    <tr>\n",
       "      <th>0</th>\n",
       "      <td>WAH MAY WAI WAI</td>\n",
       "      <td>0.925282</td>\n",
       "    </tr>\n",
       "    <tr>\n",
       "      <th>5</th>\n",
       "      <td>HARRY'S HERO</td>\n",
       "      <td>0.697407</td>\n",
       "    </tr>\n",
       "    <tr>\n",
       "      <th>8</th>\n",
       "      <td>YEABOI</td>\n",
       "      <td>0.509092</td>\n",
       "    </tr>\n",
       "    <tr>\n",
       "      <th>6</th>\n",
       "      <td>COOL BLUE</td>\n",
       "      <td>0.476506</td>\n",
       "    </tr>\n",
       "    <tr>\n",
       "      <th>4</th>\n",
       "      <td>GO GO GO</td>\n",
       "      <td>0.375640</td>\n",
       "    </tr>\n",
       "    <tr>\n",
       "      <th>1</th>\n",
       "      <td>SUPER SICARIO</td>\n",
       "      <td>0.085822</td>\n",
       "    </tr>\n",
       "    <tr>\n",
       "      <th>2</th>\n",
       "      <td>EN PERFECTO</td>\n",
       "      <td>-0.532139</td>\n",
       "    </tr>\n",
       "    <tr>\n",
       "      <th>7</th>\n",
       "      <td>PERFECTO MOMENTS</td>\n",
       "      <td>-0.735679</td>\n",
       "    </tr>\n",
       "  </tbody>\n",
       "</table>\n",
       "</div>"
      ],
      "text/plain": [
       "         Horse_name  Predicted_Score\n",
       "3    FOREMOST TEDDY         1.470342\n",
       "0   WAH MAY WAI WAI         0.925282\n",
       "5      HARRY'S HERO         0.697407\n",
       "8            YEABOI         0.509092\n",
       "6         COOL BLUE         0.476506\n",
       "4          GO GO GO         0.375640\n",
       "1     SUPER SICARIO         0.085822\n",
       "2       EN PERFECTO        -0.532139\n",
       "7  PERFECTO MOMENTS        -0.735679"
      ]
     },
     "execution_count": 8,
     "metadata": {},
     "output_type": "execute_result"
    }
   ],
   "source": [
    "df"
   ]
  },
  {
   "cell_type": "code",
   "execution_count": 9,
   "id": "d7771d66",
   "metadata": {},
   "outputs": [
    {
     "data": {
      "application/vnd.microsoft.datawrangler.viewer.v0+json": {
       "columns": [
        {
         "name": "index",
         "rawType": "int64",
         "type": "integer"
        },
        {
         "name": "Horse_name",
         "rawType": "object",
         "type": "string"
        },
        {
         "name": "Predicted_Score",
         "rawType": "float64",
         "type": "float"
        }
       ],
       "ref": "30fc5b75-276e-41ef-a4fd-eeba11259a19",
       "rows": [
        [
         "5",
         "HARRY'S HERO",
         "1.1941925511618479"
        ],
        [
         "3",
         "FOREMOST TEDDY",
         "0.9750727986781556"
        ],
        [
         "0",
         "WAH MAY WAI WAI",
         "0.8611385310162802"
        ],
        [
         "8",
         "YEABOI",
         "0.5909544381310639"
        ],
        [
         "6",
         "COOL BLUE",
         "0.4536330101127817"
        ],
        [
         "4",
         "GO GO GO",
         "0.02572856135216739"
        ],
        [
         "1",
         "SUPER SICARIO",
         "-0.40721089661346355"
        ],
        [
         "7",
         "PERFECTO MOMENTS",
         "-0.6089826490312191"
        ],
        [
         "2",
         "EN PERFECTO",
         "-0.8539361311254936"
        ]
       ],
       "shape": {
        "columns": 2,
        "rows": 9
       }
      },
      "text/html": [
       "<div>\n",
       "<style scoped>\n",
       "    .dataframe tbody tr th:only-of-type {\n",
       "        vertical-align: middle;\n",
       "    }\n",
       "\n",
       "    .dataframe tbody tr th {\n",
       "        vertical-align: top;\n",
       "    }\n",
       "\n",
       "    .dataframe thead th {\n",
       "        text-align: right;\n",
       "    }\n",
       "</style>\n",
       "<table border=\"1\" class=\"dataframe\">\n",
       "  <thead>\n",
       "    <tr style=\"text-align: right;\">\n",
       "      <th></th>\n",
       "      <th>Horse_name</th>\n",
       "      <th>Predicted_Score</th>\n",
       "    </tr>\n",
       "  </thead>\n",
       "  <tbody>\n",
       "    <tr>\n",
       "      <th>5</th>\n",
       "      <td>HARRY'S HERO</td>\n",
       "      <td>1.194193</td>\n",
       "    </tr>\n",
       "    <tr>\n",
       "      <th>3</th>\n",
       "      <td>FOREMOST TEDDY</td>\n",
       "      <td>0.975073</td>\n",
       "    </tr>\n",
       "    <tr>\n",
       "      <th>0</th>\n",
       "      <td>WAH MAY WAI WAI</td>\n",
       "      <td>0.861139</td>\n",
       "    </tr>\n",
       "    <tr>\n",
       "      <th>8</th>\n",
       "      <td>YEABOI</td>\n",
       "      <td>0.590954</td>\n",
       "    </tr>\n",
       "    <tr>\n",
       "      <th>6</th>\n",
       "      <td>COOL BLUE</td>\n",
       "      <td>0.453633</td>\n",
       "    </tr>\n",
       "    <tr>\n",
       "      <th>4</th>\n",
       "      <td>GO GO GO</td>\n",
       "      <td>0.025729</td>\n",
       "    </tr>\n",
       "    <tr>\n",
       "      <th>1</th>\n",
       "      <td>SUPER SICARIO</td>\n",
       "      <td>-0.407211</td>\n",
       "    </tr>\n",
       "    <tr>\n",
       "      <th>7</th>\n",
       "      <td>PERFECTO MOMENTS</td>\n",
       "      <td>-0.608983</td>\n",
       "    </tr>\n",
       "    <tr>\n",
       "      <th>2</th>\n",
       "      <td>EN PERFECTO</td>\n",
       "      <td>-0.853936</td>\n",
       "    </tr>\n",
       "  </tbody>\n",
       "</table>\n",
       "</div>"
      ],
      "text/plain": [
       "         Horse_name  Predicted_Score\n",
       "5      HARRY'S HERO         1.194193\n",
       "3    FOREMOST TEDDY         0.975073\n",
       "0   WAH MAY WAI WAI         0.861139\n",
       "8            YEABOI         0.590954\n",
       "6         COOL BLUE         0.453633\n",
       "4          GO GO GO         0.025729\n",
       "1     SUPER SICARIO        -0.407211\n",
       "7  PERFECTO MOMENTS        -0.608983\n",
       "2       EN PERFECTO        -0.853936"
      ]
     },
     "execution_count": 9,
     "metadata": {},
     "output_type": "execute_result"
    }
   ],
   "source": [
    "df1"
   ]
  },
  {
   "cell_type": "code",
   "execution_count": null,
   "id": "41be172e",
   "metadata": {},
   "outputs": [],
   "source": []
  }
 ],
 "metadata": {
  "kernelspec": {
   "display_name": "scraping",
   "language": "python",
   "name": "python3"
  },
  "language_info": {
   "codemirror_mode": {
    "name": "ipython",
    "version": 3
   },
   "file_extension": ".py",
   "mimetype": "text/x-python",
   "name": "python",
   "nbconvert_exporter": "python",
   "pygments_lexer": "ipython3",
   "version": "3.13.5"
  }
 },
 "nbformat": 4,
 "nbformat_minor": 5
}
