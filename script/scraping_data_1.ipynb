{
 "cells": [
  {
   "cell_type": "code",
   "execution_count": 1,
   "id": "51b3f7f6",
   "metadata": {},
   "outputs": [
    {
     "name": "stderr",
     "output_type": "stream",
     "text": [
      "c:\\Users\\TCL0011\\AppData\\Local\\anaconda3\\envs\\ml1\\Lib\\site-packages\\pypdf\\_crypt_providers\\_cryptography.py:32: CryptographyDeprecationWarning: ARC4 has been moved to cryptography.hazmat.decrepit.ciphers.algorithms.ARC4 and will be removed from cryptography.hazmat.primitives.ciphers.algorithms in 48.0.0.\n",
      "  from cryptography.hazmat.primitives.ciphers.algorithms import AES, ARC4\n"
     ]
    },
    {
     "ename": "ImportError",
     "evalue": "cannot import name 'TableList' from 'camelot.core' (c:\\Users\\TCL0011\\AppData\\Local\\anaconda3\\envs\\ml1\\Lib\\site-packages\\camelot\\core\\__init__.py)",
     "output_type": "error",
     "traceback": [
      "\u001b[1;31m---------------------------------------------------------------------------\u001b[0m",
      "\u001b[1;31mImportError\u001b[0m                               Traceback (most recent call last)",
      "Cell \u001b[1;32mIn[1], line 6\u001b[0m\n\u001b[0;32m      4\u001b[0m \u001b[38;5;28;01mimport\u001b[39;00m \u001b[38;5;21;01mos\u001b[39;00m\n\u001b[0;32m      5\u001b[0m \u001b[38;5;28;01mimport\u001b[39;00m \u001b[38;5;21;01mre\u001b[39;00m\n\u001b[1;32m----> 6\u001b[0m \u001b[38;5;28;01mimport\u001b[39;00m \u001b[38;5;21;01mcamelot\u001b[39;00m\n",
      "File \u001b[1;32mc:\\Users\\TCL0011\\AppData\\Local\\anaconda3\\envs\\ml1\\Lib\\site-packages\\camelot\\__init__.py:4\u001b[0m\n\u001b[0;32m      1\u001b[0m \u001b[38;5;28;01mimport\u001b[39;00m \u001b[38;5;21;01mlogging\u001b[39;00m\n\u001b[0;32m      3\u001b[0m \u001b[38;5;28;01mfrom\u001b[39;00m \u001b[38;5;21;01m.\u001b[39;00m\u001b[38;5;21;01m__version__\u001b[39;00m \u001b[38;5;28;01mimport\u001b[39;00m __version__  \u001b[38;5;66;03m# noqa D100, F400\u001b[39;00m\n\u001b[1;32m----> 4\u001b[0m \u001b[38;5;28;01mfrom\u001b[39;00m \u001b[38;5;21;01m.\u001b[39;00m\u001b[38;5;21;01mio\u001b[39;00m \u001b[38;5;28;01mimport\u001b[39;00m read_pdf\n\u001b[0;32m      5\u001b[0m \u001b[38;5;28;01mfrom\u001b[39;00m \u001b[38;5;21;01m.\u001b[39;00m\u001b[38;5;21;01mplotting\u001b[39;00m \u001b[38;5;28;01mimport\u001b[39;00m PlotMethods\n\u001b[0;32m      8\u001b[0m \u001b[38;5;66;03m# set up logging\u001b[39;00m\n",
      "File \u001b[1;32mc:\\Users\\TCL0011\\AppData\\Local\\anaconda3\\envs\\ml1\\Lib\\site-packages\\camelot\\io.py:9\u001b[0m\n\u001b[0;32m      5\u001b[0m \u001b[38;5;28;01mfrom\u001b[39;00m \u001b[38;5;21;01mtyping\u001b[39;00m \u001b[38;5;28;01mimport\u001b[39;00m Union\n\u001b[0;32m      7\u001b[0m \u001b[38;5;28;01mfrom\u001b[39;00m \u001b[38;5;21;01mpypdf\u001b[39;00m\u001b[38;5;21;01m.\u001b[39;00m\u001b[38;5;21;01m_utils\u001b[39;00m \u001b[38;5;28;01mimport\u001b[39;00m StrByteType\n\u001b[1;32m----> 9\u001b[0m \u001b[38;5;28;01mfrom\u001b[39;00m \u001b[38;5;21;01m.\u001b[39;00m\u001b[38;5;21;01mhandlers\u001b[39;00m \u001b[38;5;28;01mimport\u001b[39;00m PDFHandler\n\u001b[0;32m     10\u001b[0m \u001b[38;5;28;01mfrom\u001b[39;00m \u001b[38;5;21;01m.\u001b[39;00m\u001b[38;5;21;01mutils\u001b[39;00m \u001b[38;5;28;01mimport\u001b[39;00m remove_extra\n\u001b[0;32m     11\u001b[0m \u001b[38;5;28;01mfrom\u001b[39;00m \u001b[38;5;21;01m.\u001b[39;00m\u001b[38;5;21;01mutils\u001b[39;00m \u001b[38;5;28;01mimport\u001b[39;00m validate_input\n",
      "File \u001b[1;32mc:\\Users\\TCL0011\\AppData\\Local\\anaconda3\\envs\\ml1\\Lib\\site-packages\\camelot\\handlers.py:18\u001b[0m\n\u001b[0;32m     15\u001b[0m \u001b[38;5;28;01mfrom\u001b[39;00m \u001b[38;5;21;01mpypdf\u001b[39;00m \u001b[38;5;28;01mimport\u001b[39;00m PdfWriter\n\u001b[0;32m     16\u001b[0m \u001b[38;5;28;01mfrom\u001b[39;00m \u001b[38;5;21;01mpypdf\u001b[39;00m\u001b[38;5;21;01m.\u001b[39;00m\u001b[38;5;21;01m_utils\u001b[39;00m \u001b[38;5;28;01mimport\u001b[39;00m StrByteType\n\u001b[1;32m---> 18\u001b[0m \u001b[38;5;28;01mfrom\u001b[39;00m \u001b[38;5;21;01m.\u001b[39;00m\u001b[38;5;21;01mcore\u001b[39;00m \u001b[38;5;28;01mimport\u001b[39;00m TableList\n\u001b[0;32m     19\u001b[0m \u001b[38;5;28;01mfrom\u001b[39;00m \u001b[38;5;21;01m.\u001b[39;00m\u001b[38;5;21;01mparsers\u001b[39;00m \u001b[38;5;28;01mimport\u001b[39;00m Hybrid\n\u001b[0;32m     20\u001b[0m \u001b[38;5;28;01mfrom\u001b[39;00m \u001b[38;5;21;01m.\u001b[39;00m\u001b[38;5;21;01mparsers\u001b[39;00m \u001b[38;5;28;01mimport\u001b[39;00m Lattice\n",
      "\u001b[1;31mImportError\u001b[0m: cannot import name 'TableList' from 'camelot.core' (c:\\Users\\TCL0011\\AppData\\Local\\anaconda3\\envs\\ml1\\Lib\\site-packages\\camelot\\core\\__init__.py)"
     ]
    }
   ],
   "source": [
    "import pandas as pd\n",
    "import requests\n",
    "from bs4 import BeautifulSoup\n",
    "import os\n",
    "import re\n",
    "import camelot"
   ]
  },
  {
   "cell_type": "code",
   "execution_count": 5,
   "id": "b812f246",
   "metadata": {},
   "outputs": [],
   "source": [
    "fixture_23 = 'https://res.hkjc.com/racingnews/wp-content/uploads/sites/3/2023/07/fixture_23-24_en.pdf'\n",
    "fixture_24 = 'https://res.hkjc.com/racingnews/wp-content/uploads/sites/3/2024/07/fixture_24-25_e.pdf'\n",
    "fixture_25 = 'https://res.hkjc.com/racingnews/wp-content/uploads/sites/3/2025/07/fixture_25-26.pdf'"
   ]
  },
  {
   "cell_type": "code",
   "execution_count": 6,
   "id": "3fa38479",
   "metadata": {},
   "outputs": [],
   "source": [
    "out_dir = '../data/fixtures'\n",
    "os.makedirs(out_dir, exist_ok=True)"
   ]
  },
  {
   "cell_type": "code",
   "execution_count": 9,
   "id": "3cd569f7",
   "metadata": {},
   "outputs": [
    {
     "name": "stderr",
     "output_type": "stream",
     "text": [
      "c:\\Users\\TCL0011\\AppData\\Local\\anaconda3\\envs\\ml1\\Lib\\site-packages\\urllib3\\connectionpool.py:1097: InsecureRequestWarning: Unverified HTTPS request is being made to host 'res.hkjc.com'. Adding certificate verification is strongly advised. See: https://urllib3.readthedocs.io/en/latest/advanced-usage.html#tls-warnings\n",
      "  warnings.warn(\n"
     ]
    },
    {
     "name": "stdout",
     "output_type": "stream",
     "text": [
      "Downloaded to ../data/fixtures\n"
     ]
    }
   ],
   "source": [
    "response_23 = requests.get(fixture_23, stream = True, verify = False)\n",
    "if response_23.status_code == 200:\n",
    "    with open((out_dir + '/fixture_23.pdf'), 'wb') as f:\n",
    "        f.write(response_23.content)\n",
    "    \n",
    "    print(f'Downloaded to {out_dir}')"
   ]
  },
  {
   "cell_type": "code",
   "execution_count": 11,
   "id": "e4933c92",
   "metadata": {},
   "outputs": [
    {
     "ename": "AttributeError",
     "evalue": "module 'camelot' has no attribute 'read_pdf'",
     "output_type": "error",
     "traceback": [
      "\u001b[1;31m---------------------------------------------------------------------------\u001b[0m",
      "\u001b[1;31mAttributeError\u001b[0m                            Traceback (most recent call last)",
      "Cell \u001b[1;32mIn[11], line 1\u001b[0m\n\u001b[1;32m----> 1\u001b[0m tables_23 \u001b[38;5;241m=\u001b[39m camelot\u001b[38;5;241m.\u001b[39mread_pdf(\u001b[38;5;124m'\u001b[39m\u001b[38;5;124m../data/fixtures/fixture_23.pdf\u001b[39m\u001b[38;5;124m'\u001b[39m, pages \u001b[38;5;241m=\u001b[39m \u001b[38;5;124m'\u001b[39m\u001b[38;5;124mall\u001b[39m\u001b[38;5;124m'\u001b[39m, flavor \u001b[38;5;241m=\u001b[39m \u001b[38;5;124m'\u001b[39m\u001b[38;5;124mstream\u001b[39m\u001b[38;5;124m'\u001b[39m)\n",
      "\u001b[1;31mAttributeError\u001b[0m: module 'camelot' has no attribute 'read_pdf'"
     ]
    }
   ],
   "source": [
    "tables_23 = camelot.read_pdf('../data/fixtures/fixture_23.pdf', pages = 'all', flavor = 'stream')"
   ]
  },
  {
   "cell_type": "markdown",
   "id": "da7c304e",
   "metadata": {},
   "source": [
    "# scrape by date"
   ]
  },
  {
   "cell_type": "code",
   "execution_count": 11,
   "id": "a51d02a4",
   "metadata": {},
   "outputs": [],
   "source": [
    "date = ['2025/07/16']\n",
    "venue = ['HV', 'ST']"
   ]
  },
  {
   "cell_type": "code",
   "execution_count": 12,
   "id": "ddd5faba",
   "metadata": {},
   "outputs": [],
   "source": [
    "params = {\n",
    "    'dates': date,\n",
    "    'venues': venue\n",
    "}"
   ]
  },
  {
   "cell_type": "code",
   "execution_count": null,
   "id": "677fa2b4",
   "metadata": {},
   "outputs": [],
   "source": [
    "def fetch_race_data_by_venue(date, venues, max_race_no=9):\n",
    " \n",
    "    base_url = \"https://racing.hkjc.com/racing/information/English/Racing/LocalResults.aspx\"\n",
    "    results = {}\n",
    "\n",
    "    headers = {\n",
    "        \"User-Agent\": \"Mozilla/5.0 (compatible; HKJCScraper/1.0)\"\n",
    "    }\n",
    "\n",
    "    for venue in venues:\n",
    "        print(f\"Checking venue {venue} race no 1...\")\n",
    "        params = {\n",
    "            \"RaceDate\": date,\n",
    "            \"Racecourse\": venue,\n",
    "            \"RaceNo\": 1\n",
    "        }\n",
    "\n",
    "        response = requests.get(base_url, params=params, headers=headers)\n",
    "        if response.status_code != 200:\n",
    "            print(f\"Failed to fetch page for venue {venue} race 1, status: {response.status_code}\")\n",
    "            continue\n",
    "\n",
    "        soup = BeautifulSoup(response.text, \"html.parser\")\n",
    "        # Check for the presence of the race result table, often with class 'table_bd' or id\n",
    "        table = soup.find('table', class_='table_bd')\n",
    "\n",
    "        if not table:\n",
    "            print(f\"No race data found for venue {venue} race 1; skipping rest of races for this venue.\")\n",
    "            continue  # Skip race 2-9 for this venue\n",
    "\n",
    "        # Save race 1 result\n",
    "        results[(venue, 1)] = soup\n",
    "        print(f\"Race data found for venue {venue} race 1; fetching races 2 to {max_race_no}...\")\n",
    "\n",
    "        # Now fetch the rest of the races for this venue\n",
    "        for race_no in range(2, max_race_no + 1):\n",
    "            params[\"RaceNo\"] = race_no\n",
    "            response = requests.get(base_url, params=params, headers=headers)\n",
    "            if response.status_code != 200:\n",
    "                print(f\"Failed to fetch page for venue {venue} race {race_no}, status: {response.status_code}\")\n",
    "                results[(venue, race_no)] = None\n",
    "                continue\n",
    "\n",
    "            soup = BeautifulSoup(response.text, \"html.parser\")\n",
    "            table = soup.find('table', class_='table_bd')\n",
    "            if not table:\n",
    "                print(f\"No race data found for venue {venue} race {race_no}.\")\n",
    "                results[(venue, race_no)] = None\n",
    "            else:\n",
    "                results[(venue, race_no)] = soup\n",
    "\n",
    "    return results\n",
    "\n",
    "# Example of calling the function\n",
    "if __name__ == \"__main__\":\n",
    "    race_date = '2025/07/16'\n",
    "    venue_list = ['HV', 'ST']\n",
    "\n",
    "    data = fetch_race_data_by_venue(race_date, venue_list)\n",
    "    # 'data' contains BeautifulSoup objects for successful pages or None entries for misses\n"
   ]
  }
 ],
 "metadata": {
  "kernelspec": {
   "display_name": "ml1",
   "language": "python",
   "name": "python3"
  },
  "language_info": {
   "codemirror_mode": {
    "name": "ipython",
    "version": 3
   },
   "file_extension": ".py",
   "mimetype": "text/x-python",
   "name": "python",
   "nbconvert_exporter": "python",
   "pygments_lexer": "ipython3",
   "version": "3.11.11"
  }
 },
 "nbformat": 4,
 "nbformat_minor": 5
}
