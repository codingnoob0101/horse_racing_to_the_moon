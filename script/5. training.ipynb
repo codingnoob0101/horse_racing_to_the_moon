{
 "cells": [
  {
   "cell_type": "code",
   "execution_count": 5,
   "id": "85779399",
   "metadata": {},
   "outputs": [],
   "source": [
    "import pandas as pd\n",
    "import numpy as np\n",
    "from catboost import CatBoostRanker, Pool\n",
    "from sklearn.model_selection import train_test_split\n",
    "from sklearn.impute import SimpleImputer\n",
    "from scipy.stats import spearmanr"
   ]
  },
  {
   "cell_type": "code",
   "execution_count": 6,
   "id": "2c62061d",
   "metadata": {},
   "outputs": [],
   "source": [
    "pd.set_option('display.max_columns', None)"
   ]
  },
  {
   "cell_type": "code",
   "execution_count": 7,
   "id": "ca491bf6",
   "metadata": {},
   "outputs": [],
   "source": [
    "df = pd.read_csv('../data/cleaned_data.csv')"
   ]
  },
  {
   "cell_type": "code",
   "execution_count": 8,
   "id": "2ce58eb4",
   "metadata": {},
   "outputs": [
    {
     "data": {
      "text/html": [
       "<div>\n",
       "<style scoped>\n",
       "    .dataframe tbody tr th:only-of-type {\n",
       "        vertical-align: middle;\n",
       "    }\n",
       "\n",
       "    .dataframe tbody tr th {\n",
       "        vertical-align: top;\n",
       "    }\n",
       "\n",
       "    .dataframe thead th {\n",
       "        text-align: right;\n",
       "    }\n",
       "</style>\n",
       "<table border=\"1\" class=\"dataframe\">\n",
       "  <thead>\n",
       "    <tr style=\"text-align: right;\">\n",
       "      <th></th>\n",
       "      <th>Pla.</th>\n",
       "      <th>Dist.</th>\n",
       "      <th>track_condition</th>\n",
       "      <th>RaceClass</th>\n",
       "      <th>gate_position</th>\n",
       "      <th>Rtg.</th>\n",
       "      <th>Trainer</th>\n",
       "      <th>Jockey</th>\n",
       "      <th>Win Odds</th>\n",
       "      <th>Act.Wt.</th>\n",
       "      <th>Declar.Horse Wt.</th>\n",
       "      <th>Horse_id</th>\n",
       "      <th>Import type</th>\n",
       "      <th>Sire</th>\n",
       "      <th>Dam</th>\n",
       "      <th>Dam sire</th>\n",
       "      <th>race_index</th>\n",
       "      <th>rc</th>\n",
       "      <th>track</th>\n",
       "      <th>course</th>\n",
       "      <th>origin</th>\n",
       "      <th>age</th>\n",
       "      <th>colour</th>\n",
       "      <th>sex</th>\n",
       "      <th>B</th>\n",
       "      <th>BO</th>\n",
       "      <th>CC</th>\n",
       "      <th>CP</th>\n",
       "      <th>CO</th>\n",
       "      <th>E</th>\n",
       "      <th>H</th>\n",
       "      <th>P</th>\n",
       "      <th>PC</th>\n",
       "      <th>PS</th>\n",
       "      <th>SB</th>\n",
       "      <th>SR</th>\n",
       "      <th>TT</th>\n",
       "      <th>V</th>\n",
       "      <th>VO</th>\n",
       "      <th>XB</th>\n",
       "    </tr>\n",
       "  </thead>\n",
       "  <tbody>\n",
       "    <tr>\n",
       "      <th>0</th>\n",
       "      <td>11</td>\n",
       "      <td>1000</td>\n",
       "      <td>G</td>\n",
       "      <td>5</td>\n",
       "      <td>9</td>\n",
       "      <td>37</td>\n",
       "      <td>K L Man</td>\n",
       "      <td>Y L Chung</td>\n",
       "      <td>154.0</td>\n",
       "      <td>129</td>\n",
       "      <td>1019</td>\n",
       "      <td>J006</td>\n",
       "      <td>PPG</td>\n",
       "      <td>Capitalist</td>\n",
       "      <td>Dorodansa</td>\n",
       "      <td>Bellamy Road</td>\n",
       "      <td>142301024</td>\n",
       "      <td>HV</td>\n",
       "      <td>Turf</td>\n",
       "      <td>C+3</td>\n",
       "      <td>AUS</td>\n",
       "      <td>NaN</td>\n",
       "      <td>Chestnut</td>\n",
       "      <td>Gelding</td>\n",
       "      <td>True</td>\n",
       "      <td>False</td>\n",
       "      <td>False</td>\n",
       "      <td>False</td>\n",
       "      <td>False</td>\n",
       "      <td>False</td>\n",
       "      <td>False</td>\n",
       "      <td>False</td>\n",
       "      <td>False</td>\n",
       "      <td>False</td>\n",
       "      <td>False</td>\n",
       "      <td>False</td>\n",
       "      <td>True</td>\n",
       "      <td>False</td>\n",
       "      <td>False</td>\n",
       "      <td>False</td>\n",
       "    </tr>\n",
       "    <tr>\n",
       "      <th>1</th>\n",
       "      <td>12</td>\n",
       "      <td>1200</td>\n",
       "      <td>G</td>\n",
       "      <td>5</td>\n",
       "      <td>2</td>\n",
       "      <td>39</td>\n",
       "      <td>K L Man</td>\n",
       "      <td>E C W Wong</td>\n",
       "      <td>135.0</td>\n",
       "      <td>126</td>\n",
       "      <td>1023</td>\n",
       "      <td>J006</td>\n",
       "      <td>PPG</td>\n",
       "      <td>Capitalist</td>\n",
       "      <td>Dorodansa</td>\n",
       "      <td>Bellamy Road</td>\n",
       "      <td>48250924</td>\n",
       "      <td>HV</td>\n",
       "      <td>Turf</td>\n",
       "      <td>C</td>\n",
       "      <td>AUS</td>\n",
       "      <td>NaN</td>\n",
       "      <td>Chestnut</td>\n",
       "      <td>Gelding</td>\n",
       "      <td>False</td>\n",
       "      <td>False</td>\n",
       "      <td>False</td>\n",
       "      <td>False</td>\n",
       "      <td>False</td>\n",
       "      <td>False</td>\n",
       "      <td>True</td>\n",
       "      <td>False</td>\n",
       "      <td>True</td>\n",
       "      <td>False</td>\n",
       "      <td>False</td>\n",
       "      <td>False</td>\n",
       "      <td>True</td>\n",
       "      <td>False</td>\n",
       "      <td>False</td>\n",
       "      <td>False</td>\n",
       "    </tr>\n",
       "    <tr>\n",
       "      <th>2</th>\n",
       "      <td>10</td>\n",
       "      <td>1200</td>\n",
       "      <td>GF</td>\n",
       "      <td>4</td>\n",
       "      <td>6</td>\n",
       "      <td>44</td>\n",
       "      <td>T P Yung</td>\n",
       "      <td>H T Mo</td>\n",
       "      <td>205.0</td>\n",
       "      <td>117</td>\n",
       "      <td>1013</td>\n",
       "      <td>J006</td>\n",
       "      <td>PPG</td>\n",
       "      <td>Capitalist</td>\n",
       "      <td>Dorodansa</td>\n",
       "      <td>Bellamy Road</td>\n",
       "      <td>661110524</td>\n",
       "      <td>ST</td>\n",
       "      <td>Turf</td>\n",
       "      <td>C</td>\n",
       "      <td>AUS</td>\n",
       "      <td>NaN</td>\n",
       "      <td>Chestnut</td>\n",
       "      <td>Gelding</td>\n",
       "      <td>False</td>\n",
       "      <td>False</td>\n",
       "      <td>False</td>\n",
       "      <td>True</td>\n",
       "      <td>False</td>\n",
       "      <td>False</td>\n",
       "      <td>False</td>\n",
       "      <td>False</td>\n",
       "      <td>False</td>\n",
       "      <td>False</td>\n",
       "      <td>False</td>\n",
       "      <td>False</td>\n",
       "      <td>True</td>\n",
       "      <td>False</td>\n",
       "      <td>False</td>\n",
       "      <td>False</td>\n",
       "    </tr>\n",
       "    <tr>\n",
       "      <th>3</th>\n",
       "      <td>14</td>\n",
       "      <td>1600</td>\n",
       "      <td>G</td>\n",
       "      <td>4</td>\n",
       "      <td>12</td>\n",
       "      <td>47</td>\n",
       "      <td>T P Yung</td>\n",
       "      <td>C L Chau</td>\n",
       "      <td>221.0</td>\n",
       "      <td>121</td>\n",
       "      <td>1029</td>\n",
       "      <td>J006</td>\n",
       "      <td>PPG</td>\n",
       "      <td>Capitalist</td>\n",
       "      <td>Dorodansa</td>\n",
       "      <td>Bellamy Road</td>\n",
       "      <td>468030324</td>\n",
       "      <td>ST</td>\n",
       "      <td>Turf</td>\n",
       "      <td>B+2</td>\n",
       "      <td>AUS</td>\n",
       "      <td>NaN</td>\n",
       "      <td>Chestnut</td>\n",
       "      <td>Gelding</td>\n",
       "      <td>False</td>\n",
       "      <td>False</td>\n",
       "      <td>False</td>\n",
       "      <td>False</td>\n",
       "      <td>False</td>\n",
       "      <td>False</td>\n",
       "      <td>False</td>\n",
       "      <td>False</td>\n",
       "      <td>False</td>\n",
       "      <td>False</td>\n",
       "      <td>False</td>\n",
       "      <td>False</td>\n",
       "      <td>True</td>\n",
       "      <td>False</td>\n",
       "      <td>False</td>\n",
       "      <td>False</td>\n",
       "    </tr>\n",
       "    <tr>\n",
       "      <th>4</th>\n",
       "      <td>12</td>\n",
       "      <td>1200</td>\n",
       "      <td>G</td>\n",
       "      <td>4</td>\n",
       "      <td>2</td>\n",
       "      <td>50</td>\n",
       "      <td>T P Yung</td>\n",
       "      <td>K C Leung</td>\n",
       "      <td>67.0</td>\n",
       "      <td>128</td>\n",
       "      <td>1019</td>\n",
       "      <td>J006</td>\n",
       "      <td>PPG</td>\n",
       "      <td>Capitalist</td>\n",
       "      <td>Dorodansa</td>\n",
       "      <td>Bellamy Road</td>\n",
       "      <td>403070224</td>\n",
       "      <td>HV</td>\n",
       "      <td>Turf</td>\n",
       "      <td>B</td>\n",
       "      <td>AUS</td>\n",
       "      <td>NaN</td>\n",
       "      <td>Chestnut</td>\n",
       "      <td>Gelding</td>\n",
       "      <td>False</td>\n",
       "      <td>False</td>\n",
       "      <td>False</td>\n",
       "      <td>False</td>\n",
       "      <td>False</td>\n",
       "      <td>False</td>\n",
       "      <td>False</td>\n",
       "      <td>False</td>\n",
       "      <td>False</td>\n",
       "      <td>False</td>\n",
       "      <td>False</td>\n",
       "      <td>False</td>\n",
       "      <td>True</td>\n",
       "      <td>False</td>\n",
       "      <td>False</td>\n",
       "      <td>False</td>\n",
       "    </tr>\n",
       "  </tbody>\n",
       "</table>\n",
       "</div>"
      ],
      "text/plain": [
       "  Pla.  Dist. track_condition RaceClass  gate_position Rtg.   Trainer  \\\n",
       "0   11   1000               G         5              9   37   K L Man   \n",
       "1   12   1200               G         5              2   39   K L Man   \n",
       "2   10   1200              GF         4              6   44  T P Yung   \n",
       "3   14   1600               G         4             12   47  T P Yung   \n",
       "4   12   1200               G         4              2   50  T P Yung   \n",
       "\n",
       "       Jockey  Win Odds  Act.Wt.  Declar.Horse Wt. Horse_id Import type  \\\n",
       "0   Y L Chung     154.0      129              1019     J006         PPG   \n",
       "1  E C W Wong     135.0      126              1023     J006         PPG   \n",
       "2      H T Mo     205.0      117              1013     J006         PPG   \n",
       "3    C L Chau     221.0      121              1029     J006         PPG   \n",
       "4   K C Leung      67.0      128              1019     J006         PPG   \n",
       "\n",
       "         Sire        Dam      Dam sire  race_index  rc track course origin  \\\n",
       "0  Capitalist  Dorodansa  Bellamy Road   142301024  HV  Turf    C+3    AUS   \n",
       "1  Capitalist  Dorodansa  Bellamy Road    48250924  HV  Turf      C    AUS   \n",
       "2  Capitalist  Dorodansa  Bellamy Road   661110524  ST  Turf      C    AUS   \n",
       "3  Capitalist  Dorodansa  Bellamy Road   468030324  ST  Turf    B+2    AUS   \n",
       "4  Capitalist  Dorodansa  Bellamy Road   403070224  HV  Turf      B    AUS   \n",
       "\n",
       "   age    colour      sex      B     BO     CC     CP     CO      E      H  \\\n",
       "0  NaN  Chestnut  Gelding   True  False  False  False  False  False  False   \n",
       "1  NaN  Chestnut  Gelding  False  False  False  False  False  False   True   \n",
       "2  NaN  Chestnut  Gelding  False  False  False   True  False  False  False   \n",
       "3  NaN  Chestnut  Gelding  False  False  False  False  False  False  False   \n",
       "4  NaN  Chestnut  Gelding  False  False  False  False  False  False  False   \n",
       "\n",
       "       P     PC     PS     SB     SR    TT      V     VO     XB  \n",
       "0  False  False  False  False  False  True  False  False  False  \n",
       "1  False   True  False  False  False  True  False  False  False  \n",
       "2  False  False  False  False  False  True  False  False  False  \n",
       "3  False  False  False  False  False  True  False  False  False  \n",
       "4  False  False  False  False  False  True  False  False  False  "
      ]
     },
     "execution_count": 8,
     "metadata": {},
     "output_type": "execute_result"
    }
   ],
   "source": [
    "df.head()"
   ]
  },
  {
   "cell_type": "code",
   "execution_count": 30,
   "id": "4a243304",
   "metadata": {},
   "outputs": [],
   "source": [
    "df['Rtg.'] = pd.to_numeric(df['Rtg.'], errors = 'coerce')"
   ]
  },
  {
   "cell_type": "markdown",
   "id": "7397c833",
   "metadata": {},
   "source": [
    "# Utility function"
   ]
  },
  {
   "cell_type": "code",
   "execution_count": 9,
   "id": "4b578232",
   "metadata": {},
   "outputs": [],
   "source": [
    "def reduce_cardinality(series, min_freq = 10):\n",
    "    counts = series.value_counts()\n",
    "    rare = counts[counts < min_freq].index\n",
    "    return series.apply(lambda x: 'unknown' if x in rare else x)"
   ]
  },
  {
   "cell_type": "code",
   "execution_count": 10,
   "id": "ee9ea81d",
   "metadata": {},
   "outputs": [],
   "source": [
    "def encode_placing(group):\n",
    "    finish_mask = group['Pla.'].astype(str).str.isdigit()\n",
    "    max_rank = group.loc[finish_mask, 'Pla.'].astype(int).max()\n",
    "    return group['Pla.'].apply(lambda x: int(x) if str(x).isdigit() else max_rank + 1)"
   ]
  },
  {
   "cell_type": "markdown",
   "id": "f899db1d",
   "metadata": {},
   "source": [
    "# Approach 1 (training with all variables)"
   ]
  },
  {
   "cell_type": "code",
   "execution_count": 25,
   "id": "a04b4ebf",
   "metadata": {},
   "outputs": [],
   "source": [
    "df1 = df.copy()"
   ]
  },
  {
   "cell_type": "code",
   "execution_count": 26,
   "id": "e5a98bbd",
   "metadata": {},
   "outputs": [],
   "source": [
    "df1 = df1[~df1['Pla.'].isin(['UR', 'FE', 'TNP', 'PU', 'DNF', 'DISQ'])]"
   ]
  },
  {
   "cell_type": "code",
   "execution_count": 27,
   "id": "4df9bb9a",
   "metadata": {},
   "outputs": [],
   "source": [
    "# define target and groupings\n",
    "target = 'Pla.'\n",
    "group_col = 'race_index'\n",
    "\n",
    "# define categorical variables\n",
    "categorical_cols = [\n",
    "    'Dist.', 'track_condition', 'RaceClass', 'gate_position', 'Trainer', 'Jockey', 'Import type', 'Sire', 'Dam', 'Dam sire', 'rc', 'track', 'course', 'origin', 'age', 'colour', 'sex'\n",
    "]\n",
    "\n",
    "# define numerical variables\n",
    "numerical_cols = [\n",
    "    'Rtg.', 'Win Odds', 'Act.Wt', 'Declar.Horse Wt.'\n",
    "]"
   ]
  },
  {
   "cell_type": "code",
   "execution_count": 28,
   "id": "4b136b8a",
   "metadata": {},
   "outputs": [],
   "source": [
    "# missingness indicator for 'age'\n",
    "df1['age_missing'] = df1['age'].isnull().astype(int)\n",
    "\n",
    "# impute age with median\n",
    "age_median = df1['age'].median()\n",
    "df1['age'] = df1['age'].fillna(age_median)"
   ]
  },
  {
   "cell_type": "code",
   "execution_count": 29,
   "id": "5270c815",
   "metadata": {},
   "outputs": [],
   "source": [
    "# fill missing categoricals with 'unknown'\n",
    "for col in categorical_cols:\n",
    "    df1[col] = df1[col].fillna('unknown')\n",
    "\n",
    "# cardinality of the categories being reduced\n",
    "for col in categorical_cols:\n",
    "    df1[col] = reduce_cardinality(df1[col])\n",
    "\n",
    "for col in categorical_cols:\n",
    "    df1[col] = df1[col].astype(str)"
   ]
  },
  {
   "cell_type": "markdown",
   "id": "b335151c",
   "metadata": {},
   "source": [
    "cardinality in Trainer, Jockey, Sire, Dam, Dam sire, and course reduced "
   ]
  },
  {
   "cell_type": "code",
   "execution_count": 30,
   "id": "b45b220b",
   "metadata": {},
   "outputs": [],
   "source": [
    "numerical_cols_updated = ['age_missing']\n",
    "\n",
    "for col in numerical_cols_updated:\n",
    "    df1[col] = pd.to_numeric(df1[col], errors = 'coerce').fillna(0)"
   ]
  },
  {
   "cell_type": "code",
   "execution_count": 31,
   "id": "aa4d04d7",
   "metadata": {},
   "outputs": [],
   "source": [
    "# define the features, target and groups\n",
    "X = df1[categorical_cols + numerical_cols_updated]\n",
    "y = pd.to_numeric(df1[target], errors = 'coerce') # ensure target is int\n",
    "groups = df1[group_col]"
   ]
  },
  {
   "cell_type": "code",
   "execution_count": 32,
   "id": "f4c1d540",
   "metadata": {},
   "outputs": [],
   "source": [
    "# split by race index for train and test sets\n",
    "unique_races = groups.unique()\n",
    "train_races, test_races = train_test_split(unique_races, test_size = 0.2, random_state = 42)\n",
    "\n",
    "train_mask = groups.isin(train_races)\n",
    "test_mask = groups.isin(test_races)\n",
    "\n",
    "X_train, y_train, group_train = X[train_mask], y[train_mask], groups[train_mask]\n",
    "X_test, y_test, group_test = X[test_mask], y[test_mask], groups[test_mask]"
   ]
  },
  {
   "cell_type": "code",
   "execution_count": 33,
   "id": "7e0be44a",
   "metadata": {},
   "outputs": [],
   "source": [
    "# sort by group_id for requirements\n",
    "train_sorted_idx = group_train.argsort()\n",
    "X_train = X_train.iloc[train_sorted_idx]\n",
    "y_train = y_train.iloc[train_sorted_idx]\n",
    "group_train = group_train.iloc[train_sorted_idx]\n",
    "\n",
    "test_sorted_idx = group_test.argsort()\n",
    "X_test = X_test.iloc[test_sorted_idx]\n",
    "y_test = y_test.iloc[test_sorted_idx]\n",
    "group_test = group_test.iloc[test_sorted_idx]"
   ]
  },
  {
   "cell_type": "code",
   "execution_count": 34,
   "id": "bc5447f9",
   "metadata": {},
   "outputs": [],
   "source": [
    "train_pool = Pool(\n",
    "    data = X_train,\n",
    "    label = y_train,\n",
    "    group_id = group_train,\n",
    "    cat_features = categorical_cols\n",
    ")\n",
    "\n",
    "test_pool = Pool(\n",
    "    data = X_test,\n",
    "    label = y_test,\n",
    "    group_id = group_test,\n",
    "    cat_features = categorical_cols\n",
    ")"
   ]
  },
  {
   "cell_type": "code",
   "execution_count": 35,
   "id": "d06d5d6c",
   "metadata": {},
   "outputs": [],
   "source": [
    "# Initialize and train CatBoost ranking model\n",
    "model = CatBoostRanker(\n",
    "    iterations=1000,\n",
    "    learning_rate=0.02,\n",
    "    depth=3,\n",
    "    loss_function='YetiRank',\n",
    "    eval_metric='NDCG',\n",
    "    early_stopping_rounds=50,\n",
    "    random_seed=42,\n",
    "    verbose=100\n",
    ")"
   ]
  },
  {
   "cell_type": "code",
   "execution_count": 36,
   "id": "72d6c3e7",
   "metadata": {},
   "outputs": [
    {
     "name": "stdout",
     "output_type": "stream",
     "text": [
      "Groupwise loss function. OneHotMaxSize set to 10\n",
      "0:\ttest: 0.8082862\tbest: 0.8082862 (0)\ttotal: 20.7ms\tremaining: 20.7s\n",
      "100:\ttest: 0.8988427\tbest: 0.8993684 (97)\ttotal: 952ms\tremaining: 8.47s\n",
      "200:\ttest: 0.9041507\tbest: 0.9041507 (200)\ttotal: 2.01s\tremaining: 7.98s\n",
      "300:\ttest: 0.9080305\tbest: 0.9080305 (300)\ttotal: 2.99s\tremaining: 6.94s\n",
      "Stopped by overfitting detector  (50 iterations wait)\n",
      "\n",
      "bestTest = 0.9088402074\n",
      "bestIteration = 316\n",
      "\n",
      "Shrink model to first 317 iterations.\n"
     ]
    },
    {
     "data": {
      "text/plain": [
       "<catboost.core.CatBoostRanker at 0x157c6ead0>"
      ]
     },
     "execution_count": 36,
     "metadata": {},
     "output_type": "execute_result"
    }
   ],
   "source": [
    "model.fit(train_pool, eval_set=test_pool)"
   ]
  },
  {
   "cell_type": "code",
   "execution_count": null,
   "id": "bc80a503",
   "metadata": {},
   "outputs": [],
   "source": [
    "test_preds = model.predict(X_test)\n",
    "\n",
    "# Compute predicted ranks within each group (race)\n",
    "test_results = X_test.copy()\n",
    "test_results['true_pla'] = y_test\n",
    "test_results['pred_score'] = test_preds\n",
    "test_results['race_index'] = group_test\n",
    "\n",
    "test_results['pred_rank'] = test_results.groupby('race_index')['pred_score'].rank(ascending=False, method='min')"
   ]
  },
  {
   "cell_type": "code",
   "execution_count": 39,
   "id": "86309260",
   "metadata": {},
   "outputs": [
    {
     "name": "stdout",
     "output_type": "stream",
     "text": [
      "Mean Spearman rank correlation on test races: -0.4355\n"
     ]
    },
    {
     "name": "stderr",
     "output_type": "stream",
     "text": [
      "/var/folders/rn/zdwl9_vx4yz5r87jv7jnztdh0000gn/T/ipykernel_1368/1274675035.py:7: FutureWarning: DataFrameGroupBy.apply operated on the grouping columns. This behavior is deprecated, and in a future version of pandas the grouping columns will be excluded from the operation. Either pass `include_groups=False` to exclude the groupings or explicitly select the grouping columns after groupby to silence this warning.\n",
      "  spearman_scores = test_results.groupby('race_index').apply(race_spearman)\n"
     ]
    }
   ],
   "source": [
    "# Evaluate using Spearman rank correlation per race\n",
    "def race_spearman(group):\n",
    "    if len(group) <= 1:\n",
    "        return np.nan\n",
    "    return spearmanr(group['true_pla'], group['pred_rank']).correlation\n",
    "\n",
    "spearman_scores = test_results.groupby('race_index').apply(race_spearman)\n",
    "mean_spearman = spearman_scores.dropna().mean()\n",
    "print(f'Mean Spearman rank correlation on test races: {mean_spearman:.4f}')"
   ]
  },
  {
   "cell_type": "markdown",
   "id": "2892f0e1",
   "metadata": {},
   "source": [
    "# Updated approach (include unfinished horses)"
   ]
  },
  {
   "cell_type": "code",
   "execution_count": 31,
   "id": "343d7a26",
   "metadata": {},
   "outputs": [],
   "source": [
    "df2 = df.copy()"
   ]
  },
  {
   "cell_type": "code",
   "execution_count": 32,
   "id": "c974eefe",
   "metadata": {},
   "outputs": [],
   "source": [
    "# encode placing including unfinished horses with large numbers\n",
    "def encode_placing(group):  \n",
    "    finish_mask = group['Pla.'].astype(str).str.isdigit()\n",
    "    max_rank = group.loc[finish_mask, 'Pla.'].astype(int).max()\n",
    "    return group['Pla.'].apply(lambda x: int(x) if str(x).isdigit() else max_rank + 1)"
   ]
  },
  {
   "cell_type": "code",
   "execution_count": 33,
   "id": "233db8c7",
   "metadata": {},
   "outputs": [],
   "source": [
    "# define target and groupings\n",
    "target = 'Pla.'\n",
    "group_col = 'race_index'\n",
    "\n",
    "# define categorical variables\n",
    "categorical_cols = [\n",
    "    'Dist.', 'track_condition', 'RaceClass', 'gate_position', 'Trainer', 'Jockey', 'Import type', 'Sire', 'Dam', 'Dam sire', 'rc', 'track', 'course', 'origin', 'age', 'colour', 'sex'\n",
    "]\n",
    "\n",
    "# define numerical variables\n",
    "numerical_cols = [\n",
    "    'Rtg.', 'Win Odds', 'Act.Wt.', 'Declar.Horse Wt.'\n",
    "]"
   ]
  },
  {
   "cell_type": "code",
   "execution_count": 34,
   "id": "4a9ef8ef",
   "metadata": {},
   "outputs": [],
   "source": [
    "# Apply encoding for places (including unfinished horses)\n",
    "df2 [target] = encode_placing(df)"
   ]
  },
  {
   "cell_type": "code",
   "execution_count": 35,
   "id": "6717bab9",
   "metadata": {},
   "outputs": [],
   "source": [
    "# train test split\n",
    "unique_races = df2[group_col].unique()\n",
    "\n",
    "# split the race id for masking\n",
    "train_races, test_races = train_test_split(unique_races, test_size = 0.2, random_state = 42)"
   ]
  },
  {
   "cell_type": "code",
   "execution_count": 36,
   "id": "93201d2d",
   "metadata": {},
   "outputs": [],
   "source": [
    "# define mask of trianing and testing\n",
    "train_mask = df2[group_col].isin(train_races)\n",
    "test_mask = df2[group_col].isin(test_races)\n",
    "\n",
    "# training and testing set\n",
    "df2_train = df2.loc[train_mask].copy()\n",
    "df2_test = df2.loc[test_mask].copy()"
   ]
  },
  {
   "cell_type": "code",
   "execution_count": 38,
   "id": "c0f88399",
   "metadata": {},
   "outputs": [],
   "source": [
    "# median imputer for numerical variables\n",
    "num_imputer = SimpleImputer(strategy = 'median')\n",
    "df2_train[numerical_cols] = num_imputer.fit_transform(df2_train[numerical_cols])\n",
    "df2_test[numerical_cols] = num_imputer.transform(df2_test[numerical_cols])"
   ]
  },
  {
   "cell_type": "code",
   "execution_count": 39,
   "id": "381d5794",
   "metadata": {},
   "outputs": [],
   "source": [
    "# fill missing with 'unknown' for categorical\n",
    "for col in categorical_cols:\n",
    "    df2_train[col] = df2_train[col].astype(str).fillna('unknown')\n",
    "    df2_test[col] = df2_test[col].astype(str).fillna('unknown')"
   ]
  },
  {
   "cell_type": "code",
   "execution_count": 41,
   "id": "c99e21bc",
   "metadata": {},
   "outputs": [],
   "source": [
    "# defind the x and y for train and test\n",
    "X_train = df2_train[categorical_cols + numerical_cols]\n",
    "y_train = df2_train[target]\n",
    "groups_train = df2_train[group_col]\n",
    "\n",
    "X_test = df2_test[categorical_cols + numerical_cols]\n",
    "y_test = df2_test[target]\n",
    "groups_test = df2_test[group_col]\n",
    "\n",
    "# sort the data according to group col\n",
    "train_sorted_idx = groups_train.argsort()\n",
    "X_train = X_train.iloc[train_sorted_idx]\n",
    "y_train = y_train.iloc[train_sorted_idx]\n",
    "groups_train = groups_train.iloc[train_sorted_idx]\n",
    "\n",
    "test_sorted_idx = groups_test.argsort()\n",
    "X_test = X_test.iloc[test_sorted_idx]\n",
    "y_test = y_test.iloc[test_sorted_idx]\n",
    "groups_test = groups_test.iloc[test_sorted_idx]\n",
    "\n",
    "\n",
    "train_pool = Pool(\n",
    "    data=X_train,\n",
    "    label=y_train,\n",
    "    group_id=groups_train,\n",
    "    cat_features=categorical_cols\n",
    ")\n",
    "\n",
    "test_pool = Pool(\n",
    "    data=X_test,\n",
    "    label=y_test,\n",
    "    group_id=groups_test,\n",
    "    cat_features=categorical_cols\n",
    ")"
   ]
  },
  {
   "cell_type": "code",
   "execution_count": 69,
   "id": "62be2241",
   "metadata": {},
   "outputs": [
    {
     "name": "stdout",
     "output_type": "stream",
     "text": [
      "Pairwise scoring loss functions on CPU do not support one hot features. OneHotMaxSize set to 1\n",
      "0:\tlearn: 1.0000000\ttest: 1.0000000\tbest: 1.0000000 (0)\ttotal: 62.4ms\tremaining: 1m 2s\n",
      "100:\tlearn: 1.0000000\ttest: 1.0000000\tbest: 1.0000000 (0)\ttotal: 5.97s\tremaining: 53.2s\n",
      "200:\tlearn: 1.0000000\ttest: 1.0000000\tbest: 1.0000000 (0)\ttotal: 12.6s\tremaining: 50s\n",
      "300:\tlearn: 1.0000000\ttest: 1.0000000\tbest: 1.0000000 (0)\ttotal: 19.3s\tremaining: 44.7s\n",
      "400:\tlearn: 1.0000000\ttest: 1.0000000\tbest: 1.0000000 (0)\ttotal: 26s\tremaining: 38.8s\n",
      "500:\tlearn: 1.0000000\ttest: 1.0000000\tbest: 1.0000000 (0)\ttotal: 32.8s\tremaining: 32.7s\n",
      "600:\tlearn: 1.0000000\ttest: 1.0000000\tbest: 1.0000000 (0)\ttotal: 39.9s\tremaining: 26.5s\n",
      "700:\tlearn: 1.0000000\ttest: 1.0000000\tbest: 1.0000000 (0)\ttotal: 47.1s\tremaining: 20.1s\n",
      "800:\tlearn: 1.0000000\ttest: 1.0000000\tbest: 1.0000000 (0)\ttotal: 54.5s\tremaining: 13.5s\n",
      "900:\tlearn: 1.0000000\ttest: 1.0000000\tbest: 1.0000000 (0)\ttotal: 1m 1s\tremaining: 6.76s\n",
      "999:\tlearn: 1.0000000\ttest: 1.0000000\tbest: 1.0000000 (0)\ttotal: 1m 8s\tremaining: 0us\n",
      "\n",
      "bestTest = 1\n",
      "bestIteration = 0\n",
      "\n",
      "Shrink model to first 1 iterations.\n"
     ]
    },
    {
     "data": {
      "text/plain": [
       "<catboost.core.CatBoostRanker at 0x12dfc3a70>"
      ]
     },
     "execution_count": 69,
     "metadata": {},
     "output_type": "execute_result"
    }
   ],
   "source": [
    "model = CatBoostRanker(\n",
    "    iterations=1000,\n",
    "    learning_rate=0.1,\n",
    "    depth=5,\n",
    "    loss_function='YetiRankPairwise',\n",
    "    eval_metric='MRR',\n",
    "    random_seed=42,\n",
    "    verbose=100\n",
    ")\n",
    "\n",
    "model.fit(train_pool, eval_set=test_pool)"
   ]
  },
  {
   "cell_type": "code",
   "execution_count": 70,
   "id": "644aaa9d",
   "metadata": {},
   "outputs": [],
   "source": [
    "test_preds = model.predict(X_test)"
   ]
  },
  {
   "cell_type": "code",
   "execution_count": 71,
   "id": "0339a59f",
   "metadata": {},
   "outputs": [
    {
     "name": "stdout",
     "output_type": "stream",
     "text": [
      "Mean NDCG@4 aligned with CatBoost: 0.0808\n",
      "Mean Precision@4 aligned with CatBoost: 0.1347\n"
     ]
    },
    {
     "name": "stderr",
     "output_type": "stream",
     "text": [
      "/var/folders/rn/zdwl9_vx4yz5r87jv7jnztdh0000gn/T/ipykernel_2124/2913798577.py:50: FutureWarning: DataFrameGroupBy.apply operated on the grouping columns. This behavior is deprecated, and in a future version of pandas the grouping columns will be excluded from the operation. Either pass `include_groups=False` to exclude the groupings or explicitly select the grouping columns after groupby to silence this warning.\n",
      "  ndcg_scores = test_results.groupby('race_index').apply(ndcg_at_4_aligned)\n",
      "/var/folders/rn/zdwl9_vx4yz5r87jv7jnztdh0000gn/T/ipykernel_2124/2913798577.py:51: FutureWarning: DataFrameGroupBy.apply operated on the grouping columns. This behavior is deprecated, and in a future version of pandas the grouping columns will be excluded from the operation. Either pass `include_groups=False` to exclude the groupings or explicitly select the grouping columns after groupby to silence this warning.\n",
      "  precision_scores = test_results.groupby('race_index').apply(precision_at_4_aligned)\n"
     ]
    }
   ],
   "source": [
    "import numpy as np\n",
    "import pandas as pd\n",
    "from catboost import Pool\n",
    "\n",
    "# Assuming you have your prediction dataframe `test_results` ready:\n",
    "# X_test, y_test, groups_test, and test_preds as from your earlier code\n",
    "\n",
    "# Prepare results DataFrame\n",
    "test_results = X_test.copy()\n",
    "test_results['true_pla'] = y_test.values\n",
    "test_results['pred_score'] = test_preds\n",
    "test_results['race_index'] = groups_test.values\n",
    "\n",
    "# Convert placing to CatBoost-like relevance (higher is better)\n",
    "def placing_to_relevance(placing):\n",
    "    max_plac = placing.max()\n",
    "    return max_plac + 1 - placing  # Invert placing so 1 -> max relevance\n",
    "\n",
    "test_results['true_rel'] = placing_to_relevance(test_results['true_pla'])\n",
    "\n",
    "# Compute predicted ranks within each group (higher score better rank)\n",
    "test_results['pred_rank'] = test_results.groupby('race_index')['pred_score'] \\\n",
    "                                       .rank(ascending=False, method='min')\n",
    "\n",
    "# NDCG@4 aligned with CatBoost metric\n",
    "def dcg_at_k(relevance_scores, k=4):\n",
    "    relevance = np.array(relevance_scores)[:k].astype(float)\n",
    "    if relevance.size == 0:\n",
    "        return 0.0\n",
    "    discounts = np.log2(np.arange(2, relevance.size + 2))\n",
    "    return np.sum((2 ** relevance - 1) / discounts)\n",
    "\n",
    "def ndcg_at_4_aligned(group):\n",
    "    true_relevance = group['true_rel']\n",
    "    order = np.argsort(-group['pred_score'])\n",
    "    sorted_true = true_relevance.iloc[order].values\n",
    "    ideal = np.sort(true_relevance.values)[::-1][:4]\n",
    "\n",
    "    dcg_val = dcg_at_k(sorted_true, 4)\n",
    "    idcg_val = dcg_at_k(ideal, 4)\n",
    "    return dcg_val / idcg_val if idcg_val > 0 else 0.0\n",
    "\n",
    "# Precision@4 aligned\n",
    "def precision_at_4_aligned(group):\n",
    "    true_top4 = set(group.nlargest(4, 'true_rel').index)\n",
    "    pred_top4 = set(group.nsmallest(4, 'pred_rank').index)\n",
    "    return len(true_top4.intersection(pred_top4)) / 4\n",
    "\n",
    "# Calculate per race\n",
    "ndcg_scores = test_results.groupby('race_index').apply(ndcg_at_4_aligned)\n",
    "precision_scores = test_results.groupby('race_index').apply(precision_at_4_aligned)\n",
    "\n",
    "# Aggregate results\n",
    "mean_ndcg4 = ndcg_scores.mean()\n",
    "mean_precision4 = precision_scores.mean()\n",
    "\n",
    "print(f'Mean NDCG@4 aligned with CatBoost: {mean_ndcg4:.4f}')\n",
    "print(f'Mean Precision@4 aligned with CatBoost: {mean_precision4:.4f}')\n"
   ]
  },
  {
   "cell_type": "code",
   "execution_count": null,
   "id": "d0f5b717",
   "metadata": {},
   "outputs": [],
   "source": []
  }
 ],
 "metadata": {
  "kernelspec": {
   "display_name": "scraping",
   "language": "python",
   "name": "python3"
  },
  "language_info": {
   "codemirror_mode": {
    "name": "ipython",
    "version": 3
   },
   "file_extension": ".py",
   "mimetype": "text/x-python",
   "name": "python",
   "nbconvert_exporter": "python",
   "pygments_lexer": "ipython3",
   "version": "3.13.5"
  }
 },
 "nbformat": 4,
 "nbformat_minor": 5
}
