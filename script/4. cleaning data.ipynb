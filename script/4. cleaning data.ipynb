{
 "cells": [
  {
   "cell_type": "code",
   "execution_count": 1,
   "id": "dceb6e68",
   "metadata": {},
   "outputs": [],
   "source": [
    "import pandas as pd\n",
    "import os "
   ]
  },
  {
   "cell_type": "code",
   "execution_count": 2,
   "id": "b2292eb2",
   "metadata": {},
   "outputs": [],
   "source": [
    "pd.set_option('display.max_columns', None)"
   ]
  },
  {
   "cell_type": "code",
   "execution_count": 3,
   "id": "95889653",
   "metadata": {},
   "outputs": [],
   "source": [
    "df = pd.read_csv('../data/race_data/race_data.csv')"
   ]
  },
  {
   "cell_type": "markdown",
   "id": "2806a255",
   "metadata": {},
   "source": [
    "# Utility function"
   ]
  },
  {
   "cell_type": "code",
   "execution_count": 4,
   "id": "f815f7c7",
   "metadata": {},
   "outputs": [],
   "source": [
    "# convert to new race index format\n",
    "def convert_year(date_str):\n",
    "    day, month, year = date_str.split('/')\n",
    "\n",
    "    if len(year) == 4:\n",
    "        year = year[2:]\n",
    "    \n",
    "    return f'{day}/{month}/{year}'"
   ]
  },
  {
   "cell_type": "code",
   "execution_count": 5,
   "id": "c4fa275f",
   "metadata": {},
   "outputs": [],
   "source": [
    "# combine race index with date to form new index\n",
    "def combine_index_date(df, col1, col2, new_col):\n",
    "\n",
    "    df['race_index'] = df[col1].astype(str) + df[col2].str.replace('/', '').astype(str)\n",
    "\n",
    "    df = df.drop(columns = ['RaceIndex', 'Date'])\n",
    "\n",
    "    return df\n"
   ]
  },
  {
   "cell_type": "code",
   "execution_count": 6,
   "id": "08ab798c",
   "metadata": {},
   "outputs": [],
   "source": [
    "# clean RC, Track, Course\n",
    "def clean_rc_track_course(text):\n",
    "    parts = str(text).split('/')\n",
    "\n",
    "    if len(parts) < 3:\n",
    "        rc = parts[0].strip()\n",
    "        track = parts[1].strip()\n",
    "        course = None\n",
    "    \n",
    "    else:\n",
    "        rc, track, course = parts[0].strip(), parts[1].strip(), parts[2].strip().replace('\"', '')\n",
    "\n",
    "    return rc, track, course"
   ]
  },
  {
   "cell_type": "code",
   "execution_count": 7,
   "id": "9ad6a128",
   "metadata": {},
   "outputs": [],
   "source": [
    "# clean origin, age\n",
    "def clean_origin_age(text):\n",
    "    parts = str(text).split('/')\n",
    "\n",
    "    if len(parts) < 2:\n",
    "        origin = parts[0].strip()\n",
    "        age = None\n",
    "    \n",
    "    else:\n",
    "        origin = parts[0].strip()\n",
    "        age = parts[1].strip()\n",
    "    \n",
    "    return origin, age"
   ]
  },
  {
   "cell_type": "code",
   "execution_count": 8,
   "id": "2bdafb95",
   "metadata": {},
   "outputs": [],
   "source": [
    "# clean colour, sex\n",
    "def clean_colour_sex(text):\n",
    "    parts = str(text).split('/')\n",
    "\n",
    "    colour = parts[0].strip()\n",
    "    sex = parts[-1].strip()\n",
    "\n",
    "    return colour, sex"
   ]
  },
  {
   "cell_type": "code",
   "execution_count": 9,
   "id": "d3551898",
   "metadata": {},
   "outputs": [],
   "source": [
    "def encode_gears(gear_str, gear_symbols):\n",
    "    # split the gear string by '/'\n",
    "    parts = gear_str.split('/') if isinstance(gear_str, str) else []\n",
    "    present_gears = set()\n",
    "\n",
    "    for part in parts:\n",
    "        part = part.strip()\n",
    "        if part.endswith('-'):\n",
    "            continue\n",
    "        if len(part) > 1 and part[-1] in ['1', '2']:\n",
    "            part = part[:-1]\n",
    "        if part in gear_symbols:\n",
    "            present_gears.add(part)\n",
    "    return present_gears"
   ]
  },
  {
   "cell_type": "markdown",
   "id": "dc01e35a",
   "metadata": {},
   "source": [
    "# Main function"
   ]
  },
  {
   "cell_type": "code",
   "execution_count": 10,
   "id": "2196e04e",
   "metadata": {},
   "outputs": [],
   "source": [
    "def engineering(df):\n",
    "\n",
    "    exclude = ['WV', 'WV-A', 'WX', 'WX-A', 'WXNR']\n",
    "    df = df[~df['Pla.'].isin(exclude)].copy()\n",
    "\n",
    "    # clean format of date\n",
    "    df['Date'] = df['Date'].apply(convert_year)\n",
    "\n",
    "    # filter dates only after 04/09/2020\n",
    "    df['date_dt'] = pd.to_datetime(df['Date'], format = '%d/%m/%y')\n",
    "    df = df[df['date_dt'] > pd.to_datetime('04/09/20', format = '%d/%m/%y')]\n",
    "    df = df.drop(columns = ['date_dt'])\n",
    "\n",
    "    # combine the columns to new index\n",
    "    df = combine_index_date(df, 'RaceIndex', 'Date', 'race_index')\n",
    "\n",
    "    # clean rc, track, course\n",
    "    df[['rc', 'track', 'course']] = df['RC/Track/Course'].apply(clean_rc_track_course).apply(pd.Series)\n",
    "    df = df.drop(columns = ['RC/Track/Course'])\n",
    "\n",
    "    # clean origin, age\n",
    "    df[['origin', 'age']] = df['Origin / Age'].apply(clean_origin_age).apply(pd.Series)\n",
    "    df = df.drop(columns = ['Origin / Age'])\n",
    "\n",
    "    # clean colour, sex\n",
    "    df[['colour', 'sex']] = df['Colour / Sex'].apply(clean_colour_sex).apply(pd.Series)\n",
    "    df = df.drop(columns = ['Colour / Sex'])\n",
    "\n",
    "    # encode gears\n",
    "    # initiate gears columns\n",
    "    gear_symbols = ['B', 'BO', 'CC', 'CP', 'CO', 'E', 'H', 'P', 'PC', 'PS', 'SB', 'SR', 'TT', 'V', 'VO', 'XB']\n",
    "    for gear in gear_symbols:\n",
    "        df[gear] = False\n",
    "\n",
    "    for idx, row in df.iterrows():\n",
    "        gears = encode_gears(row['Gear'], gear_symbols)\n",
    "        for gear in gears:\n",
    "            df.at[idx, gear] = True # set True to the corresponding columns for the row\n",
    "    # drop gear column\n",
    "    df = df.drop(columns = ['Gear'])\n",
    "\n",
    "    # drop columns that will not be able to obtained prior matches\n",
    "    df = df.drop(columns = ['LBW', 'RunningPosition', 'Finish Time'])\n",
    "\n",
    "    # rename columns\n",
    "    df = df.rename(columns = {'Dr.' : 'gate_position', 'G' : 'track_condition'})\n",
    "\n",
    "    return df"
   ]
  },
  {
   "cell_type": "code",
   "execution_count": 11,
   "id": "042c8880",
   "metadata": {},
   "outputs": [],
   "source": [
    "df = engineering(df)"
   ]
  },
  {
   "cell_type": "code",
   "execution_count": 12,
   "id": "df3e83dd",
   "metadata": {},
   "outputs": [],
   "source": [
    "output_dir = '../data/'\n",
    "output_path = os.path.join(output_dir, 'cleaned_data.csv')\n",
    "\n",
    "os.makedirs(output_dir, exist_ok = True)\n",
    "\n",
    "df.to_csv(output_path, index = False)"
   ]
  },
  {
   "cell_type": "code",
   "execution_count": null,
   "id": "027122de",
   "metadata": {},
   "outputs": [],
   "source": []
  }
 ],
 "metadata": {
  "kernelspec": {
   "display_name": "scraping",
   "language": "python",
   "name": "python3"
  },
  "language_info": {
   "codemirror_mode": {
    "name": "ipython",
    "version": 3
   },
   "file_extension": ".py",
   "mimetype": "text/x-python",
   "name": "python",
   "nbconvert_exporter": "python",
   "pygments_lexer": "ipython3",
   "version": "3.13.5"
  }
 },
 "nbformat": 4,
 "nbformat_minor": 5
}
