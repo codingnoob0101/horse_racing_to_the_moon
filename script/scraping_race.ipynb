{
 "cells": [
  {
   "cell_type": "code",
   "execution_count": 1,
   "id": "9739dc41",
   "metadata": {},
   "outputs": [],
   "source": [
    "import requests\n",
    "import pandas as pd\n",
    "from bs4 import BeautifulSoup\n",
    "import os\n",
    "import re"
   ]
  },
  {
   "cell_type": "code",
   "execution_count": 2,
   "id": "26b0f20b",
   "metadata": {},
   "outputs": [],
   "source": [
    "date = ['2025/07/16']\n",
    "venue = ['HV', 'ST']\n",
    "\n",
    "params = {\n",
    "    'dates': date,\n",
    "    'venues': venue\n",
    "}"
   ]
  },
  {
   "cell_type": "code",
   "execution_count": 5,
   "id": "85d79e55",
   "metadata": {},
   "outputs": [],
   "source": [
    "def fetch_race_data_by_venue(date, venues, max_race_no=9):\n",
    " \n",
    "    base_url = \"https://racing.hkjc.com/racing/information/English/Racing/LocalResults.aspx\"\n",
    "    results = {}\n",
    "\n",
    "    headers = {\n",
    "        \"User-Agent\": \"Mozilla/5.0 (compatible; HKJCScraper/1.0)\"\n",
    "    }\n",
    "\n",
    "    for venue in venues:\n",
    "        print(f\"Checking venue {venue} race no 1...\")\n",
    "        params = {\n",
    "            \"RaceDate\": date,\n",
    "            \"Racecourse\": venue,\n",
    "            \"RaceNo\": 1\n",
    "        }\n",
    "\n",
    "        response = requests.get(base_url, params=params, headers=headers)\n",
    "        if response.status_code != 200:\n",
    "            print(f\"Failed to fetch page for date {date} venue {venue} race 1, status: {response.status_code}\")\n",
    "            continue\n",
    "\n",
    "        soup = BeautifulSoup(response.text, \"html.parser\")\n",
    "        # Check for the presence of the race result table, often with class 'table_bd' or id\n",
    "        table = soup.find('table', class_='table_bd')\n",
    "\n",
    "        if not table:\n",
    "            print(f\"No race data found for date {date} venue {venue} race 1; skipping rest of races for this venue.\")\n",
    "            continue  # Skip race 2-9 for this venue\n",
    "\n",
    "        # Save race 1 result\n",
    "        results[(venue, 1)] = soup\n",
    "        print(f\"Race data found for date {date} venue {venue} race 1; fetching races 2 to {max_race_no}...\")\n",
    "\n",
    "        # Now fetch the rest of the races for this venue\n",
    "        for race_no in range(2, max_race_no + 1):\n",
    "            params[\"RaceNo\"] = race_no\n",
    "            response = requests.get(base_url, params=params, headers=headers)\n",
    "            if response.status_code != 200:\n",
    "                print(f\"Failed to fetch page for date {date} venue {venue} race {race_no}, status: {response.status_code}\")\n",
    "                results[(venue, race_no)] = None\n",
    "                continue\n",
    "\n",
    "            soup = BeautifulSoup(response.text, \"html.parser\")\n",
    "            table = soup.find('table', class_='table_bd')\n",
    "            if not table:\n",
    "                print(f\"No race data found for date {date} venue {venue} race {race_no}.\")\n",
    "                results[(venue, race_no)] = None\n",
    "            else:\n",
    "                results[(venue, race_no)] = soup\n",
    "\n",
    "    return results\n"
   ]
  },
  {
   "cell_type": "code",
   "execution_count": 6,
   "id": "5208fff7",
   "metadata": {},
   "outputs": [
    {
     "name": "stdout",
     "output_type": "stream",
     "text": [
      "Checking venue HV race no 1...\n",
      "Race data found for date 2025/07/16 venue HV race 1; fetching races 2 to 9...\n",
      "Checking venue ST race no 1...\n",
      "No race data found for date 2025/07/16 venue ST race 1; skipping rest of races for this venue.\n"
     ]
    }
   ],
   "source": [
    "race_date = '2025/07/16'\n",
    "venue_list = ['HV', 'ST']\n",
    "\n",
    "data = fetch_race_data_by_venue(race_date, venue_list)\n",
    "# 'data' contains BeautifulSoup objects for successful pages or None entries for misses"
   ]
  },
  {
   "cell_type": "code",
   "execution_count": null,
   "id": "cfb48b61",
   "metadata": {},
   "outputs": [
    {
     "ename": "AttributeError",
     "evalue": "'dict' object has no attribute 'content'",
     "output_type": "error",
     "traceback": [
      "\u001b[31m---------------------------------------------------------------------------\u001b[39m",
      "\u001b[31mAttributeError\u001b[39m                            Traceback (most recent call last)",
      "\u001b[36mCell\u001b[39m\u001b[36m \u001b[39m\u001b[32mIn[9]\u001b[39m\u001b[32m, line 1\u001b[39m\n\u001b[32m----> \u001b[39m\u001b[32m1\u001b[39m soup[\u001b[32m1\u001b[39m] = BeautifulSoup(\u001b[43mdata\u001b[49m\u001b[43m.\u001b[49m\u001b[43mcontent\u001b[49m, \u001b[33m'\u001b[39m\u001b[33mhtml.parser\u001b[39m\u001b[33m'\u001b[39m)\n",
      "\u001b[31mAttributeError\u001b[39m: 'dict' object has no attribute 'content'"
     ]
    }
   ],
   "source": [
    "soup = BeautifulSoup(data.content, 'html.parser')"
   ]
  },
  {
   "cell_type": "code",
   "execution_count": null,
   "id": "d1fb2d00",
   "metadata": {},
   "outputs": [],
   "source": []
  }
 ],
 "metadata": {
  "kernelspec": {
   "display_name": "scraping",
   "language": "python",
   "name": "python3"
  },
  "language_info": {
   "codemirror_mode": {
    "name": "ipython",
    "version": 3
   },
   "file_extension": ".py",
   "mimetype": "text/x-python",
   "name": "python",
   "nbconvert_exporter": "python",
   "pygments_lexer": "ipython3",
   "version": "3.13.5"
  }
 },
 "nbformat": 4,
 "nbformat_minor": 5
}
