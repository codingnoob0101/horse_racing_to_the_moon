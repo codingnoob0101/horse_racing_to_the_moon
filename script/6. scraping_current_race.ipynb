{
 "cells": [
  {
   "cell_type": "code",
   "execution_count": 48,
   "id": "4afa30ef",
   "metadata": {},
   "outputs": [],
   "source": [
    "import requests\n",
    "import pandas as pd\n",
    "from bs4 import BeautifulSoup\n",
    "import re"
   ]
  },
  {
   "cell_type": "markdown",
   "id": "55b87182",
   "metadata": {},
   "source": [
    "# Utility"
   ]
  },
  {
   "cell_type": "code",
   "execution_count": 97,
   "id": "b64aa478",
   "metadata": {},
   "outputs": [],
   "source": [
    "# get race information\n",
    "def get_race_info(soup):\n",
    "\n",
    "    result = soup.find('div', class_ = 'f_fs13')\n",
    "    lines = list(result.stripped_strings)\n",
    "\n",
    "    # find venue\n",
    "    venue = lines[1]\n",
    "    venue = venue.split(',')\n",
    "    venue = venue[3]\n",
    "    venue = venue.strip()\n",
    "    if venue == 'Sha Tin':\n",
    "        venue = 'ST'\n",
    "    elif venue == 'Happy Valley':\n",
    "        venue = 'HV'\n",
    "    else:\n",
    "        venue = 'not found'\n",
    "\n",
    "    # find track, course, and distance\n",
    "    info = lines[2].split(',')\n",
    "\n",
    "    track = info[0].strip()\n",
    "    course = info[1].replace('\"', '').replace('Course', '').strip()\n",
    "    distance = info[2].strip()\n",
    "\n",
    "    # find class\n",
    "    race_class = lines[3].split(',')\n",
    "    race_class = race_class[3].replace('Class', '').strip()\n",
    "\n",
    "    return venue, track, course, distance, race_class"
   ]
  },
  {
   "cell_type": "code",
   "execution_count": 104,
   "id": "656effc6",
   "metadata": {},
   "outputs": [],
   "source": [
    "# get all horse href for characteristic\n",
    "def get_race_horse(soup):\n",
    "    all_links = []\n",
    "\n",
    "    # find the table containing the horses url\n",
    "    parti_horses = soup.find('table', class_ = 'starter f_tac f_fs13 draggable hiddenable')\n",
    "\n",
    "    if not parti_horses:\n",
    "        print('horses table not found')\n",
    "\n",
    "    header_row = parti_horses.find('tr')\n",
    "\n",
    "    headers = [td.get_text(strip = True) for td in header_row.find_all('td')]\n",
    "    if 'Horse' not in headers:\n",
    "        print('no horse column found')\n",
    "\n",
    "    # get the column index of the horse column\n",
    "    horse_col_index = headers.index('Horse')\n",
    "\n",
    "    for row in parti_horses.find_all('tr')[1:]:\n",
    "        cells = row.find_all('td') # cell in the row\n",
    "        if len(cells) > horse_col_index:\n",
    "            td = cells[horse_col_index]\n",
    "            a_tag = td.find('a', href = True)\n",
    "            if a_tag:\n",
    "                href = a_tag['href']\n",
    "                if href.startswith('/'):\n",
    "                    href = 'https://racing.hkjc.com' + href\n",
    "                all_links.append(href)\n",
    "    \n",
    "    return all_links\n"
   ]
  },
  {
   "cell_type": "markdown",
   "id": "db001795",
   "metadata": {},
   "source": [
    "# Main"
   ]
  },
  {
   "cell_type": "code",
   "execution_count": null,
   "id": "905246df",
   "metadata": {},
   "outputs": [],
   "source": [
    "def scrape_current_race(url):\n",
    "    http_headers = {\"User-Agent\": \"Mozilla/5.0 (compatible; HKJCScraper/1.0)\"}\n",
    "    response = requests.get('https://racing.hkjc.com/racing/information/English/Racing/Entries.aspx?RaceDate=2025/09/07&Racecourse=ST&View=Section&SectionNo=1&ProvRaceNo=P10', headers = http_headers)\n",
    "\n",
    "    if response.status_code != 200:\n",
    "        print(f'races not found')\n",
    "    else:\n",
    "        print('url found')\n",
    "\n",
    "    soup = BeautifulSoup(response.text, 'html.parser')\n",
    "\n",
    "    # from soup, find the race specific information\n",
    "    venue, track, course, distance, race_class = get_race_info(soup)\n",
    "\n",
    "    # get the horse url for scraping horse related information\n",
    "    paricipating_horse_links = get_race_horse(soup)"
   ]
  },
  {
   "cell_type": "code",
   "execution_count": 100,
   "id": "c712be00",
   "metadata": {},
   "outputs": [
    {
     "name": "stdout",
     "output_type": "stream",
     "text": [
      "url found\n"
     ]
    }
   ],
   "source": [
    "http_headers = {\"User-Agent\": \"Mozilla/5.0 (compatible; HKJCScraper/1.0)\"}\n",
    "response = requests.get('https://racing.hkjc.com/racing/information/English/Racing/RaceCard.aspx?RaceDate=2025/09/07&Racecourse=ST&RaceNo=1', headers = http_headers)\n",
    "\n",
    "if response.status_code != 200:\n",
    "    print(f'races not found')\n",
    "else:\n",
    "    print('url found')"
   ]
  },
  {
   "cell_type": "code",
   "execution_count": 101,
   "id": "cc35e616",
   "metadata": {},
   "outputs": [],
   "source": [
    "soup = BeautifulSoup(response.text, 'html.parser')"
   ]
  },
  {
   "cell_type": "code",
   "execution_count": 102,
   "id": "e717e81f",
   "metadata": {},
   "outputs": [],
   "source": [
    "venue, track, course, distance, race_class = get_race_info(soup)"
   ]
  },
  {
   "cell_type": "code",
   "execution_count": 103,
   "id": "a26afe65",
   "metadata": {},
   "outputs": [
    {
     "name": "stdout",
     "output_type": "stream",
     "text": [
      "ST Turf A 1200M 5\n"
     ]
    }
   ],
   "source": [
    "print(venue, track, course, distance, race_class)"
   ]
  },
  {
   "cell_type": "code",
   "execution_count": 105,
   "id": "a86cca91",
   "metadata": {},
   "outputs": [],
   "source": [
    "parti_links = get_race_horse(soup)"
   ]
  },
  {
   "cell_type": "code",
   "execution_count": 106,
   "id": "d85a8ce3",
   "metadata": {},
   "outputs": [
    {
     "data": {
      "text/plain": [
       "['https://racing.hkjc.com/racing/information/english/Horse/Horse.aspx?HorseId=HK_2023_J471',\n",
       " 'https://racing.hkjc.com/racing/information/english/Horse/Horse.aspx?HorseId=HK_2019_D090',\n",
       " 'https://racing.hkjc.com/racing/information/english/Horse/Horse.aspx?HorseId=HK_2024_K052',\n",
       " 'https://racing.hkjc.com/racing/information/english/Horse/Horse.aspx?HorseId=HK_2024_K028',\n",
       " 'https://racing.hkjc.com/racing/information/english/Horse/Horse.aspx?HorseId=HK_2023_J171',\n",
       " 'https://racing.hkjc.com/racing/information/english/Horse/Horse.aspx?HorseId=HK_2023_J441',\n",
       " 'https://racing.hkjc.com/racing/information/english/Horse/Horse.aspx?HorseId=HK_2024_K115',\n",
       " 'https://racing.hkjc.com/racing/information/english/Horse/Horse.aspx?HorseId=HK_2023_J065',\n",
       " 'https://racing.hkjc.com/racing/information/english/Horse/Horse.aspx?HorseId=HK_2022_H108',\n",
       " 'https://racing.hkjc.com/racing/information/english/Horse/Horse.aspx?HorseId=HK_2022_H465',\n",
       " 'https://racing.hkjc.com/racing/information/english/Horse/Horse.aspx?HorseId=HK_2022_H247',\n",
       " 'https://racing.hkjc.com/racing/information/english/Horse/Horse.aspx?HorseId=HK_2020_E413',\n",
       " 'https://racing.hkjc.com/racing/information/english/Horse/Horse.aspx?HorseId=HK_2023_J144',\n",
       " 'https://racing.hkjc.com/racing/information/english/Horse/Horse.aspx?HorseId=HK_2022_H144']"
      ]
     },
     "execution_count": 106,
     "metadata": {},
     "output_type": "execute_result"
    }
   ],
   "source": [
    "parti_links"
   ]
  },
  {
   "cell_type": "code",
   "execution_count": 55,
   "id": "5a62fd03",
   "metadata": {},
   "outputs": [],
   "source": [
    "result = soup.find('div', class_ = 'f_fs13')"
   ]
  },
  {
   "cell_type": "code",
   "execution_count": 57,
   "id": "3bdf20ec",
   "metadata": {},
   "outputs": [],
   "source": [
    "lines = list(result.stripped_strings)"
   ]
  },
  {
   "cell_type": "code",
   "execution_count": 58,
   "id": "fb51ef2b",
   "metadata": {},
   "outputs": [
    {
     "data": {
      "text/plain": [
       "['Race 1 - GRASSY HILL HANDICAP',\n",
       " 'Sunday, September 07, 2025, Sha Tin, 13:00',\n",
       " 'Turf, \"A\" Course, 1200M',\n",
       " 'Prize Money: $875,000, Rating: 40-0, Class 5']"
      ]
     },
     "execution_count": 58,
     "metadata": {},
     "output_type": "execute_result"
    }
   ],
   "source": [
    "lines"
   ]
  },
  {
   "cell_type": "code",
   "execution_count": 67,
   "id": "3e53c787",
   "metadata": {},
   "outputs": [],
   "source": [
    "# find venue\n",
    "venue = lines[1]\n",
    "venue = venue.split(',')\n",
    "venue = venue[3]\n",
    "venue = venue.strip()\n",
    "if venue == 'Sha Tin':\n",
    "    venue = 'ST'\n",
    "elif venue == 'Happy Valley':\n",
    "    venue = 'HV'\n",
    "else:\n",
    "    venue = 'not found'\n"
   ]
  },
  {
   "cell_type": "code",
   "execution_count": 76,
   "id": "f4d0d590",
   "metadata": {},
   "outputs": [
    {
     "name": "stdout",
     "output_type": "stream",
     "text": [
      "Turf A 1200M\n"
     ]
    }
   ],
   "source": [
    "# find track, course, and distance\n",
    "info = lines[2].split(',')\n",
    "\n",
    "track = info[0].strip()\n",
    "course = info[1].replace('\"', '').replace('Course', '').strip()\n",
    "length = info[2].strip()"
   ]
  },
  {
   "cell_type": "code",
   "execution_count": 81,
   "id": "a84311e9",
   "metadata": {},
   "outputs": [
    {
     "data": {
      "text/plain": [
       "'5'"
      ]
     },
     "execution_count": 81,
     "metadata": {},
     "output_type": "execute_result"
    }
   ],
   "source": [
    "# find class\n",
    "race_class = lines[3].split(',')\n",
    "race_class = race_class[3].replace('Class', '').strip()\n",
    "race_class"
   ]
  },
  {
   "cell_type": "code",
   "execution_count": 92,
   "id": "0ece22e9",
   "metadata": {},
   "outputs": [],
   "source": [
    "all_links = []\n",
    "\n",
    "# find the table containing the horses url\n",
    "parti_horses = soup.find('table', class_ = 'starter f_tac f_fs13 draggable hiddenable')\n",
    "\n",
    "if not parti_horses:\n",
    "    print('horses table not found')\n",
    "\n",
    "header_row = parti_horses.find('tr')"
   ]
  },
  {
   "cell_type": "code",
   "execution_count": 95,
   "id": "1a0b4ee2",
   "metadata": {},
   "outputs": [],
   "source": [
    "headers = [td.get_text(strip = True) for td in header_row.find_all('td')]\n",
    "if 'Horse' not in headers:\n",
    "    print('no horse column found')\n",
    "\n",
    "# get the column index of the horse column\n",
    "horse_col_index = headers.index('Horse')\n",
    "\n",
    "for row in parti_horses.find_all('tr')[1:]:\n",
    "    cells = row.find_all('td') # cell in the row\n",
    "    if len(cells) > horse_col_index:\n",
    "        td = cells[horse_col_index]\n",
    "        a_tag = td.find('a', href = True)\n",
    "        if a_tag:\n",
    "            href = a_tag['href']\n",
    "            if href.startswith('/'):\n",
    "                href = 'https://racing.hkjc.com' + href\n",
    "            all_links.append(href)\n",
    "            "
   ]
  },
  {
   "cell_type": "code",
   "execution_count": 96,
   "id": "5decc2b9",
   "metadata": {},
   "outputs": [
    {
     "data": {
      "text/plain": [
       "['https://racing.hkjc.com/racing/information/English/Horse/Horse.aspx?HorseId=HK_2023_J471',\n",
       " 'https://racing.hkjc.com/racing/information/English/Horse/Horse.aspx?HorseId=HK_2019_D090',\n",
       " 'https://racing.hkjc.com/racing/information/English/Horse/Horse.aspx?HorseId=HK_2024_K052',\n",
       " 'https://racing.hkjc.com/racing/information/English/Horse/Horse.aspx?HorseId=HK_2024_K028',\n",
       " 'https://racing.hkjc.com/racing/information/English/Horse/Horse.aspx?HorseId=HK_2023_J171',\n",
       " 'https://racing.hkjc.com/racing/information/English/Horse/Horse.aspx?HorseId=HK_2023_J441',\n",
       " 'https://racing.hkjc.com/racing/information/English/Horse/Horse.aspx?HorseId=HK_2024_K115',\n",
       " 'https://racing.hkjc.com/racing/information/English/Horse/Horse.aspx?HorseId=HK_2023_J065',\n",
       " 'https://racing.hkjc.com/racing/information/English/Horse/Horse.aspx?HorseId=HK_2022_H108',\n",
       " 'https://racing.hkjc.com/racing/information/English/Horse/Horse.aspx?HorseId=HK_2022_H465',\n",
       " 'https://racing.hkjc.com/racing/information/English/Horse/Horse.aspx?HorseId=HK_2022_H247',\n",
       " 'https://racing.hkjc.com/racing/information/English/Horse/Horse.aspx?HorseId=HK_2020_E413',\n",
       " 'https://racing.hkjc.com/racing/information/English/Horse/Horse.aspx?HorseId=HK_2023_J144',\n",
       " 'https://racing.hkjc.com/racing/information/English/Horse/Horse.aspx?HorseId=HK_2022_H144']"
      ]
     },
     "execution_count": 96,
     "metadata": {},
     "output_type": "execute_result"
    }
   ],
   "source": [
    "all_links"
   ]
  },
  {
   "cell_type": "code",
   "execution_count": null,
   "id": "5616c58c",
   "metadata": {},
   "outputs": [],
   "source": []
  }
 ],
 "metadata": {
  "kernelspec": {
   "display_name": "scraping",
   "language": "python",
   "name": "python3"
  },
  "language_info": {
   "codemirror_mode": {
    "name": "ipython",
    "version": 3
   },
   "file_extension": ".py",
   "mimetype": "text/x-python",
   "name": "python",
   "nbconvert_exporter": "python",
   "pygments_lexer": "ipython3",
   "version": "3.13.5"
  }
 },
 "nbformat": 4,
 "nbformat_minor": 5
}
