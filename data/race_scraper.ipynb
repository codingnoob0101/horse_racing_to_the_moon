{
 "cells": [
  {
   "cell_type": "code",
   "execution_count": 17,
   "id": "5c6c7740",
   "metadata": {},
   "outputs": [],
   "source": [
    "import pandas as pd\n",
    "from selenium import webdriver\n",
    "from selenium.webdriver.chrome.options import Options\n",
    "from selenium.webdriver.chrome.service import Service\n",
    "from webdriver_manager.chrome import ChromeDriverManager\n",
    "import os"
   ]
  },
  {
   "cell_type": "markdown",
   "id": "e2d8d384",
   "metadata": {},
   "source": [
    "# Configuration and setup"
   ]
  },
  {
   "cell_type": "code",
   "execution_count": 8,
   "id": "4b161ff0",
   "metadata": {},
   "outputs": [
    {
     "name": "stdout",
     "output_type": "stream",
     "text": [
      "✅ Configuration loaded. Output directory: ./data/\n"
     ]
    }
   ],
   "source": [
    "# configuration and setup \n",
    "class Config:\n",
    "    # Date range for scraping\n",
    "    START_DATE = \"2023-01-01\"\n",
    "    END_DATE = \"2025-07-14\"\n",
    "    \n",
    "    # Scraping settings\n",
    "    RATE_LIMIT = 2  # seconds between requests\n",
    "    BATCH_SIZE = 10  # races per batch\n",
    "    \n",
    "    # Selenium settings\n",
    "    HEADLESS = True  # Set to False to see browser window\n",
    "    IMPLICIT_WAIT = 10\n",
    "    PAGE_LOAD_TIMEOUT = 30\n",
    "    \n",
    "    # File output settings\n",
    "    OUTPUT_DIR = \"./data/\"\n",
    "\n",
    "# Create output directory\n",
    "os.makedirs(Config.OUTPUT_DIR, exist_ok=True)  # exist_ok make sure not to double the creation of the directory if it already exist \n",
    "print(f\"✅ Configuration loaded. Output directory: {Config.OUTPUT_DIR}\")"
   ]
  },
  {
   "cell_type": "code",
   "execution_count": 13,
   "id": "66f8ed80",
   "metadata": {},
   "outputs": [
    {
     "name": "stdout",
     "output_type": "stream",
     "text": [
      "🚗 Testing WebDriver setup...\n",
      "❌ WebDriver setup failed: name 'Service' is not defined\n",
      "💡 Make sure Chrome browser is installed on your system.\n"
     ]
    }
   ],
   "source": [
    "# WebDriver Setup\n",
    "def setup_webdriver():\n",
    "    \"\"\"Setup Chrome WebDriver with optimal settings\"\"\"\n",
    "    chrome_options = Options()\n",
    "    \n",
    "    if Config.HEADLESS:\n",
    "        chrome_options.add_argument(\"--headless\")\n",
    "    \n",
    "    # Performance options\n",
    "    chrome_options.add_argument(\"--no-sandbox\")\n",
    "    chrome_options.add_argument(\"--disable-dev-shm-usage\")\n",
    "    chrome_options.add_argument(\"--disable-gpu\")\n",
    "    chrome_options.add_argument(\"--window-size=1920,1080\")\n",
    "    chrome_options.add_argument(\"--disable-blink-features=AutomationControlled\")\n",
    "    chrome_options.add_experimental_option(\"excludeSwitches\", [\"enable-automation\"])\n",
    "    chrome_options.add_experimental_option('useAutomationExtension', False)\n",
    "    \n",
    "    # User agent\n",
    "    chrome_options.add_argument(\"--user-agent=Mozilla/5.0 (Windows NT 10.0; Win64; x64) AppleWebKit/537.36 (KHTML, like Gecko) Chrome/120.0.0.0 Safari/537.36\")\n",
    "    \n",
    "    # Setup driver\n",
    "    service = Service(ChromeDriverManager().install())\n",
    "    driver = webdriver.Chrome(service=service, options=chrome_options)\n",
    "    \n",
    "    # Configure timeouts\n",
    "    driver.implicitly_wait(Config.IMPLICIT_WAIT)\n",
    "    driver.set_page_load_timeout(Config.PAGE_LOAD_TIMEOUT)\n",
    "    \n",
    "    # Hide webdriver property\n",
    "    driver.execute_script(\"Object.defineProperty(navigator, 'webdriver', {get: () => undefined})\")\n",
    "    \n",
    "    return driver\n",
    "\n",
    "# Test WebDriver setup\n",
    "print(\"🚗 Testing WebDriver setup...\")\n",
    "try:\n",
    "    test_driver = setup_webdriver()\n",
    "    print(f\"✅ WebDriver setup successful! Browser: {test_driver.capabilities['browserName']} {test_driver.capabilities['browserVersion']}\")\n",
    "    test_driver.quit()\n",
    "    print(\"✅ WebDriver test completed.\")\n",
    "except Exception as e:\n",
    "    print(f\"❌ WebDriver setup failed: {e}\")\n",
    "    print(\"💡 Make sure Chrome browser is installed on your system.\")\n"
   ]
  },
  {
   "cell_type": "code",
   "execution_count": 25,
   "id": "158d0966",
   "metadata": {},
   "outputs": [],
   "source": [
    "# setup webdriver\n",
    "def setup_webdriver():\n",
    "    chrome_options = Options()\n",
    "    \n",
    "    if Config.HEADLESS: # HEADLESS = True from config\n",
    "        chrome_options.add_argument('--headless')\n",
    "    \n",
    "    # Performance options\n",
    "    chrome_options.add_argument(\"--no-sandbox\")\n",
    "    chrome_options.add_argument(\"--disable-dev-shm-usage\")\n",
    "    chrome_options.add_argument(\"--disable-gpu\")\n",
    "    chrome_options.add_argument(\"--window-size=1920,1080\")\n",
    "    chrome_options.add_argument(\"--disable-blink-features=AutomationControlled\")\n",
    "    chrome_options.add_experimental_option(\"excludeSwitches\", [\"enable-automation\"])\n",
    "    chrome_options.add_experimental_option('useAutomationExtension', False)\n",
    "\n",
    "    # User agent -- pretend to be regular user browser to prevent block/detection\n",
    "    chrome_options.add_argument('--user-agent=Mozilla/5.0 (Windows NT 10.0; Win64; x64) AppleWebKit/537.36 (KHTML, like Gecko) Chrome/120.0.0.0 Safari/537.36')\n",
    "\n",
    "    # Setup driver\n",
    "    service = Service(ChromeDriverManager().install()) # install the correct chromedriver for browser\n",
    "    driver = webdriver.Chrome(service=service, options=chrome_options) \n",
    "\n",
    "    # Config timeouts\n",
    "    driver.implicitly_wait(Config.IMPLICIT_WAIT) # set wait time for the content to load\n",
    "    driver.set_page_load_timeout(Config.PAGE_LOAD_TIMEOUT) # maxium time allow the page to load\n",
    "\n",
    "    # Hide webdriver property -- hind automation signature to avoid bot detection\n",
    "    driver.execute_script(\"Object.defineProperty(navigator, 'webdriver', {get: () => undefined})\")\n",
    "\n",
    "    return driver\n"
   ]
  },
  {
   "cell_type": "code",
   "execution_count": 26,
   "id": "1ccdba16",
   "metadata": {},
   "outputs": [
    {
     "name": "stdout",
     "output_type": "stream",
     "text": [
      "Testing WebDriver setup...\n",
      "WebDriver setup successful! Browser: chrome 138.0.7204.169\n",
      "WebDriver test completed.\n"
     ]
    }
   ],
   "source": [
    "# Test WebDriver setup\n",
    "print(\"Testing WebDriver setup...\")\n",
    "\n",
    "try:\n",
    "    test_driver = setup_webdriver()\n",
    "    print(f\"WebDriver setup successful! Browser: {test_driver.capabilities['browserName']} {test_driver.capabilities['browserVersion']}\")\n",
    "    test_driver.quit()\n",
    "    print(\"WebDriver test completed.\")\n",
    "\n",
    "# python creates a Exception object whenever it encounters an error\n",
    "except Exception as e: \n",
    "    print(f\"WebDriver setup failed: {e}\")\n",
    "    print(\"Make sure Chrome browser is installed on your system.\")"
   ]
  },
  {
   "cell_type": "code",
   "execution_count": null,
   "id": "6b80306a",
   "metadata": {},
   "outputs": [],
   "source": []
  }
 ],
 "metadata": {
  "kernelspec": {
   "display_name": "scraping",
   "language": "python",
   "name": "python3"
  },
  "language_info": {
   "codemirror_mode": {
    "name": "ipython",
    "version": 3
   },
   "file_extension": ".py",
   "mimetype": "text/x-python",
   "name": "python",
   "nbconvert_exporter": "python",
   "pygments_lexer": "ipython3",
   "version": "3.13.5"
  }
 },
 "nbformat": 4,
 "nbformat_minor": 5
}
