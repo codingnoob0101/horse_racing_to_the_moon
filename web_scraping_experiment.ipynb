{
 "cells": [
  {
   "cell_type": "code",
   "execution_count": 1,
   "id": "dc517dfc",
   "metadata": {},
   "outputs": [],
   "source": [
    "import requests\n",
    "import pandas as pd\n",
    "import time\n",
    "from bs4 import BeautifulSoup\n",
    "from firecrawl import FirecrawlApp\n",
    "from selenium import webdriver\n",
    "from selenium.webdriver.chrome.options import Options\n",
    "from selenium.webdriver.common.by import By\n",
    "from selenium.webdriver.support.ui import WebDriverWait\n",
    "from selenium.webdriver.support import expected_conditions as EC"
   ]
  },
  {
   "cell_type": "code",
   "execution_count": 2,
   "id": "206b1a16",
   "metadata": {},
   "outputs": [],
   "source": [
    "# define the URL to scrape\n",
    "url = 'http://quotes.toscrape.com/'\n",
    "\n",
    "# Fetch the web page\n",
    "response = requests.get(url)"
   ]
  },
  {
   "cell_type": "code",
   "execution_count": 3,
   "id": "518535b6",
   "metadata": {},
   "outputs": [
    {
     "data": {
      "text/plain": [
       "200"
      ]
     },
     "execution_count": 3,
     "metadata": {},
     "output_type": "execute_result"
    }
   ],
   "source": [
    "# check if the request was successful (status code 200)\n",
    "response.status_code\n"
   ]
  },
  {
   "cell_type": "code",
   "execution_count": 4,
   "id": "3484f293",
   "metadata": {},
   "outputs": [],
   "source": [
    "# Parse the content of the page\n",
    "soup = BeautifulSoup(response.text, 'html.parser')"
   ]
  },
  {
   "cell_type": "code",
   "execution_count": 5,
   "id": "3fd3a7fe",
   "metadata": {},
   "outputs": [],
   "source": [
    "# Find all the quote elements\n",
    "quotes = soup.find_all('div', class_='quote')"
   ]
  },
  {
   "cell_type": "code",
   "execution_count": 6,
   "id": "42fe4d76",
   "metadata": {},
   "outputs": [],
   "source": [
    "# Initiate empty dataframe\n",
    "data = []\n",
    "\n",
    "# extract the quote and author, save to df\n",
    "for i in quotes:\n",
    "    quote = i.find('span', class_ = 'text').get_text()\n",
    "    author = i.find('small', class_ = 'author').get_text()\n",
    "    data.append({'Author': author, 'Quote': quote})"
   ]
  },
  {
   "cell_type": "code",
   "execution_count": 7,
   "id": "9cd7eae5",
   "metadata": {},
   "outputs": [],
   "source": [
    "df = pd.DataFrame(data, columns = ['Author', 'Quote'])"
   ]
  },
  {
   "cell_type": "code",
   "execution_count": 8,
   "id": "25f98ff2",
   "metadata": {},
   "outputs": [
    {
     "data": {
      "text/html": [
       "<div>\n",
       "<style scoped>\n",
       "    .dataframe tbody tr th:only-of-type {\n",
       "        vertical-align: middle;\n",
       "    }\n",
       "\n",
       "    .dataframe tbody tr th {\n",
       "        vertical-align: top;\n",
       "    }\n",
       "\n",
       "    .dataframe thead th {\n",
       "        text-align: right;\n",
       "    }\n",
       "</style>\n",
       "<table border=\"1\" class=\"dataframe\">\n",
       "  <thead>\n",
       "    <tr style=\"text-align: right;\">\n",
       "      <th></th>\n",
       "      <th>Author</th>\n",
       "      <th>Quote</th>\n",
       "    </tr>\n",
       "  </thead>\n",
       "  <tbody>\n",
       "    <tr>\n",
       "      <th>0</th>\n",
       "      <td>Albert Einstein</td>\n",
       "      <td>“The world as we have created it is a process ...</td>\n",
       "    </tr>\n",
       "    <tr>\n",
       "      <th>1</th>\n",
       "      <td>J.K. Rowling</td>\n",
       "      <td>“It is our choices, Harry, that show what we t...</td>\n",
       "    </tr>\n",
       "    <tr>\n",
       "      <th>2</th>\n",
       "      <td>Albert Einstein</td>\n",
       "      <td>“There are only two ways to live your life. On...</td>\n",
       "    </tr>\n",
       "    <tr>\n",
       "      <th>3</th>\n",
       "      <td>Jane Austen</td>\n",
       "      <td>“The person, be it gentleman or lady, who has ...</td>\n",
       "    </tr>\n",
       "    <tr>\n",
       "      <th>4</th>\n",
       "      <td>Marilyn Monroe</td>\n",
       "      <td>“Imperfection is beauty, madness is genius and...</td>\n",
       "    </tr>\n",
       "    <tr>\n",
       "      <th>5</th>\n",
       "      <td>Albert Einstein</td>\n",
       "      <td>“Try not to become a man of success. Rather be...</td>\n",
       "    </tr>\n",
       "    <tr>\n",
       "      <th>6</th>\n",
       "      <td>André Gide</td>\n",
       "      <td>“It is better to be hated for what you are tha...</td>\n",
       "    </tr>\n",
       "    <tr>\n",
       "      <th>7</th>\n",
       "      <td>Thomas A. Edison</td>\n",
       "      <td>“I have not failed. I've just found 10,000 way...</td>\n",
       "    </tr>\n",
       "    <tr>\n",
       "      <th>8</th>\n",
       "      <td>Eleanor Roosevelt</td>\n",
       "      <td>“A woman is like a tea bag; you never know how...</td>\n",
       "    </tr>\n",
       "    <tr>\n",
       "      <th>9</th>\n",
       "      <td>Steve Martin</td>\n",
       "      <td>“A day without sunshine is like, you know, nig...</td>\n",
       "    </tr>\n",
       "  </tbody>\n",
       "</table>\n",
       "</div>"
      ],
      "text/plain": [
       "              Author                                              Quote\n",
       "0    Albert Einstein  “The world as we have created it is a process ...\n",
       "1       J.K. Rowling  “It is our choices, Harry, that show what we t...\n",
       "2    Albert Einstein  “There are only two ways to live your life. On...\n",
       "3        Jane Austen  “The person, be it gentleman or lady, who has ...\n",
       "4     Marilyn Monroe  “Imperfection is beauty, madness is genius and...\n",
       "5    Albert Einstein  “Try not to become a man of success. Rather be...\n",
       "6         André Gide  “It is better to be hated for what you are tha...\n",
       "7   Thomas A. Edison  “I have not failed. I've just found 10,000 way...\n",
       "8  Eleanor Roosevelt  “A woman is like a tea bag; you never know how...\n",
       "9       Steve Martin  “A day without sunshine is like, you know, nig..."
      ]
     },
     "execution_count": 8,
     "metadata": {},
     "output_type": "execute_result"
    }
   ],
   "source": [
    "df"
   ]
  },
  {
   "cell_type": "markdown",
   "id": "c4797ee2",
   "metadata": {},
   "source": [
    "# horses"
   ]
  },
  {
   "cell_type": "code",
   "execution_count": 23,
   "id": "325f38dd",
   "metadata": {},
   "outputs": [],
   "source": [
    "# Initialize the WebDriver\n",
    "driver = webdriver.Edge()\n",
    "\n",
    "# Define the URL to scrape\n",
    "url = 'https://racing.hkjc.com/racing/information/Chinese/Horse/LatestOnHorse.aspx?View=Horses/clas/'\n",
    "\n",
    "# Open the webpage\n",
    "driver.get(url)\n"
   ]
  },
  {
   "cell_type": "code",
   "execution_count": 24,
   "id": "abfb0b8f",
   "metadata": {},
   "outputs": [
    {
     "ename": "TimeoutException",
     "evalue": "Message: \nStacktrace:\n\tGetHandleVerifier [0x0x7ff6ae1c81f5+23461]\n\t(No symbol) [0x0x7ff6ae11c2e0]\n\tGetHandleVerifier [0x0x7ff6ae440128+2611928]\n\t(No symbol) [0x0x7ff6adf391a8]\n\t(No symbol) [0x0x7ff6adf3946b]\n\t(No symbol) [0x0x7ff6adf79a67]\n\t(No symbol) [0x0x7ff6adf5a6ff]\n\t(No symbol) [0x0x7ff6adf2f58d]\n\t(No symbol) [0x0x7ff6adf7754f]\n\t(No symbol) [0x0x7ff6adf5a423]\n\t(No symbol) [0x0x7ff6adf2ea86]\n\t(No symbol) [0x0x7ff6adf2dd11]\n\t(No symbol) [0x0x7ff6adf2e8b3]\n\t(No symbol) [0x0x7ff6ae02dd3d]\n\t(No symbol) [0x0x7ff6ae03b0c8]\n\tGetHandleVerifier [0x0x7ff6ae2a803b+940523]\n\tGetHandleVerifier [0x0x7ff6ae2b0d91+976705]\n\t(No symbol) [0x0x7ff6ae129ed1]\n\t(No symbol) [0x0x7ff6ae1228b4]\n\t(No symbol) [0x0x7ff6ae122a03]\n\t(No symbol) [0x0x7ff6ae1144a6]\n\tBaseThreadInitThunk [0x0x7ff9399d7bd4+20]\n\tRtlUserThreadStart [0x0x7ff93a82ced1+33]\n",
     "output_type": "error",
     "traceback": [
      "\u001b[1;31m---------------------------------------------------------------------------\u001b[0m",
      "\u001b[1;31mTimeoutException\u001b[0m                          Traceback (most recent call last)",
      "Cell \u001b[1;32mIn[24], line 2\u001b[0m\n\u001b[0;32m      1\u001b[0m wait \u001b[38;5;241m=\u001b[39m WebDriverWait(driver, \u001b[38;5;241m20\u001b[39m)\n\u001b[1;32m----> 2\u001b[0m content \u001b[38;5;241m=\u001b[39m wait\u001b[38;5;241m.\u001b[39muntil(EC\u001b[38;5;241m.\u001b[39mpresence_of_element_located((By\u001b[38;5;241m.\u001b[39mCLASS_NAME, \u001b[38;5;124m'\u001b[39m\u001b[38;5;124mmidcontent\u001b[39m\u001b[38;5;124m'\u001b[39m)))\n",
      "File \u001b[1;32mc:\\Users\\TCL0011\\AppData\\Local\\anaconda3\\envs\\ml1\\Lib\\site-packages\\selenium\\webdriver\\support\\wait.py:138\u001b[0m, in \u001b[0;36mWebDriverWait.until\u001b[1;34m(self, method, message)\u001b[0m\n\u001b[0;32m    136\u001b[0m         \u001b[38;5;28;01mbreak\u001b[39;00m\n\u001b[0;32m    137\u001b[0m     time\u001b[38;5;241m.\u001b[39msleep(\u001b[38;5;28mself\u001b[39m\u001b[38;5;241m.\u001b[39m_poll)\n\u001b[1;32m--> 138\u001b[0m \u001b[38;5;28;01mraise\u001b[39;00m TimeoutException(message, screen, stacktrace)\n",
      "\u001b[1;31mTimeoutException\u001b[0m: Message: \nStacktrace:\n\tGetHandleVerifier [0x0x7ff6ae1c81f5+23461]\n\t(No symbol) [0x0x7ff6ae11c2e0]\n\tGetHandleVerifier [0x0x7ff6ae440128+2611928]\n\t(No symbol) [0x0x7ff6adf391a8]\n\t(No symbol) [0x0x7ff6adf3946b]\n\t(No symbol) [0x0x7ff6adf79a67]\n\t(No symbol) [0x0x7ff6adf5a6ff]\n\t(No symbol) [0x0x7ff6adf2f58d]\n\t(No symbol) [0x0x7ff6adf7754f]\n\t(No symbol) [0x0x7ff6adf5a423]\n\t(No symbol) [0x0x7ff6adf2ea86]\n\t(No symbol) [0x0x7ff6adf2dd11]\n\t(No symbol) [0x0x7ff6adf2e8b3]\n\t(No symbol) [0x0x7ff6ae02dd3d]\n\t(No symbol) [0x0x7ff6ae03b0c8]\n\tGetHandleVerifier [0x0x7ff6ae2a803b+940523]\n\tGetHandleVerifier [0x0x7ff6ae2b0d91+976705]\n\t(No symbol) [0x0x7ff6ae129ed1]\n\t(No symbol) [0x0x7ff6ae1228b4]\n\t(No symbol) [0x0x7ff6ae122a03]\n\t(No symbol) [0x0x7ff6ae1144a6]\n\tBaseThreadInitThunk [0x0x7ff9399d7bd4+20]\n\tRtlUserThreadStart [0x0x7ff93a82ced1+33]\n"
     ]
    }
   ],
   "source": [
    "wait = WebDriverWait(driver, 20)\n",
    "content = wait.until(EC.presence_of_element_located((By.CLASS_NAME, 'midcontent')))"
   ]
  },
  {
   "cell_type": "code",
   "execution_count": 20,
   "id": "98c59b1b",
   "metadata": {},
   "outputs": [
    {
     "ename": "NoSuchElementException",
     "evalue": "Message: no such element: Unable to locate element: {\"method\":\"css selector\",\"selector\":\".midcontent\"}\n  (Session info: chrome=138.0.7204.101); For documentation on this error, please visit: https://www.selenium.dev/documentation/webdriver/troubleshooting/errors#nosuchelementexception\nStacktrace:\n\tGetHandleVerifier [0x0x7ff757a36f75+76917]\n\tGetHandleVerifier [0x0x7ff757a36fd0+77008]\n\t(No symbol) [0x0x7ff7577e9dea]\n\t(No symbol) [0x0x7ff757840256]\n\t(No symbol) [0x0x7ff75784050c]\n\t(No symbol) [0x0x7ff757893887]\n\t(No symbol) [0x0x7ff7578684af]\n\t(No symbol) [0x0x7ff75789065c]\n\t(No symbol) [0x0x7ff757868243]\n\t(No symbol) [0x0x7ff757831431]\n\t(No symbol) [0x0x7ff7578321c3]\n\tGetHandleVerifier [0x0x7ff757d0d2ad+3051437]\n\tGetHandleVerifier [0x0x7ff757d07903+3028483]\n\tGetHandleVerifier [0x0x7ff757d2589d+3151261]\n\tGetHandleVerifier [0x0x7ff757a5183e+185662]\n\tGetHandleVerifier [0x0x7ff757a596ff+218111]\n\tGetHandleVerifier [0x0x7ff757a3faf4+112628]\n\tGetHandleVerifier [0x0x7ff757a3fca9+113065]\n\tGetHandleVerifier [0x0x7ff757a26c78+10616]\n\tBaseThreadInitThunk [0x0x7ff9399d7bd4+20]\n\tRtlUserThreadStart [0x0x7ff93a82ced1+33]\n",
     "output_type": "error",
     "traceback": [
      "\u001b[1;31m---------------------------------------------------------------------------\u001b[0m",
      "\u001b[1;31mNoSuchElementException\u001b[0m                    Traceback (most recent call last)",
      "Cell \u001b[1;32mIn[20], line 1\u001b[0m\n\u001b[1;32m----> 1\u001b[0m search_box \u001b[38;5;241m=\u001b[39m driver\u001b[38;5;241m.\u001b[39mfind_element(By\u001b[38;5;241m.\u001b[39mCLASS_NAME, \u001b[38;5;124m'\u001b[39m\u001b[38;5;124mmidcontent\u001b[39m\u001b[38;5;124m'\u001b[39m)\n\u001b[0;32m      2\u001b[0m search_box\u001b[38;5;241m.\u001b[39msend_keys(\u001b[38;5;124m'\u001b[39m\u001b[38;5;124mSelenium\u001b[39m\u001b[38;5;124m'\u001b[39m)\n\u001b[0;32m      3\u001b[0m search_box\u001b[38;5;241m.\u001b[39msubmit()\n",
      "File \u001b[1;32mc:\\Users\\TCL0011\\AppData\\Local\\anaconda3\\envs\\ml1\\Lib\\site-packages\\selenium\\webdriver\\remote\\webdriver.py:922\u001b[0m, in \u001b[0;36mWebDriver.find_element\u001b[1;34m(self, by, value)\u001b[0m\n\u001b[0;32m    919\u001b[0m         \u001b[38;5;28;01mraise\u001b[39;00m NoSuchElementException(\u001b[38;5;124mf\u001b[39m\u001b[38;5;124m\"\u001b[39m\u001b[38;5;124mCannot locate relative element with: \u001b[39m\u001b[38;5;132;01m{\u001b[39;00mby\u001b[38;5;241m.\u001b[39mroot\u001b[38;5;132;01m}\u001b[39;00m\u001b[38;5;124m\"\u001b[39m)\n\u001b[0;32m    920\u001b[0m     \u001b[38;5;28;01mreturn\u001b[39;00m elements[\u001b[38;5;241m0\u001b[39m]\n\u001b[1;32m--> 922\u001b[0m \u001b[38;5;28;01mreturn\u001b[39;00m \u001b[38;5;28mself\u001b[39m\u001b[38;5;241m.\u001b[39mexecute(Command\u001b[38;5;241m.\u001b[39mFIND_ELEMENT, {\u001b[38;5;124m\"\u001b[39m\u001b[38;5;124musing\u001b[39m\u001b[38;5;124m\"\u001b[39m: by, \u001b[38;5;124m\"\u001b[39m\u001b[38;5;124mvalue\u001b[39m\u001b[38;5;124m\"\u001b[39m: value})[\u001b[38;5;124m\"\u001b[39m\u001b[38;5;124mvalue\u001b[39m\u001b[38;5;124m\"\u001b[39m]\n",
      "File \u001b[1;32mc:\\Users\\TCL0011\\AppData\\Local\\anaconda3\\envs\\ml1\\Lib\\site-packages\\selenium\\webdriver\\remote\\webdriver.py:454\u001b[0m, in \u001b[0;36mWebDriver.execute\u001b[1;34m(self, driver_command, params)\u001b[0m\n\u001b[0;32m    451\u001b[0m response \u001b[38;5;241m=\u001b[39m cast(RemoteConnection, \u001b[38;5;28mself\u001b[39m\u001b[38;5;241m.\u001b[39mcommand_executor)\u001b[38;5;241m.\u001b[39mexecute(driver_command, params)\n\u001b[0;32m    453\u001b[0m \u001b[38;5;28;01mif\u001b[39;00m response:\n\u001b[1;32m--> 454\u001b[0m     \u001b[38;5;28mself\u001b[39m\u001b[38;5;241m.\u001b[39merror_handler\u001b[38;5;241m.\u001b[39mcheck_response(response)\n\u001b[0;32m    455\u001b[0m     response[\u001b[38;5;124m\"\u001b[39m\u001b[38;5;124mvalue\u001b[39m\u001b[38;5;124m\"\u001b[39m] \u001b[38;5;241m=\u001b[39m \u001b[38;5;28mself\u001b[39m\u001b[38;5;241m.\u001b[39m_unwrap_value(response\u001b[38;5;241m.\u001b[39mget(\u001b[38;5;124m\"\u001b[39m\u001b[38;5;124mvalue\u001b[39m\u001b[38;5;124m\"\u001b[39m, \u001b[38;5;28;01mNone\u001b[39;00m))\n\u001b[0;32m    456\u001b[0m     \u001b[38;5;28;01mreturn\u001b[39;00m response\n",
      "File \u001b[1;32mc:\\Users\\TCL0011\\AppData\\Local\\anaconda3\\envs\\ml1\\Lib\\site-packages\\selenium\\webdriver\\remote\\errorhandler.py:232\u001b[0m, in \u001b[0;36mErrorHandler.check_response\u001b[1;34m(self, response)\u001b[0m\n\u001b[0;32m    230\u001b[0m         alert_text \u001b[38;5;241m=\u001b[39m value[\u001b[38;5;124m\"\u001b[39m\u001b[38;5;124malert\u001b[39m\u001b[38;5;124m\"\u001b[39m]\u001b[38;5;241m.\u001b[39mget(\u001b[38;5;124m\"\u001b[39m\u001b[38;5;124mtext\u001b[39m\u001b[38;5;124m\"\u001b[39m)\n\u001b[0;32m    231\u001b[0m     \u001b[38;5;28;01mraise\u001b[39;00m exception_class(message, screen, stacktrace, alert_text)  \u001b[38;5;66;03m# type: ignore[call-arg]  # mypy is not smart enough here\u001b[39;00m\n\u001b[1;32m--> 232\u001b[0m \u001b[38;5;28;01mraise\u001b[39;00m exception_class(message, screen, stacktrace)\n",
      "\u001b[1;31mNoSuchElementException\u001b[0m: Message: no such element: Unable to locate element: {\"method\":\"css selector\",\"selector\":\".midcontent\"}\n  (Session info: chrome=138.0.7204.101); For documentation on this error, please visit: https://www.selenium.dev/documentation/webdriver/troubleshooting/errors#nosuchelementexception\nStacktrace:\n\tGetHandleVerifier [0x0x7ff757a36f75+76917]\n\tGetHandleVerifier [0x0x7ff757a36fd0+77008]\n\t(No symbol) [0x0x7ff7577e9dea]\n\t(No symbol) [0x0x7ff757840256]\n\t(No symbol) [0x0x7ff75784050c]\n\t(No symbol) [0x0x7ff757893887]\n\t(No symbol) [0x0x7ff7578684af]\n\t(No symbol) [0x0x7ff75789065c]\n\t(No symbol) [0x0x7ff757868243]\n\t(No symbol) [0x0x7ff757831431]\n\t(No symbol) [0x0x7ff7578321c3]\n\tGetHandleVerifier [0x0x7ff757d0d2ad+3051437]\n\tGetHandleVerifier [0x0x7ff757d07903+3028483]\n\tGetHandleVerifier [0x0x7ff757d2589d+3151261]\n\tGetHandleVerifier [0x0x7ff757a5183e+185662]\n\tGetHandleVerifier [0x0x7ff757a596ff+218111]\n\tGetHandleVerifier [0x0x7ff757a3faf4+112628]\n\tGetHandleVerifier [0x0x7ff757a3fca9+113065]\n\tGetHandleVerifier [0x0x7ff757a26c78+10616]\n\tBaseThreadInitThunk [0x0x7ff9399d7bd4+20]\n\tRtlUserThreadStart [0x0x7ff93a82ced1+33]\n"
     ]
    }
   ],
   "source": [
    "search_box = driver.find_element(By.CLASS_NAME, 'midcontent')\n",
    "search_box.send_keys('Selenium')\n",
    "search_box.submit()"
   ]
  },
  {
   "cell_type": "code",
   "execution_count": null,
   "id": "f8ccc947",
   "metadata": {},
   "outputs": [],
   "source": []
  }
 ],
 "metadata": {
  "kernelspec": {
   "display_name": "ml1",
   "language": "python",
   "name": "python3"
  },
  "language_info": {
   "codemirror_mode": {
    "name": "ipython",
    "version": 3
   },
   "file_extension": ".py",
   "mimetype": "text/x-python",
   "name": "python",
   "nbconvert_exporter": "python",
   "pygments_lexer": "ipython3",
   "version": "3.11.11"
  }
 },
 "nbformat": 4,
 "nbformat_minor": 5
}
