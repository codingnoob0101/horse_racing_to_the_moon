{
 "cells": [
  {
   "cell_type": "code",
   "execution_count": 1,
   "id": "dc517dfc",
   "metadata": {},
   "outputs": [],
   "source": [
    "import requests\n",
    "import pandas as pd\n",
    "import time\n",
    "from bs4 import BeautifulSoup\n",
    "from firecrawl import FirecrawlApp\n",
    "from selenium import webdriver\n",
    "from selenium.webdriver.chrome.options import Options\n",
    "from selenium.webdriver.common.by import By\n",
    "from selenium.webdriver.support.ui import WebDriverWait\n",
    "from selenium.webdriver.support import expected_conditions as EC"
   ]
  },
  {
   "cell_type": "code",
   "execution_count": 2,
   "id": "206b1a16",
   "metadata": {},
   "outputs": [],
   "source": [
    "# define the URL to scrape\n",
    "url = 'http://quotes.toscrape.com/'\n",
    "\n",
    "# Fetch the web page\n",
    "response = requests.get(url)"
   ]
  },
  {
   "cell_type": "code",
   "execution_count": 3,
   "id": "518535b6",
   "metadata": {},
   "outputs": [
    {
     "data": {
      "text/plain": [
       "200"
      ]
     },
     "execution_count": 3,
     "metadata": {},
     "output_type": "execute_result"
    }
   ],
   "source": [
    "# check if the request was successful (status code 200)\n",
    "response.status_code\n"
   ]
  },
  {
   "cell_type": "code",
   "execution_count": 4,
   "id": "3484f293",
   "metadata": {},
   "outputs": [],
   "source": [
    "# Parse the content of the page\n",
    "soup = BeautifulSoup(response.text, 'html.parser')"
   ]
  },
  {
   "cell_type": "code",
   "execution_count": 5,
   "id": "3fd3a7fe",
   "metadata": {},
   "outputs": [],
   "source": [
    "# Find all the quote elements\n",
    "quotes = soup.find_all('div', class_='quote')"
   ]
  },
  {
   "cell_type": "code",
   "execution_count": 6,
   "id": "42fe4d76",
   "metadata": {},
   "outputs": [],
   "source": [
    "# Initiate empty dataframe\n",
    "data = []\n",
    "\n",
    "# extract the quote and author, save to df\n",
    "for i in quotes:\n",
    "    quote = i.find('span', class_ = 'text').get_text()\n",
    "    author = i.find('small', class_ = 'author').get_text()\n",
    "    data.append({'Author': author, 'Quote': quote})"
   ]
  },
  {
   "cell_type": "code",
   "execution_count": 7,
   "id": "9cd7eae5",
   "metadata": {},
   "outputs": [],
   "source": [
    "df = pd.DataFrame(data, columns = ['Author', 'Quote'])"
   ]
  },
  {
   "cell_type": "code",
   "execution_count": 8,
   "id": "25f98ff2",
   "metadata": {},
   "outputs": [
    {
     "data": {
      "text/html": [
       "<div>\n",
       "<style scoped>\n",
       "    .dataframe tbody tr th:only-of-type {\n",
       "        vertical-align: middle;\n",
       "    }\n",
       "\n",
       "    .dataframe tbody tr th {\n",
       "        vertical-align: top;\n",
       "    }\n",
       "\n",
       "    .dataframe thead th {\n",
       "        text-align: right;\n",
       "    }\n",
       "</style>\n",
       "<table border=\"1\" class=\"dataframe\">\n",
       "  <thead>\n",
       "    <tr style=\"text-align: right;\">\n",
       "      <th></th>\n",
       "      <th>Author</th>\n",
       "      <th>Quote</th>\n",
       "    </tr>\n",
       "  </thead>\n",
       "  <tbody>\n",
       "    <tr>\n",
       "      <th>0</th>\n",
       "      <td>Albert Einstein</td>\n",
       "      <td>“The world as we have created it is a process ...</td>\n",
       "    </tr>\n",
       "    <tr>\n",
       "      <th>1</th>\n",
       "      <td>J.K. Rowling</td>\n",
       "      <td>“It is our choices, Harry, that show what we t...</td>\n",
       "    </tr>\n",
       "    <tr>\n",
       "      <th>2</th>\n",
       "      <td>Albert Einstein</td>\n",
       "      <td>“There are only two ways to live your life. On...</td>\n",
       "    </tr>\n",
       "    <tr>\n",
       "      <th>3</th>\n",
       "      <td>Jane Austen</td>\n",
       "      <td>“The person, be it gentleman or lady, who has ...</td>\n",
       "    </tr>\n",
       "    <tr>\n",
       "      <th>4</th>\n",
       "      <td>Marilyn Monroe</td>\n",
       "      <td>“Imperfection is beauty, madness is genius and...</td>\n",
       "    </tr>\n",
       "    <tr>\n",
       "      <th>5</th>\n",
       "      <td>Albert Einstein</td>\n",
       "      <td>“Try not to become a man of success. Rather be...</td>\n",
       "    </tr>\n",
       "    <tr>\n",
       "      <th>6</th>\n",
       "      <td>André Gide</td>\n",
       "      <td>“It is better to be hated for what you are tha...</td>\n",
       "    </tr>\n",
       "    <tr>\n",
       "      <th>7</th>\n",
       "      <td>Thomas A. Edison</td>\n",
       "      <td>“I have not failed. I've just found 10,000 way...</td>\n",
       "    </tr>\n",
       "    <tr>\n",
       "      <th>8</th>\n",
       "      <td>Eleanor Roosevelt</td>\n",
       "      <td>“A woman is like a tea bag; you never know how...</td>\n",
       "    </tr>\n",
       "    <tr>\n",
       "      <th>9</th>\n",
       "      <td>Steve Martin</td>\n",
       "      <td>“A day without sunshine is like, you know, nig...</td>\n",
       "    </tr>\n",
       "  </tbody>\n",
       "</table>\n",
       "</div>"
      ],
      "text/plain": [
       "              Author                                              Quote\n",
       "0    Albert Einstein  “The world as we have created it is a process ...\n",
       "1       J.K. Rowling  “It is our choices, Harry, that show what we t...\n",
       "2    Albert Einstein  “There are only two ways to live your life. On...\n",
       "3        Jane Austen  “The person, be it gentleman or lady, who has ...\n",
       "4     Marilyn Monroe  “Imperfection is beauty, madness is genius and...\n",
       "5    Albert Einstein  “Try not to become a man of success. Rather be...\n",
       "6         André Gide  “It is better to be hated for what you are tha...\n",
       "7   Thomas A. Edison  “I have not failed. I've just found 10,000 way...\n",
       "8  Eleanor Roosevelt  “A woman is like a tea bag; you never know how...\n",
       "9       Steve Martin  “A day without sunshine is like, you know, nig..."
      ]
     },
     "execution_count": 8,
     "metadata": {},
     "output_type": "execute_result"
    }
   ],
   "source": [
    "df"
   ]
  },
  {
   "cell_type": "markdown",
   "id": "5f82bf25",
   "metadata": {},
   "source": [
    "## oxylabs"
   ]
  },
  {
   "cell_type": "code",
   "execution_count": 55,
   "id": "d71ac2de",
   "metadata": {},
   "outputs": [],
   "source": [
    "from oxylabs_scraper import fetch_products"
   ]
  },
  {
   "cell_type": "code",
   "execution_count": 56,
   "id": "773cea3f",
   "metadata": {},
   "outputs": [],
   "source": [
    "url = 'https://sandbox.oxylabs.io/products'"
   ]
  },
  {
   "cell_type": "code",
   "execution_count": 57,
   "id": "462099d6",
   "metadata": {},
   "outputs": [],
   "source": [
    "df = fetch_products(url)"
   ]
  },
  {
   "cell_type": "code",
   "execution_count": 58,
   "id": "e107732d",
   "metadata": {},
   "outputs": [
    {
     "name": "stdout",
     "output_type": "stream",
     "text": [
      "<class 'pandas.core.frame.DataFrame'>\n",
      "RangeIndex: 32 entries, 0 to 31\n",
      "Data columns (total 2 columns):\n",
      " #   Column  Non-Null Count  Dtype \n",
      "---  ------  --------------  ----- \n",
      " 0   Name    32 non-null     object\n",
      " 1   Price   32 non-null     object\n",
      "dtypes: object(2)\n",
      "memory usage: 644.0+ bytes\n"
     ]
    }
   ],
   "source": [
    "df.info()"
   ]
  },
  {
   "cell_type": "code",
   "execution_count": 42,
   "id": "e2414148",
   "metadata": {},
   "outputs": [],
   "source": [
    "content = driver.page_source\n",
    "\n",
    "soup = BeautifulSoup(content, 'html.parser')"
   ]
  },
  {
   "cell_type": "code",
   "execution_count": 43,
   "id": "aa6359d5",
   "metadata": {},
   "outputs": [],
   "source": [
    "names = []"
   ]
  },
  {
   "cell_type": "code",
   "execution_count": 44,
   "id": "d094ef2d",
   "metadata": {},
   "outputs": [],
   "source": [
    "prices = []"
   ]
  },
  {
   "cell_type": "code",
   "execution_count": 45,
   "id": "dfa433db",
   "metadata": {},
   "outputs": [],
   "source": [
    "for element in soup.find_all(attrs = {'class' : 'product-card'}):\n",
    "    name = element.find('h4')\n",
    "    names.append(name.text)"
   ]
  },
  {
   "cell_type": "code",
   "execution_count": 46,
   "id": "f71f1822",
   "metadata": {},
   "outputs": [],
   "source": [
    "for element in soup.find_all(attrs = {'class' : 'product-card'}):\n",
    "    price = element. find('div', class_ = 'price-wrapper')\n",
    "    prices.append(price.text)"
   ]
  },
  {
   "cell_type": "code",
   "execution_count": 48,
   "id": "92e18c94",
   "metadata": {},
   "outputs": [],
   "source": [
    "df = pd.DataFrame({'Name' : names, 'Price' : prices})"
   ]
  },
  {
   "cell_type": "code",
   "execution_count": 50,
   "id": "56d978d6",
   "metadata": {},
   "outputs": [
    {
     "name": "stdout",
     "output_type": "stream",
     "text": [
      "<class 'pandas.core.frame.DataFrame'>\n",
      "RangeIndex: 32 entries, 0 to 31\n",
      "Data columns (total 2 columns):\n",
      " #   Column  Non-Null Count  Dtype \n",
      "---  ------  --------------  ----- \n",
      " 0   Name    32 non-null     object\n",
      " 1   Price   32 non-null     object\n",
      "dtypes: object(2)\n",
      "memory usage: 644.0+ bytes\n"
     ]
    }
   ],
   "source": [
    "df.info()"
   ]
  },
  {
   "cell_type": "markdown",
   "id": "c4797ee2",
   "metadata": {},
   "source": [
    "# horses"
   ]
  },
  {
   "cell_type": "code",
   "execution_count": 10,
   "id": "cbfa9269",
   "metadata": {},
   "outputs": [],
   "source": [
    "url = 'https://racing.hkjc.com/racing/information/Chinese/Horse/LatestOnHorse.aspx?View=Horses/clas/'\n",
    "\n",
    "driver = webdriver.Chrome()\n",
    "\n",
    "driver.get(url)"
   ]
  },
  {
   "cell_type": "code",
   "execution_count": 11,
   "id": "a45392af",
   "metadata": {},
   "outputs": [],
   "source": [
    "results = []"
   ]
  },
  {
   "cell_type": "code",
   "execution_count": 12,
   "id": "53c56558",
   "metadata": {},
   "outputs": [],
   "source": [
    "content = driver.page_source\n",
    "\n",
    "soup = BeautifulSoup(content, 'html.parser')"
   ]
  },
  {
   "cell_type": "code",
   "execution_count": 15,
   "id": "be2f94aa",
   "metadata": {},
   "outputs": [],
   "source": [
    "for element in soup.find_all(attrs = {'class' : 'table'}):\n",
    "    name = element.find('td')\n",
    "    print(name)\n",
    "    if name not in results:\n",
    "        results.append"
   ]
  },
  {
   "cell_type": "code",
   "execution_count": 16,
   "id": "34b72c78",
   "metadata": {},
   "outputs": [
    {
     "data": {
      "text/plain": [
       "[]"
      ]
     },
     "execution_count": 16,
     "metadata": {},
     "output_type": "execute_result"
    }
   ],
   "source": [
    "results"
   ]
  },
  {
   "cell_type": "code",
   "execution_count": 4,
   "id": "222911f3",
   "metadata": {},
   "outputs": [
    {
     "name": "stdout",
     "output_type": "stream",
     "text": [
      "Error finding table: Message: \n",
      "Stacktrace:\n",
      "\tGetHandleVerifier [0x0x7ff7876f6f75+76917]\n",
      "\tGetHandleVerifier [0x0x7ff7876f6fd0+77008]\n",
      "\t(No symbol) [0x0x7ff7874a9dea]\n",
      "\t(No symbol) [0x0x7ff787500256]\n",
      "\t(No symbol) [0x0x7ff78750050c]\n",
      "\t(No symbol) [0x0x7ff787553887]\n",
      "\t(No symbol) [0x0x7ff7875284af]\n",
      "\t(No symbol) [0x0x7ff78755065c]\n",
      "\t(No symbol) [0x0x7ff787528243]\n",
      "\t(No symbol) [0x0x7ff7874f1431]\n",
      "\t(No symbol) [0x0x7ff7874f21c3]\n",
      "\tGetHandleVerifier [0x0x7ff7879cd2ad+3051437]\n",
      "\tGetHandleVerifier [0x0x7ff7879c7903+3028483]\n",
      "\tGetHandleVerifier [0x0x7ff7879e589d+3151261]\n",
      "\tGetHandleVerifier [0x0x7ff78771183e+185662]\n",
      "\tGetHandleVerifier [0x0x7ff7877196ff+218111]\n",
      "\tGetHandleVerifier [0x0x7ff7876ffaf4+112628]\n",
      "\tGetHandleVerifier [0x0x7ff7876ffca9+113065]\n",
      "\tGetHandleVerifier [0x0x7ff7876e6c78+10616]\n",
      "\tBaseThreadInitThunk [0x0x7ff9399d7bd4+20]\n",
      "\tRtlUserThreadStart [0x0x7ff93a82ced1+33]\n",
      "\n"
     ]
    }
   ],
   "source": [
    "from selenium import webdriver\n",
    "from selenium.webdriver.common.by import By\n",
    "from selenium.webdriver.support.ui import WebDriverWait\n",
    "from selenium.webdriver.support import expected_conditions as EC\n",
    "\n",
    "driver = webdriver.Chrome()\n",
    "driver.get('https://racing.hkjc.com/racing/information/Chinese/Horse/LatestOnHorse.aspx?View=Horses/clas/')\n",
    "\n",
    "try:\n",
    "    wait = WebDriverWait(driver, 30)\n",
    "    \n",
    "    # CORRECT: Use CSS selector with chained classes\n",
    "    table = wait.until(EC.presence_of_element_located((By.CSS_SELECTOR, 'table.table.report_body_small')))\n",
    "    \n",
    "    print(\"Table found successfully!\")\n",
    "    \n",
    "except Exception as e:\n",
    "    print(f\"Error finding table: {e}\")\n",
    "finally:\n",
    "    driver.quit()"
   ]
  },
  {
   "cell_type": "code",
   "execution_count": 22,
   "id": "325f38dd",
   "metadata": {},
   "outputs": [],
   "source": [
    "# Initialize the WebDriver\n",
    "driver = webdriver.Edge()\n",
    "\n",
    "# Define the URL to scrape\n",
    "url = 'https://racing.hkjc.com/racing/information/Chinese/Horse/LatestOnHorse.aspx?View=Horses/clas/'\n",
    "\n",
    "# Open the webpage\n",
    "driver.get(url)\n"
   ]
  },
  {
   "cell_type": "code",
   "execution_count": 23,
   "id": "03969d1f",
   "metadata": {},
   "outputs": [
    {
     "name": "stdout",
     "output_type": "stream",
     "text": [
      "Error finding table: Message: \n",
      "Stacktrace:\n",
      "\tGetHandleVerifier [0x0x7ff7c49b81f5+23461]\n",
      "\t(No symbol) [0x0x7ff7c490c2e0]\n",
      "\tGetHandleVerifier [0x0x7ff7c4c30128+2611928]\n",
      "\t(No symbol) [0x0x7ff7c47291a8]\n",
      "\t(No symbol) [0x0x7ff7c472946b]\n",
      "\t(No symbol) [0x0x7ff7c4769a67]\n",
      "\t(No symbol) [0x0x7ff7c474a6ff]\n",
      "\t(No symbol) [0x0x7ff7c471f58d]\n",
      "\t(No symbol) [0x0x7ff7c476754f]\n",
      "\t(No symbol) [0x0x7ff7c474a423]\n",
      "\t(No symbol) [0x0x7ff7c471ea86]\n",
      "\t(No symbol) [0x0x7ff7c471dd11]\n",
      "\t(No symbol) [0x0x7ff7c471e8b3]\n",
      "\t(No symbol) [0x0x7ff7c481dd3d]\n",
      "\t(No symbol) [0x0x7ff7c482b0c8]\n",
      "\tGetHandleVerifier [0x0x7ff7c4a9803b+940523]\n",
      "\tGetHandleVerifier [0x0x7ff7c4aa0d91+976705]\n",
      "\t(No symbol) [0x0x7ff7c4919ed1]\n",
      "\t(No symbol) [0x0x7ff7c49128b4]\n",
      "\t(No symbol) [0x0x7ff7c4912a03]\n",
      "\t(No symbol) [0x0x7ff7c49044a6]\n",
      "\tBaseThreadInitThunk [0x0x7ff9399d7bd4+20]\n",
      "\tRtlUserThreadStart [0x0x7ff93a82ced1+33]\n",
      "\n"
     ]
    }
   ],
   "source": [
    "try:\n",
    "    # Wait for the table element to be present\n",
    "    wait = WebDriverWait(driver, 30)\n",
    "    \n",
    "    # Using multiple class names (recommended)\n",
    "    table = wait.until(EC.presence_of_element_located((By.CSS_SELECTOR, 'tbody')))\n",
    "    \n",
    "    # Alternative approaches:\n",
    "    # table = wait.until(EC.presence_of_element_located((By.CSS_SELECTOR, \"table[class='table report_body_small']\")))\n",
    "    \n",
    "    print(\"Table found successfully!\")\n",
    "    \n",
    "except Exception as e:\n",
    "    print(f\"Error finding table: {e}\")\n",
    "    driver.save_screenshot(\"table_not_found.png\")\n",
    "    \n",
    "finally:\n",
    "    driver.quit()"
   ]
  },
  {
   "cell_type": "code",
   "execution_count": 14,
   "id": "abfb0b8f",
   "metadata": {},
   "outputs": [],
   "source": [
    "horses = driver.find_elements(By.CSS_SELECTOR, 'title')"
   ]
  },
  {
   "cell_type": "code",
   "execution_count": 18,
   "id": "015d07a7",
   "metadata": {},
   "outputs": [
    {
     "name": "stdout",
     "output_type": "stream",
     "text": [
      "\n"
     ]
    }
   ],
   "source": [
    "for title in horses:\n",
    "    print(title.text)"
   ]
  },
  {
   "cell_type": "code",
   "execution_count": 19,
   "id": "f8ccc947",
   "metadata": {},
   "outputs": [
    {
     "data": {
      "text/plain": [
       "[<selenium.webdriver.remote.webelement.WebElement (session=\"a42dd38a1f7207082519ee262c54d095\", element=\"f.34CABF4B29C4D23BC7D0F17F0D34AD44.d.E193C14B732E54892D5EBEADBC367FAA.e.188\")>]"
      ]
     },
     "execution_count": 19,
     "metadata": {},
     "output_type": "execute_result"
    }
   ],
   "source": [
    "horses"
   ]
  },
  {
   "cell_type": "code",
   "execution_count": null,
   "id": "dc916c35",
   "metadata": {},
   "outputs": [],
   "source": []
  }
 ],
 "metadata": {
  "kernelspec": {
   "display_name": "ml1",
   "language": "python",
   "name": "python3"
  },
  "language_info": {
   "codemirror_mode": {
    "name": "ipython",
    "version": 3
   },
   "file_extension": ".py",
   "mimetype": "text/x-python",
   "name": "python",
   "nbconvert_exporter": "python",
   "pygments_lexer": "ipython3",
   "version": "3.11.11"
  }
 },
 "nbformat": 4,
 "nbformat_minor": 5
}
